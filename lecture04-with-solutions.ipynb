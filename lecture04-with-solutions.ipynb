{
 "cells": [
  {
   "cell_type": "markdown",
   "id": "4d3ef485",
   "metadata": {
    "slideshow": {
     "slide_type": "slide"
    }
   },
   "source": [
    "# Python Crash Course IDSP 2025 - Lecture 04\n",
    "\n",
    "Contents:\n",
    "* Lecture 3 Recap + more details on methods for sets, lists, tuples\n",
    "* for & while loops\n",
    "* `dict` data type (dictionaries)"
   ]
  },
  {
   "cell_type": "markdown",
   "id": "46f83d61",
   "metadata": {
    "slideshow": {
     "slide_type": "slide"
    }
   },
   "source": [
    "\n",
    "## What we did last time:\n",
    "\n",
    "* `if-elif-else` conditional statements\n",
    "* `def`ining our own functions\n",
    "* new data types: `tuple`, `set`\n",
    "* methods (=functions that are being called ON objects)"
   ]
  },
  {
   "cell_type": "markdown",
   "id": "e86b2587",
   "metadata": {
    "slideshow": {
     "slide_type": "slide"
    }
   },
   "source": [
    "# Kind of a recap: methods for sets"
   ]
  },
  {
   "cell_type": "code",
   "execution_count": 1,
   "id": "afffbf87",
   "metadata": {
    "slideshow": {
     "slide_type": "slide"
    }
   },
   "outputs": [
    {
     "data": {
      "text/plain": [
       "{1, 2, 35}"
      ]
     },
     "execution_count": 1,
     "metadata": {},
     "output_type": "execute_result"
    }
   ],
   "source": [
    "# We can ADD objects\n",
    "my_set = {1, 2}\n",
    "my_set.add(35) # THIS CHANGES THE my_set OBJECT!!!\n",
    "my_set"
   ]
  },
  {
   "cell_type": "code",
   "execution_count": null,
   "id": "98dc4ff2",
   "metadata": {
    "slideshow": {
     "slide_type": "slide"
    }
   },
   "outputs": [],
   "source": [
    "#We can REMOVE objects\n",
    "my_set = {7,8,9}\n",
    "my_set.remove(8) # THIS CHANGES THE my_set OBJECT!!!\n",
    "my_set"
   ]
  },
  {
   "cell_type": "code",
   "execution_count": 2,
   "id": "cc2427a5",
   "metadata": {
    "slideshow": {
     "slide_type": "slide"
    }
   },
   "outputs": [
    {
     "data": {
      "text/plain": [
       "{2, 3, 4, 5}"
      ]
     },
     "execution_count": 2,
     "metadata": {},
     "output_type": "execute_result"
    }
   ],
   "source": [
    "# we can \"pop\" one object from the set... \n",
    "# \"pop\" returns that object AND removes it from the set.\n",
    "my_set = {1, 2, 3, 4, 5}\n",
    "my_set.pop() # THIS CHANGES THE my_set OBJECT!!!\n",
    "my_set"
   ]
  },
  {
   "cell_type": "code",
   "execution_count": 3,
   "id": "f8433441",
   "metadata": {
    "slideshow": {
     "slide_type": "slide"
    }
   },
   "outputs": [
    {
     "name": "stdout",
     "output_type": "stream",
     "text": [
      "\u001b[31mSignature:\u001b[39m set.pop(self, /)\n",
      "\u001b[31mDocstring:\u001b[39m\n",
      "Remove and return an arbitrary set element.\n",
      "\n",
      "Raises KeyError if the set is empty.\n",
      "\u001b[31mType:\u001b[39m      method_descriptor"
     ]
    }
   ],
   "source": [
    "?set.pop"
   ]
  },
  {
   "cell_type": "code",
   "execution_count": null,
   "id": "a2bb08db",
   "metadata": {
    "slideshow": {
     "slide_type": "slide"
    }
   },
   "outputs": [],
   "source": [
    "# we can \"pop\" one object from the set... \n",
    "# \"pop\" returns that object AND removes it from the set.\n",
    "my_set = {1, 2, 3, 4, 5}\n",
    "print(my_set) # my_set before popping\n",
    "popped_object = my_set.pop() \n",
    "print(\"popped out: \", popped_object) # the popped object\n",
    "print(my_set) # my_set after popping"
   ]
  },
  {
   "cell_type": "markdown",
   "id": "276e33a8",
   "metadata": {
    "slideshow": {
     "slide_type": "slide"
    }
   },
   "source": [
    "# Methods in Python - soft intro\n",
    "\n",
    "With sets, we used:\n",
    "\n",
    "* `my_set.remove()` to remove an item from the set\n",
    "* `my_set.add()` to add an item to the set\n",
    "* `my_set.pop()` to pop an item from the set\n",
    "\n",
    "`.remove()`, `.add()`, and `.pop()` are **methods** that \"belong\" to sets.\n",
    "\n",
    "A method is a function that you can **call on an object**, using the notation\n",
    "\n",
    "# `object.method()`"
   ]
  },
  {
   "cell_type": "markdown",
   "id": "35ac1549",
   "metadata": {
    "slideshow": {
     "slide_type": "slide"
    }
   },
   "source": [
    "# Methods for the data type `tuple`\n",
    "\n",
    "`.count()`, `.index()`"
   ]
  },
  {
   "cell_type": "code",
   "execution_count": null,
   "id": "edff09f7",
   "metadata": {
    "slideshow": {
     "slide_type": "slide"
    }
   },
   "outputs": [],
   "source": [
    "my_tuple = (0, 0, 0, 5, 6, 7, \"a\", \"a\")\n",
    "my_tuple.count(\"a\")"
   ]
  },
  {
   "cell_type": "code",
   "execution_count": null,
   "id": "71be3050",
   "metadata": {
    "slideshow": {
     "slide_type": "slide"
    }
   },
   "outputs": [],
   "source": [
    "my_tuple = (0, 0, 0, 5, 6, 7, \"a\", \"a\")\n",
    "my_tuple.index(\"a\")"
   ]
  },
  {
   "cell_type": "markdown",
   "id": "68a94f48",
   "metadata": {
    "slideshow": {
     "slide_type": "slide"
    }
   },
   "source": [
    "# Methods for the data type `list`\n",
    "\n",
    "`.append()`, `.remove()`, `.index()`, `count()`, `.reverse()`, `.sort()`, `.pop()`"
   ]
  },
  {
   "cell_type": "code",
   "execution_count": 4,
   "id": "f43c6943",
   "metadata": {
    "slideshow": {
     "slide_type": "slide"
    }
   },
   "outputs": [
    {
     "data": {
      "text/plain": [
       "[1, 4, 28, 9, 0, 1, 666]"
      ]
     },
     "execution_count": 4,
     "metadata": {},
     "output_type": "execute_result"
    }
   ],
   "source": [
    "# .append(object) appends an object to the list (in the last position)\n",
    "my_list = [1,4,28,9,0,1]\n",
    "my_list.append(666) # this CHANGES THE LIST OBJECT\n",
    "my_list"
   ]
  },
  {
   "cell_type": "code",
   "execution_count": 5,
   "id": "8d5bad2e",
   "metadata": {
    "slideshow": {
     "slide_type": "slide"
    }
   },
   "outputs": [
    {
     "data": {
      "text/plain": [
       "0"
      ]
     },
     "execution_count": 5,
     "metadata": {},
     "output_type": "execute_result"
    }
   ],
   "source": [
    "# .index(object) gives back the index of the FIRST APPEARANCE of the object\n",
    "my_list = [1,4,28,9,0,1]\n",
    "my_list.index(1)"
   ]
  },
  {
   "cell_type": "code",
   "execution_count": null,
   "id": "24a90200",
   "metadata": {
    "slideshow": {
     "slide_type": "slide"
    }
   },
   "outputs": [],
   "source": [
    "# .remove(object) removes THE FIRST APPEARANCE of an object from the list\n",
    "my_list = [1,4,28,9,0,1]\n",
    "my_list.remove(1) # this CHANGES THE LIST OBJECT\n",
    "my_list"
   ]
  },
  {
   "cell_type": "code",
   "execution_count": 6,
   "id": "d5e4987b",
   "metadata": {
    "slideshow": {
     "slide_type": "slide"
    }
   },
   "outputs": [
    {
     "data": {
      "text/plain": [
       "2"
      ]
     },
     "execution_count": 6,
     "metadata": {},
     "output_type": "execute_result"
    }
   ],
   "source": [
    "# .count(object) counts the number of times the object appears in the list\n",
    "my_list = [1,4,28,9,0,1]\n",
    "my_list.count(1)"
   ]
  },
  {
   "cell_type": "code",
   "execution_count": 7,
   "id": "9b866639",
   "metadata": {
    "slideshow": {
     "slide_type": "slide"
    }
   },
   "outputs": [
    {
     "data": {
      "text/plain": [
       "[55, 19, 10, 6, 2, 1]"
      ]
     },
     "execution_count": 7,
     "metadata": {},
     "output_type": "execute_result"
    }
   ],
   "source": [
    "# .reverse reverses the list order \n",
    "my_list = [1,2,6,10,19,55]\n",
    "my_list.reverse() # THIS CHANGES THE LIST OBJECT\n",
    "my_list"
   ]
  },
  {
   "cell_type": "code",
   "execution_count": 8,
   "id": "92929fc1",
   "metadata": {
    "slideshow": {
     "slide_type": "slide"
    }
   },
   "outputs": [
    {
     "data": {
      "text/plain": [
       "[0, 1, 1, 4, 9, 28]"
      ]
     },
     "execution_count": 8,
     "metadata": {},
     "output_type": "execute_result"
    }
   ],
   "source": [
    "# .sort() sorts the list\n",
    "my_list = [1,4,28,9,0,1]\n",
    "my_list.sort() # THIS CHANGES THE LIST OBJECT\n",
    "my_list"
   ]
  },
  {
   "cell_type": "code",
   "execution_count": 9,
   "id": "d461e908",
   "metadata": {
    "slideshow": {
     "slide_type": "slide"
    }
   },
   "outputs": [
    {
     "name": "stdout",
     "output_type": "stream",
     "text": [
      "1\n",
      "[1, 4, 28, 9, 0]\n"
     ]
    }
   ],
   "source": [
    "my_list = [1,4,28,9,0,1]\n",
    "popped_element = my_list.pop()\n",
    "print(popped_element)\n",
    "print(my_list)"
   ]
  },
  {
   "cell_type": "markdown",
   "id": "31845bbe",
   "metadata": {
    "slideshow": {
     "slide_type": "slide"
    }
   },
   "source": [
    "# Try it out yourself!\n",
    "\n",
    "We defined a list and a set for you. They both contain all characters, including whitespaces, of the string `\"All good things come to an end.\"`\n",
    "\n",
    "```python\n",
    "my_list = ['A', 'l', 'l', ' ','g', 'o', 'o', 'd', ' ', 't', 'h', 'i', 'n', 'g', 's', ' ', 'c', 'o', 'm', 'e', ' ', 't', 'o', ' ', 'a', 'n', ' ', 'e', 'n', 'd']\n",
    "my_set = {'A', 'l', 'l', ' ','g', 'o', 'o', 'd', ' ', 't', 'h', 'i', 'n', 'g', 's', ' ', 'c', 'o', 'm', 'e', ' ', 't', 'o', ' ', 'a', 'n', ' ', 'e', 'n', 'd'}\n",
    "```\n",
    "\n",
    "* What are the `len()`s of `my_list` and of `my_set`? Why are they different?\n",
    "* What is the index of the first appearance of `o` in `my_list`?\n",
    "* How many times does the letter `o` appear in the list?\n",
    "* Why is there no \"count\" method for the set?\n",
    "* Can you find a way to check whether the letter `b` is in the set?\n",
    "* Sort the list alphabetically!\n",
    "* What is the index of the first appearance of `o` now?\n"
   ]
  },
  {
   "cell_type": "code",
   "execution_count": 10,
   "id": "3369c516",
   "metadata": {
    "slideshow": {
     "slide_type": "slide"
    }
   },
   "outputs": [],
   "source": [
    "# run this cell to define the variables \"my_list\" and \"my_set\"\n",
    "my_list = ['A', 'l', 'l', ' ','g', 'o', 'o', 'd', ' ', 't', 'h', 'i', 'n', 'g', 's', ' ', 'c', 'o', 'm', 'e', ' ', 't', 'o', ' ', 'a', 'n', ' ', 'e', 'n', 'd']\n",
    "my_set = {'A', 'l', 'l', ' ','g', 'o', 'o', 'd', ' ', 't', 'h', 'i', 'n', 'g', 's', ' ', 'c', 'o', 'm', 'e', ' ', 't', 'o', ' ', 'a', 'n', ' ', 'e', 'n', 'd'}"
   ]
  },
  {
   "cell_type": "code",
   "execution_count": 11,
   "id": "7f3a873b",
   "metadata": {
    "slideshow": {
     "slide_type": "slide"
    }
   },
   "outputs": [
    {
     "name": "stdout",
     "output_type": "stream",
     "text": [
      "30\n",
      "15\n",
      "length are different because set de-duplicates all items\n"
     ]
    }
   ],
   "source": [
    "# What are the `len()`s of `my_list` and of `my_set`? Why are they different?\n",
    "# lengths are different because...\n",
    "print(len(my_list))\n",
    "print(len(my_set))\n",
    "print(\"length are different because set de-duplicates all items\")"
   ]
  },
  {
   "cell_type": "code",
   "execution_count": null,
   "id": "9a3e5388",
   "metadata": {
    "slideshow": {
     "slide_type": "slide"
    }
   },
   "outputs": [],
   "source": [
    "# What is the index of the first appearance of `o` in `my_list`?\n",
    "my_list.index(\"o\")"
   ]
  },
  {
   "cell_type": "code",
   "execution_count": null,
   "id": "87b7c940",
   "metadata": {
    "slideshow": {
     "slide_type": "slide"
    }
   },
   "outputs": [],
   "source": [
    "# How many times does the letter `o` appear in the list?\n",
    "my_list.count(\"o\")"
   ]
  },
  {
   "cell_type": "code",
   "execution_count": null,
   "id": "ae945bec",
   "metadata": {
    "slideshow": {
     "slide_type": "slide"
    }
   },
   "outputs": [],
   "source": [
    "# why is there no no count method for the set?\n",
    "# because by definition items are unique so they either appear once, or not at all"
   ]
  },
  {
   "cell_type": "code",
   "execution_count": null,
   "id": "8e13185c",
   "metadata": {
    "slideshow": {
     "slide_type": "slide"
    }
   },
   "outputs": [],
   "source": [
    "# check whether \"b\" is in the set or not\n",
    "\"b\" in my_set\n",
    "# or: list(my_set).count(\"b\") -- will give 0 or 1"
   ]
  },
  {
   "cell_type": "code",
   "execution_count": null,
   "id": "0475e6f2",
   "metadata": {
    "slideshow": {
     "slide_type": "slide"
    }
   },
   "outputs": [],
   "source": [
    "# sort alphabetically\n",
    "my_list.sort() # this changes the list object!\n",
    "my_list"
   ]
  },
  {
   "cell_type": "code",
   "execution_count": null,
   "id": "32b9803e",
   "metadata": {
    "slideshow": {
     "slide_type": "slide"
    }
   },
   "outputs": [],
   "source": [
    "# what is the index of the first appearance of \"o\" now?\n",
    "my_list.index(\"o\")"
   ]
  },
  {
   "cell_type": "markdown",
   "id": "8d011209",
   "metadata": {
    "slideshow": {
     "slide_type": "slide"
    }
   },
   "source": [
    "***\n",
    "\n",
    "# `for` loops 🫨"
   ]
  },
  {
   "cell_type": "code",
   "execution_count": null,
   "id": "b0d2b351",
   "metadata": {
    "slideshow": {
     "slide_type": "slide"
    }
   },
   "outputs": [],
   "source": [
    "weekday_list = [\"mon\", \"tue\", \"wed\", \"thu\", \"fri\", \"sat\", \"sun\"]\n",
    "print(weekday_list[0])\n",
    "print(weekday_list[1])\n",
    "print(weekday_list[2])\n",
    "print(weekday_list[3])\n",
    "print(weekday_list[4])\n",
    "print(weekday_list[5])\n",
    "print(weekday_list[6])\n",
    "# argh! is there a way to make this shorter?\n",
    "# yes of course"
   ]
  },
  {
   "cell_type": "code",
   "execution_count": 12,
   "id": "ed3e3cd9",
   "metadata": {
    "slideshow": {
     "slide_type": "slide"
    }
   },
   "outputs": [
    {
     "name": "stdout",
     "output_type": "stream",
     "text": [
      "mon\n",
      "tue\n",
      "wed\n",
      "thu\n",
      "fri\n",
      "sat\n",
      "sun\n"
     ]
    }
   ],
   "source": [
    "# We can \"ITERATE\" over a list\n",
    "weekday_list = [\"mon\", \"tue\", \"wed\", \"thu\", \"fri\", \"sat\", \"sun\"]\n",
    "for day in weekday_list:\n",
    "    print(day)\n",
    "# note the syntax!"
   ]
  },
  {
   "cell_type": "code",
   "execution_count": 13,
   "id": "ceea8d9f",
   "metadata": {
    "slideshow": {
     "slide_type": "slide"
    }
   },
   "outputs": [
    {
     "name": "stdout",
     "output_type": "stream",
     "text": [
      "1\n",
      "2\n",
      "3\n",
      "4\n",
      "5\n",
      "6\n",
      "7\n"
     ]
    }
   ],
   "source": [
    "# We can \"ITERATE\" OVER a list\n",
    "mylist = [1, 2, 3, 4, 5, 6, 7]\n",
    "for number in mylist:\n",
    "    print(number)\n",
    "# note that it doesn't matter what we call the variable!\n",
    "# the above is equivalent to:\n",
    "# for x in mylist:\n",
    "#     print(x)"
   ]
  },
  {
   "cell_type": "code",
   "execution_count": 14,
   "id": "eb6682c9",
   "metadata": {
    "slideshow": {
     "slide_type": "slide"
    }
   },
   "outputs": [
    {
     "name": "stdout",
     "output_type": "stream",
     "text": [
      "1\n",
      "4\n",
      "9\n"
     ]
    }
   ],
   "source": [
    "# We can \"ITERATE\" OVER a list\n",
    "mylist = [1, 2, 3, 4, 5, 6, 7]\n",
    "for x in mylist:\n",
    "    if x < 4:\n",
    "        print(x**2) # and DO SOMETHING WITH the object\n",
    "    "
   ]
  },
  {
   "cell_type": "code",
   "execution_count": 15,
   "id": "b950fb70",
   "metadata": {
    "slideshow": {
     "slide_type": "slide"
    }
   },
   "outputs": [
    {
     "name": "stdout",
     "output_type": "stream",
     "text": [
      "10\n",
      "20\n",
      "30\n",
      "40\n",
      "50\n",
      "60\n",
      "70\n"
     ]
    }
   ],
   "source": [
    "# We can \"ITERATE\" OVER a list\n",
    "mylist = [1, 2, 3, 4, 5, 6, 7]\n",
    "for x in mylist:\n",
    "    print(x*10) # and DO SOMETHING WITH the object"
   ]
  },
  {
   "cell_type": "code",
   "execution_count": 17,
   "id": "a4130616",
   "metadata": {
    "slideshow": {
     "slide_type": "slide"
    }
   },
   "outputs": [
    {
     "name": "stdout",
     "output_type": "stream",
     "text": [
      "hello!\n",
      "hello!\n",
      "hello!\n",
      "hello!\n",
      "hello!\n",
      "hello!\n",
      "hello!\n"
     ]
    }
   ],
   "source": [
    "# but we do not NEED to do anything to that object \n",
    "for i in [1,2,3,4,5,6,7]:\n",
    "    print(\"hello!\")\n",
    "# for i in [\"mon\", \"tue\", \"wed\", \"thu\", \"fri\", \"sat\", \"sun\"]:\n",
    "#     print(\"hello!\")\n",
    "# both of these for loops will \"just\" print the str \"hello!\" seven times."
   ]
  },
  {
   "cell_type": "code",
   "execution_count": 33,
   "id": "036969bd",
   "metadata": {
    "slideshow": {
     "slide_type": "slide"
    }
   },
   "outputs": [
    {
     "name": "stdout",
     "output_type": "stream",
     "text": [
      "lolo 1\n",
      "lolo 2\n",
      "lolo 3\n",
      "lolo 4\n",
      "lolo 5\n",
      "lolo 6\n",
      "lolo 7\n"
     ]
    }
   ],
   "source": [
    "# if we just need the number of iterations, not the object itself, \n",
    "# it is common to use an underscore as a \"placeholder\":\n",
    "for _ in [1,2,3,4,5,6,7]:\n",
    "    print(\"lolo\", _)"
   ]
  },
  {
   "cell_type": "code",
   "execution_count": 19,
   "id": "b381d481",
   "metadata": {
    "slideshow": {
     "slide_type": "slide"
    }
   },
   "outputs": [
    {
     "name": "stdout",
     "output_type": "stream",
     "text": [
      "0\n",
      "still in the for loop\n",
      "1\n",
      "still in the for loop\n",
      "2\n",
      "still in the for loop\n",
      "3\n",
      "still in the for loop\n",
      "now we have exited the for-loop above\n"
     ]
    }
   ],
   "source": [
    "# same as with if/else:\n",
    "# indented lines after \"for\" are part of the for loop; \n",
    "# stop indenting to return to the main block of code:\n",
    "\n",
    "for i in [0,1,2,3]:\n",
    "    print(i)\n",
    "    print(\"still in the for loop\")\n",
    "\n",
    "print(\"now we have exited the for-loop above\")"
   ]
  },
  {
   "cell_type": "code",
   "execution_count": 20,
   "id": "3b860d53",
   "metadata": {
    "slideshow": {
     "slide_type": "slide"
    }
   },
   "outputs": [
    {
     "name": "stdout",
     "output_type": "stream",
     "text": [
      "0\n",
      "1\n",
      "2\n",
      "3\n",
      "4\n",
      "5\n",
      "6\n",
      "7\n",
      "8\n",
      "9\n",
      "10\n"
     ]
    }
   ],
   "source": [
    "# is there a more practical way to do this?\n",
    "\n",
    "for i in [0,1,2,3,4,5,6,7,8,9,10]:\n",
    "    print(i)\n",
    "\n",
    "# spoiler: YES. it's called \"range\""
   ]
  },
  {
   "cell_type": "code",
   "execution_count": 23,
   "id": "eb4e7f8b",
   "metadata": {
    "slideshow": {
     "slide_type": "slide"
    }
   },
   "outputs": [
    {
     "data": {
      "text/plain": [
       "range"
      ]
     },
     "execution_count": 23,
     "metadata": {},
     "output_type": "execute_result"
    }
   ],
   "source": [
    "# range(integer) creates a RANGE from 0 up to, \n",
    "# but NOT INCLUDING that integer\n",
    "range(10)\n",
    "# range is its own data type\n",
    "type(range(10))"
   ]
  },
  {
   "cell_type": "code",
   "execution_count": 24,
   "id": "19d824ed",
   "metadata": {
    "slideshow": {
     "slide_type": "slide"
    }
   },
   "outputs": [
    {
     "name": "stdout",
     "output_type": "stream",
     "text": [
      "0\n",
      "1\n",
      "2\n",
      "3\n",
      "4\n",
      "5\n",
      "6\n",
      "7\n",
      "8\n",
      "9\n"
     ]
    }
   ],
   "source": [
    "# range can be ITERATED OVER\n",
    "for i in range(10):\n",
    "    print(i)\n",
    "# note that range(x) includes all integers from 0 up to, but NOT INCLUDING x\n",
    "# since python starts counting at 0: range(x) will give exactly X iterations."
   ]
  },
  {
   "cell_type": "code",
   "execution_count": 34,
   "id": "ceb9821f",
   "metadata": {
    "slideshow": {
     "slide_type": "slide"
    }
   },
   "outputs": [
    {
     "name": "stdout",
     "output_type": "stream",
     "text": [
      "3\n",
      "4\n",
      "5\n",
      "6\n"
     ]
    }
   ],
   "source": [
    "# range() starts at 0 by default; \n",
    "# we can tell range to start somewhere else;\n",
    "for i in range(3,7):\n",
    "    print(i)\n",
    "    "
   ]
  },
  {
   "cell_type": "code",
   "execution_count": 35,
   "id": "8adbda45",
   "metadata": {
    "slideshow": {
     "slide_type": "slide"
    }
   },
   "outputs": [
    {
     "name": "stdout",
     "output_type": "stream",
     "text": [
      "5\n",
      "15\n",
      "25\n",
      "35\n",
      "45\n",
      "55\n",
      "65\n",
      "75\n",
      "85\n",
      "95\n",
      "105\n",
      "115\n"
     ]
    }
   ],
   "source": [
    "# range() counts +1 at each step by default;\n",
    "# we can tell range to use a different step size:\n",
    "for i in range(5,125,10):\n",
    "    print(i)"
   ]
  },
  {
   "cell_type": "code",
   "execution_count": 25,
   "id": "6821e221",
   "metadata": {
    "slideshow": {
     "slide_type": "slide"
    }
   },
   "outputs": [
    {
     "name": "stdout",
     "output_type": "stream",
     "text": [
      "H\n",
      "a\n",
      "p\n",
      "p\n",
      "y\n",
      " \n",
      "b\n",
      "i\n",
      "r\n",
      "t\n",
      "h\n",
      "d\n",
      "a\n",
      "y\n"
     ]
    }
   ],
   "source": [
    "# we have already tried iterating over (using the for loop)\n",
    "# for lists, and range objects. we can do the same for strings:\n",
    "for letter in \"Happy birthday\":\n",
    "    print(letter)"
   ]
  },
  {
   "cell_type": "code",
   "execution_count": 26,
   "id": "75d0374b",
   "metadata": {
    "slideshow": {
     "slide_type": "slide"
    }
   },
   "outputs": [
    {
     "name": "stdout",
     "output_type": "stream",
     "text": [
      "2\n",
      "3\n",
      "4\n"
     ]
    }
   ],
   "source": [
    "# we can also iterate over tuples:\n",
    "for x in (2, 3, 4):\n",
    "    print(x)"
   ]
  },
  {
   "cell_type": "code",
   "execution_count": 28,
   "id": "0ff83649",
   "metadata": {
    "slideshow": {
     "slide_type": "slide"
    }
   },
   "outputs": [
    {
     "name": "stdout",
     "output_type": "stream",
     "text": [
      "5\n",
      "6\n",
      "7\n"
     ]
    }
   ],
   "source": [
    "# ... and we can iterate over sets:\n",
    "for item in {5, 6, 7}:\n",
    "    print(item)"
   ]
  },
  {
   "cell_type": "code",
   "execution_count": 29,
   "id": "da002fd4",
   "metadata": {
    "slideshow": {
     "slide_type": "slide"
    }
   },
   "outputs": [
    {
     "ename": "TypeError",
     "evalue": "'int' object is not iterable",
     "output_type": "error",
     "traceback": [
      "\u001b[31m---------------------------------------------------------------------------\u001b[39m",
      "\u001b[31mTypeError\u001b[39m                                 Traceback (most recent call last)",
      "\u001b[36mCell\u001b[39m\u001b[36m \u001b[39m\u001b[32mIn[29]\u001b[39m\u001b[32m, line 2\u001b[39m\n\u001b[32m      1\u001b[39m \u001b[38;5;66;03m# what you can NOT iterate over:\u001b[39;00m\n\u001b[32m----> \u001b[39m\u001b[32m2\u001b[39m \u001b[38;5;28;43;01mfor\u001b[39;49;00m\u001b[43m \u001b[49m\u001b[43mnumber\u001b[49m\u001b[43m \u001b[49m\u001b[38;5;129;43;01min\u001b[39;49;00m\u001b[43m \u001b[49m\u001b[32;43m5\u001b[39;49m\u001b[43m:\u001b[49m\u001b[43m \u001b[49m\u001b[38;5;66;43;03m# ints, floats, booleans\u001b[39;49;00m\n\u001b[32m      3\u001b[39m \u001b[43m     \u001b[49m\u001b[38;5;28;43mprint\u001b[39;49m\u001b[43m(\u001b[49m\u001b[43mnumber\u001b[49m\u001b[43m)\u001b[49m \u001b[38;5;66;03m# this throws an error message. \u001b[39;00m\n\u001b[32m      4\u001b[39m \u001b[38;5;66;03m# those are usually also the objects that have NO LENGTH!\u001b[39;00m\n\u001b[32m      5\u001b[39m \u001b[38;5;66;03m# len(5)\u001b[39;00m\n",
      "\u001b[31mTypeError\u001b[39m: 'int' object is not iterable"
     ]
    }
   ],
   "source": [
    "# what you can NOT iterate over:\n",
    "for number in 5: # ints, floats, booleans\n",
    "     print(number) # this throws an error message. \n",
    "# those are usually also the objects that have NO LENGTH!\n",
    "# len(5)"
   ]
  },
  {
   "cell_type": "markdown",
   "id": "e2e4680d",
   "metadata": {
    "slideshow": {
     "slide_type": "slide"
    }
   },
   "source": [
    "# Try it out yourself!\n",
    "\n",
    "* Make a list of your 4 favourite foods (as strings).\n",
    "* With the help of a for loop, print out \"I love XYZ\" four times. (replace X by the food item on the list). \n",
    "* **Hint:** remember you can use the `+` operator to concatenate (combine) strings.\n",
    "\n",
    "Your output should look something like this:\n",
    "```\n",
    "I love jollof\n",
    "I love couscous\n",
    "I love pelmeni\n",
    "I love pilav\n",
    "```\n"
   ]
  },
  {
   "cell_type": "code",
   "execution_count": 36,
   "id": "897bc51c",
   "metadata": {
    "slideshow": {
     "slide_type": "slide"
    }
   },
   "outputs": [
    {
     "name": "stdout",
     "output_type": "stream",
     "text": [
      "I love jollof\n",
      "I love couscous\n",
      "I love pelmeni\n",
      "I love pilav\n"
     ]
    }
   ],
   "source": [
    "# make a list of four favourite foods\n",
    "foods = [\"jollof\", \"couscous\", \"pelmeni\", \"pilav\"]\n",
    "\n",
    "for food in foods:\n",
    "    print(\"I love \" + food)\n",
    "\n",
    "# make a for loop and print out the food at each step"
   ]
  },
  {
   "cell_type": "markdown",
   "id": "15258ad9",
   "metadata": {
    "slideshow": {
     "slide_type": "slide"
    }
   },
   "source": [
    "## for-loops \"leak\":\n",
    "\n",
    "The current value of the loop variable will \"leak\" (become available) once the for-loop ends. "
   ]
  },
  {
   "cell_type": "code",
   "execution_count": 30,
   "id": "6d936d95",
   "metadata": {
    "slideshow": {
     "slide_type": "slide"
    }
   },
   "outputs": [
    {
     "name": "stdout",
     "output_type": "stream",
     "text": [
      "in for-loop: a\n",
      "in for-loop: b\n",
      "in for-loop: c\n",
      "in for-loop: d\n",
      "after for-loop: d\n"
     ]
    }
   ],
   "source": [
    "for x in [\"a\", \"b\", \"c\", \"d\"]:\n",
    "    print(\"in for-loop:\", x) \n",
    "\n",
    "# the last value of x has \"LEAKED\":\n",
    "print(\"after for-loop:\", x)"
   ]
  },
  {
   "cell_type": "code",
   "execution_count": 31,
   "id": "ef3dcdad",
   "metadata": {
    "slideshow": {
     "slide_type": "slide"
    }
   },
   "outputs": [
    {
     "name": "stdout",
     "output_type": "stream",
     "text": [
      "before for-loop: efghij\n",
      "in for-loop: a\n",
      "in for-loop: b\n",
      "in for-loop: c\n",
      "in for-loop: d\n",
      "after for-loop: d\n"
     ]
    }
   ],
   "source": [
    "# THE LOOP VARIABLE \"LEAKS\"\n",
    "# ... even if it was defined with a different value before!\n",
    "x = \"efghij\"\n",
    "print(\"before for-loop:\", x)\n",
    "\n",
    "for x in [\"a\", \"b\", \"c\", \"d\"]:\n",
    "    print(\"in for-loop:\", x) # just a fancy way of saying \"do nothing\"\n",
    "    # x takes on the values \"a\", \"b\", \"c\", \"d\" at each iteration step\n",
    "\n",
    "# the last value of loop_var has \"LEAKED\":\n",
    "print(\"after for-loop:\", x)"
   ]
  },
  {
   "cell_type": "markdown",
   "id": "298e2782",
   "metadata": {
    "slideshow": {
     "slide_type": "slide"
    }
   },
   "source": [
    "## `for` loop syntax in Python\n",
    "\n",
    "```python\n",
    "for variable in iterable_object:\n",
    "    statement\n",
    "```\n",
    "\n",
    "**iterable objects (sequences):** `list`; `range`; `str`; `set`; `tuple`"
   ]
  },
  {
   "cell_type": "markdown",
   "id": "55c0de2b",
   "metadata": {
    "slideshow": {
     "slide_type": "slide"
    }
   },
   "source": [
    "## `for` loop syntax in Python\n",
    "\n",
    "```python\n",
    "for variable in iterable_object:\n",
    "    statement\n",
    "```\n",
    "\n",
    "**Quiz:** How many times will the statement be executed (= how many *iterations* does the for loop have) if:\n",
    "* a. `iterable_object = [1,2]` (a list)\n",
    "* b. `iterable_object = (\"red\", \"blue\", \"yellow\", \"orange\", \"green\")` (a tuple)\n",
    "* c. `iterable_object = \"no justice\"` (a string)\n",
    "* d. `iterable_object = {\"no justice\", \"no peace\"}` (a set)\n",
    "* e. `iterable_object = range(7)` (a range)\n",
    "* f. `iterable_object = 10` (an int)"
   ]
  },
  {
   "cell_type": "code",
   "execution_count": null,
   "id": "b8dbe197",
   "metadata": {
    "slideshow": {
     "slide_type": "slide"
    }
   },
   "outputs": [],
   "source": [
    "# len()...."
   ]
  },
  {
   "cell_type": "markdown",
   "id": "95aaf770",
   "metadata": {
    "slideshow": {
     "slide_type": "slide"
    }
   },
   "source": [
    "***\n",
    "\n",
    "# `while` loops 😜"
   ]
  },
  {
   "cell_type": "code",
   "execution_count": 37,
   "id": "5253b3dd",
   "metadata": {
    "slideshow": {
     "slide_type": "slide"
    }
   },
   "outputs": [
    {
     "name": "stdout",
     "output_type": "stream",
     "text": [
      "hello!\n"
     ]
    }
   ],
   "source": [
    "# the code after \"if\" is executed ONCE, IF the condition is True.\n",
    "x = 5\n",
    "if x == 5:\n",
    "    print(\"hello!\") "
   ]
  },
  {
   "cell_type": "code",
   "execution_count": 38,
   "id": "62abc53f",
   "metadata": {
    "slideshow": {
     "slide_type": "slide"
    }
   },
   "outputs": [
    {
     "name": "stdout",
     "output_type": "stream",
     "text": [
      "hello!\n",
      "hello!\n",
      "hello!\n",
      "hello!\n",
      "hello!\n"
     ]
    }
   ],
   "source": [
    "# the code after \"for\" is executed 3 times (len of iterable).\n",
    "for x in range(5):\n",
    "    print(\"hello!\")"
   ]
  },
  {
   "cell_type": "code",
   "execution_count": null,
   "id": "01862800",
   "metadata": {
    "slideshow": {
     "slide_type": "slide"
    }
   },
   "outputs": [],
   "source": [
    "### DO NOT RUN THIS CELL!!! ###\n",
    "# how to make our computer work FOREVER: just replace \"if\" by \"while\".\n",
    "# the code after \"while\" is executed WHILE (AS LONG AS) the condition is True.\n",
    "# x = 5\n",
    "# while x == 5:\n",
    "#     print(\"i'm stuck in a while loop!\")"
   ]
  },
  {
   "cell_type": "code",
   "execution_count": 39,
   "id": "c1bb1735",
   "metadata": {
    "slideshow": {
     "slide_type": "slide"
    }
   },
   "outputs": [],
   "source": [
    "# how to move on from the while loop?!\n",
    "# option 1: the condition must change INSIDE the while loop\n",
    "i = 0\n",
    "while i < 5: \n",
    "    # print(\"i is: \", i)\n",
    "    i = i + 1 # at each step, we CHANGE the condition that is evaluated"
   ]
  },
  {
   "cell_type": "code",
   "execution_count": 40,
   "id": "26c898ad",
   "metadata": {
    "slideshow": {
     "slide_type": "slide"
    }
   },
   "outputs": [
    {
     "name": "stdout",
     "output_type": "stream",
     "text": [
      "i is:  0\n",
      "i is:  1\n",
      "i is:  2\n",
      "i is:  3\n",
      "i is:  4\n"
     ]
    }
   ],
   "source": [
    "# how to move on from the while loop?!\n",
    "# option 1: the condition must change INSIDE the while loop\n",
    "i = 0\n",
    "while i < 5: # NOTE THAT to use \"i\" here, we must FIRST define it!\n",
    "    print(\"i is: \", i)\n",
    "    i = i + 1 # at each step, we CHANGE the condition that is evaluated"
   ]
  },
  {
   "cell_type": "code",
   "execution_count": 41,
   "id": "e1235d22",
   "metadata": {
    "slideshow": {
     "slide_type": "slide"
    }
   },
   "outputs": [
    {
     "name": "stdout",
     "output_type": "stream",
     "text": [
      "0 (i before)\n",
      "1 (i after)\n",
      "\n",
      "\n",
      "1 (i before)\n",
      "2 (i after)\n",
      "\n",
      "\n",
      "2 (i before)\n",
      "3 (i after)\n",
      "\n",
      "\n",
      "3 (i before)\n",
      "4 (i after)\n",
      "\n",
      "\n",
      "4 (i before)\n",
      "5 (i after)\n",
      "\n",
      "\n"
     ]
    }
   ],
   "source": [
    "# how to stop the while loop?!\n",
    "# the condition must change *within* the while loop\n",
    "i = 0\n",
    "while i < 5:\n",
    "    print(i, \"(i before)\") # value of i at the beginning of the iteration step\n",
    "    i = i + 1 # at each step, we CHANGE the condition that is evaluated\n",
    "    print(i, \"(i after)\") # value of i at the end of the iteration step\n",
    "    print(\"\\n\") # print an emtpy line"
   ]
  },
  {
   "cell_type": "code",
   "execution_count": 42,
   "id": "055ad93d",
   "metadata": {
    "slideshow": {
     "slide_type": "slide"
    }
   },
   "outputs": [
    {
     "name": "stdout",
     "output_type": "stream",
     "text": [
      "1\n",
      "2\n",
      "3\n",
      "4\n",
      "5\n"
     ]
    }
   ],
   "source": [
    "# how to stop the while loop?\n",
    "# while with object as condition;\n",
    "# while loop will stop once the object is empty \n",
    "# (and its boolean value becomes False)\n",
    "my_set = {1, 2, 3, 4, 5}\n",
    "while my_set: # boolean value of my_set\n",
    "    x = my_set.pop() # remove one item from the set at each step\n",
    "    print(x)"
   ]
  },
  {
   "cell_type": "code",
   "execution_count": null,
   "id": "7c0b2b8b",
   "metadata": {
    "slideshow": {
     "slide_type": "slide"
    }
   },
   "outputs": [],
   "source": [
    "# how to stop the while loop?\n",
    "# option 2: with an \"if ...: break\" statement\n",
    "x = 0\n",
    "while True: # this will go on FOREVER,\n",
    "    x = x + 1\n",
    "    print(x)\n",
    "    if x > 10: # UNLESS this condition is true,\n",
    "        break # THEN IT WILL STOP\n",
    "    "
   ]
  },
  {
   "cell_type": "code",
   "execution_count": 43,
   "id": "3638c10b",
   "metadata": {
    "slideshow": {
     "slide_type": "slide"
    }
   },
   "outputs": [
    {
     "name": "stdout",
     "output_type": "stream",
     "text": [
      "sheep number:  1\n",
      "sheep number:  2\n",
      "sheep number:  3\n",
      "sheep number:  4\n",
      "sheep number:  5\n",
      "sheep number:  6\n",
      "sheep number:  7\n",
      "sheep number:  8\n",
      "I'm asleep now!\n"
     ]
    }
   ],
   "source": [
    "# how to stop the while loop?\n",
    "# option 2: with an \"if ...: break\" statement\n",
    "sheep = 0 # \"counting sheep\"\n",
    "asleep = 8 # i need to count 8 sheep to fall asleep\n",
    "while True:\n",
    "    sheep = sheep + 1 \n",
    "    print(\"sheep number: \", sheep)\n",
    "    if sheep == asleep:\n",
    "        print(\"I'm asleep now!\")\n",
    "        break"
   ]
  },
  {
   "cell_type": "code",
   "execution_count": 44,
   "id": "bba6f1eb",
   "metadata": {
    "slideshow": {
     "slide_type": "slide"
    }
   },
   "outputs": [
    {
     "name": "stdout",
     "output_type": "stream",
     "text": [
      "0\n",
      "1\n",
      "2\n",
      "3\n",
      "4\n"
     ]
    }
   ],
   "source": [
    "# by the way, this also works to break out of for loops\n",
    "for i in range(10):\n",
    "    print(i)\n",
    "    if i > 3:\n",
    "         break"
   ]
  },
  {
   "cell_type": "markdown",
   "id": "8f287432",
   "metadata": {
    "slideshow": {
     "slide_type": "slide"
    }
   },
   "source": [
    "## `while` loop syntax in Python\n",
    "\n",
    "```python\n",
    "while condition:\n",
    "    statement # (which modifies the condition! - otherwise you're stuck 4ever)\n",
    "\n",
    "### or, slightly more sophisticated\n",
    "\n",
    "while condition1:\n",
    "    statement\n",
    "    if condition2:\n",
    "        break\n",
    "```"
   ]
  },
  {
   "cell_type": "markdown",
   "id": "e2937bdf",
   "metadata": {
    "slideshow": {
     "slide_type": "slide"
    }
   },
   "source": [
    "# Try it out yourself!\n",
    "\n",
    "### 1. Make a `for` loop that adds together all numbers in a list \n",
    "\n",
    "**Hint:** before the `for` loop, define a variable `my_sum` and set it to `0`.\n",
    "\n",
    "### 2. Make a `while` loop that adds together all integers starting from 0 into the variable `my_sum`, and ends once `my_sum` reaches at least `1000`. \n",
    "\n",
    "**Hint:** before the `while` loop, \n",
    "* define a variable `i` and set it to `0`; `i`  will increase by `+1` at each iteration step.\n",
    "* define a variable `my_sum` and set it to `0`; `my_sum` should increase first by `+1`, then by `+2`, then by `+3` ... at each iteration step. "
   ]
  },
  {
   "cell_type": "code",
   "execution_count": 48,
   "id": "43360f5a",
   "metadata": {
    "slideshow": {
     "slide_type": "slide"
    }
   },
   "outputs": [
    {
     "name": "stdout",
     "output_type": "stream",
     "text": [
      "28\n"
     ]
    }
   ],
   "source": [
    "# Try it out yourself: sum all the numbers in a list with a for-loop\n",
    "my_sum = 0\n",
    "my_list = [0, 1, 2, 3, 4, 5, 6, 7]\n",
    "# for loop to add all numbers in a list together\n",
    "my_sum = 0\n",
    "my_list = [0, 1, 2, 3, 4, 5, 6, 7]\n",
    "for x in my_list:\n",
    "    my_sum = my_sum + x\n",
    "print(my_sum)\n",
    "# print(my_sum) # should be 28!"
   ]
  },
  {
   "cell_type": "code",
   "execution_count": 49,
   "id": "724fb614",
   "metadata": {
    "slideshow": {
     "slide_type": "slide"
    }
   },
   "outputs": [
    {
     "name": "stdout",
     "output_type": "stream",
     "text": [
      "45 1035\n"
     ]
    }
   ],
   "source": [
    "# Try it out yourself: sum all integers until you reach 1000 with a while loop\n",
    "\n",
    "## OPTION 1\n",
    "my_sum = 0\n",
    "i = 0\n",
    "while my_sum < 1000:\n",
    "    i = i + 1\n",
    "    my_sum = my_sum + i\n",
    "\n",
    "print(i, my_sum)\n",
    "\n",
    "# don't forget to break!"
   ]
  },
  {
   "cell_type": "code",
   "execution_count": 50,
   "id": "c4c6fb81",
   "metadata": {},
   "outputs": [
    {
     "name": "stdout",
     "output_type": "stream",
     "text": [
      "45 1035\n"
     ]
    }
   ],
   "source": [
    "## OPTION 2\n",
    "my_sum = 0\n",
    "i = 0\n",
    "while True:\n",
    "    i += 1\n",
    "    my_sum += i\n",
    "    if my_sum >= 1000:\n",
    "        break\n",
    "\n",
    "print(i, my_sum)\n"
   ]
  },
  {
   "cell_type": "markdown",
   "id": "9e166fcb",
   "metadata": {
    "slideshow": {
     "slide_type": "slide"
    }
   },
   "source": [
    "***\n",
    "# The data type dictionary `dict`\n",
    "\n",
    "\"A collection of key-value pairs, with unique keys\""
   ]
  },
  {
   "cell_type": "code",
   "execution_count": null,
   "id": "5869c513",
   "metadata": {
    "slideshow": {
     "slide_type": "slide"
    }
   },
   "outputs": [],
   "source": [
    "# how can we store PAIRS of data?\n",
    "countries = [\"ethiopia\", \"indonesia\", \"peru\", \"czech republic\"]\n",
    "capitals = [\"addis ababa\", \"jakarta\", \"lima\", \"prague\"]\n",
    "\n",
    "# pairs of country-capital have the same index:\n",
    "print(countries[2])\n",
    "print(capitals[2])\n",
    "print(\"the capital of\", countries[2],\"is\", capitals[2])\n"
   ]
  },
  {
   "cell_type": "code",
   "execution_count": null,
   "id": "1c9bb6ed",
   "metadata": {
    "slideshow": {
     "slide_type": "slide"
    }
   },
   "outputs": [],
   "source": [
    "# how can we store PAIRS of data?\n",
    "countries = [\"ethiopia\", \"indonesia\", \"peru\", \"czech republic\"]\n",
    "capitals = [\"addis ababa\", \"jakarta\", \"lima\", \"prague\"]\n",
    "\n",
    "i = 0 # the items that belong together have the same listindex\n",
    "\n",
    "print(\n",
    "    \"the capital of\", \n",
    "    countries[i], \n",
    "    \"is\", \n",
    "    capitals[i]\n",
    "    )\n"
   ]
  },
  {
   "cell_type": "code",
   "execution_count": 52,
   "id": "fd2e561e",
   "metadata": {
    "slideshow": {
     "slide_type": "slide"
    }
   },
   "outputs": [
    {
     "data": {
      "text/plain": [
       "{'ethiopia': 'addis ababa',\n",
       " 'indonesia': 'jakarta',\n",
       " 'peru': 'lima',\n",
       " 'czech republic': 'prague'}"
      ]
     },
     "execution_count": 52,
     "metadata": {},
     "output_type": "execute_result"
    }
   ],
   "source": [
    "# \"there MUST be a better way to do this!\"\n",
    "# enter the data type DICTIONARY: \n",
    "# denoted by curly brackets. \n",
    "# each ITEM of the dictionary is a key:value pair.\n",
    "my_dict = {\n",
    "    \"ethiopia\": \"addis ababa\", # key is \"ethiopia\", the corresponding value is \"addis ababa\"\n",
    "    \"indonesia\": \"jakarta\",\n",
    "    \"peru\": \"lima\",\n",
    "    \"czech republic\": \"prague\"\n",
    "} \n",
    "my_dict"
   ]
  },
  {
   "cell_type": "code",
   "execution_count": 53,
   "id": "a7a97d3a",
   "metadata": {
    "slideshow": {
     "slide_type": "slide"
    }
   },
   "outputs": [
    {
     "data": {
      "text/plain": [
       "dict"
      ]
     },
     "execution_count": 53,
     "metadata": {},
     "output_type": "execute_result"
    }
   ],
   "source": [
    "# check the new data type:\n",
    "type(my_dict)"
   ]
  },
  {
   "cell_type": "code",
   "execution_count": 54,
   "id": "a6c99d40",
   "metadata": {
    "slideshow": {
     "slide_type": "slide"
    }
   },
   "outputs": [
    {
     "data": {
      "text/plain": [
       "'addis ababa'"
      ]
     },
     "execution_count": 54,
     "metadata": {},
     "output_type": "execute_result"
    }
   ],
   "source": [
    "# inside the dict, the items are structured by key:value;\n",
    "# now we can LOOK UP a VALUE by its KEY:\n",
    "my_dict[\"ethiopia\"] "
   ]
  },
  {
   "cell_type": "code",
   "execution_count": null,
   "id": "b492b6e9",
   "metadata": {
    "slideshow": {
     "slide_type": "slide"
    }
   },
   "outputs": [],
   "source": [
    "# inside the dict, the items are structured by key:value;\n",
    "# now we can LOOK UP a VALUE by its KEY:\n",
    "my_dict[\"peru\"] "
   ]
  },
  {
   "cell_type": "code",
   "execution_count": 55,
   "id": "10dbb99e",
   "metadata": {
    "slideshow": {
     "slide_type": "slide"
    }
   },
   "outputs": [
    {
     "data": {
      "text/plain": [
       "dict_keys(['ethiopia', 'indonesia', 'peru', 'czech republic'])"
      ]
     },
     "execution_count": 55,
     "metadata": {},
     "output_type": "execute_result"
    }
   ],
   "source": [
    "# we can access the keys by the DICT METHOD .keys():\n",
    "my_dict.keys()"
   ]
  },
  {
   "cell_type": "code",
   "execution_count": null,
   "id": "13b74d24",
   "metadata": {
    "slideshow": {
     "slide_type": "slide"
    }
   },
   "outputs": [],
   "source": [
    "# we can access the values by the DICT METHOD .values():\n",
    "my_dict.values()"
   ]
  },
  {
   "cell_type": "code",
   "execution_count": null,
   "id": "e19aae63",
   "metadata": {
    "slideshow": {
     "slide_type": "slide"
    }
   },
   "outputs": [],
   "source": [
    "# we can access the ITEMS (key-value pairs) by the DICT METHOD .items():\n",
    "my_dict.items()"
   ]
  },
  {
   "cell_type": "code",
   "execution_count": 56,
   "id": "493b541c",
   "metadata": {
    "slideshow": {
     "slide_type": "slide"
    }
   },
   "outputs": [
    {
     "name": "stdout",
     "output_type": "stream",
     "text": [
      "ethiopia\n",
      "indonesia\n",
      "peru\n",
      "czech republic\n"
     ]
    }
   ],
   "source": [
    "# we can iterate over the keys of a dictionary:\n",
    "for x in my_dict.keys():\n",
    "    print(x)"
   ]
  },
  {
   "cell_type": "code",
   "execution_count": 57,
   "id": "fce3ab81",
   "metadata": {
    "slideshow": {
     "slide_type": "slide"
    }
   },
   "outputs": [
    {
     "name": "stdout",
     "output_type": "stream",
     "text": [
      "addis ababa\n",
      "jakarta\n",
      "lima\n",
      "prague\n"
     ]
    }
   ],
   "source": [
    "# we can iterate over the values of a dictionary:\n",
    "for v in my_dict.values():\n",
    "    print(v)"
   ]
  },
  {
   "cell_type": "code",
   "execution_count": 58,
   "id": "3319f190",
   "metadata": {
    "slideshow": {
     "slide_type": "slide"
    }
   },
   "outputs": [
    {
     "name": "stdout",
     "output_type": "stream",
     "text": [
      "the dict key is: ethiopia ; the dict value is: addis ababa\n",
      "the dict key is: indonesia ; the dict value is: jakarta\n",
      "the dict key is: peru ; the dict value is: lima\n",
      "the dict key is: czech republic ; the dict value is: prague\n"
     ]
    }
   ],
   "source": [
    "# we can iterate over the keys of a dictionary:\n",
    "for key in my_dict.keys():\n",
    "    print(\"the dict key is:\", key, \"; the dict value is:\", my_dict[key]) "
   ]
  },
  {
   "cell_type": "code",
   "execution_count": 59,
   "id": "4ce17a78",
   "metadata": {
    "slideshow": {
     "slide_type": "slide"
    }
   },
   "outputs": [
    {
     "name": "stdout",
     "output_type": "stream",
     "text": [
      "ethiopia\n",
      "addis ababa\n",
      "indonesia\n",
      "jakarta\n",
      "peru\n",
      "lima\n",
      "czech republic\n",
      "prague\n"
     ]
    }
   ],
   "source": [
    "# we can iterate over the ITEMS (keys AND values) of a dictionary.\n",
    "# the ITEMS come in pairs of 2 (key, value), so we need 2 for loop variables:\n",
    "for key, value in my_dict.items():\n",
    "    print(key)\n",
    "    print(value)"
   ]
  },
  {
   "cell_type": "code",
   "execution_count": 61,
   "id": "8577066d",
   "metadata": {
    "slideshow": {
     "slide_type": "slide"
    }
   },
   "outputs": [
    {
     "name": "stdout",
     "output_type": "stream",
     "text": [
      "the capital of ethiopia is addis ababa\n",
      "the capital of indonesia is jakarta\n",
      "the capital of peru is lima\n",
      "the capital of czech republic is prague\n"
     ]
    }
   ],
   "source": [
    "# we can iterate over the ITEMS (keys AND values) of a dictionary:\n",
    "for x, y in my_dict.items():\n",
    "    print(\"the capital of \" + x + \" is \" + y)"
   ]
  },
  {
   "cell_type": "code",
   "execution_count": 62,
   "id": "40d88ca6",
   "metadata": {
    "slideshow": {
     "slide_type": "slide"
    }
   },
   "outputs": [
    {
     "name": "stdout",
     "output_type": "stream",
     "text": [
      "the capital of ethiopia is addis ababa\n",
      "the capital of indonesia is jakarta\n",
      "the capital of peru is lima\n",
      "the capital of czech republic is prague\n",
      "the capital of ethiopia is addis ababa\n",
      "the capital of indonesia is jakarta\n",
      "the capital of peru is lima\n",
      "the capital of czech republic is prague\n"
     ]
    }
   ],
   "source": [
    "# COMPARE THIS TO OUR INITIAL ATTEMPT TO STORE THE DATA IN 2 LISTS:\n",
    "\n",
    "my_dict = {\"ethiopia\": \"addis ababa\", \"indonesia\": \"jakarta\", \"peru\": \"lima\", \"czech republic\": \"prague\"} \n",
    "for key, value in my_dict.items():\n",
    "    print(\"the capital of \" + key + \" is \" + value)\n",
    "\n",
    "### VERSUS:\n",
    "\n",
    "countries = [\"ethiopia\", \"indonesia\", \"peru\", \"czech republic\"]\n",
    "capitals = [\"addis ababa\", \"jakarta\", \"lima\", \"prague\"]\n",
    "\n",
    "for i in range(len(countries)):     \n",
    "    print(\"the capital of \" + countries[i] + \" is \" + capitals[i])"
   ]
  },
  {
   "cell_type": "code",
   "execution_count": 63,
   "id": "a3a720df",
   "metadata": {
    "slideshow": {
     "slide_type": "slide"
    }
   },
   "outputs": [
    {
     "data": {
      "text/plain": [
       "250"
      ]
     },
     "execution_count": 63,
     "metadata": {},
     "output_type": "execute_result"
    }
   ],
   "source": [
    "# Values can be of any type!\n",
    "# bank movements per weekday\n",
    "bank_movements = {\n",
    "    \"monday\" : [15000, -750, -100],\n",
    "    \"tuesday\" : 250,\n",
    "    \"wednesday\" : [-200, 300]\n",
    "}\n",
    "# bank_movements\n",
    "#bank_movements[\"monday\"]\n",
    "bank_movements[\"tuesday\"]"
   ]
  },
  {
   "cell_type": "code",
   "execution_count": null,
   "id": "b33dc43e",
   "metadata": {
    "slideshow": {
     "slide_type": "slide"
    }
   },
   "outputs": [],
   "source": [
    "# if we try to use a non-existing key,\n",
    "# we get an error:\n",
    "bank_movements[\"thursday\"]"
   ]
  },
  {
   "cell_type": "code",
   "execution_count": 64,
   "id": "c9a12ba4",
   "metadata": {
    "slideshow": {
     "slide_type": "slide"
    }
   },
   "outputs": [
    {
     "data": {
      "text/plain": [
       "{'monday': [15000, -750, -100],\n",
       " 'tuesday': 250,\n",
       " 'wednesday': [-200, 300],\n",
       " 'thursday': 'on thursday, nothing happened'}"
      ]
     },
     "execution_count": 64,
     "metadata": {},
     "output_type": "execute_result"
    }
   ],
   "source": [
    "# To add an entry to the dictionary: \n",
    "# just assign a value to the new key like so:\n",
    "bank_movements[\"thursday\"] = \"on thursday, nothing happened\"\n",
    "bank_movements"
   ]
  },
  {
   "cell_type": "code",
   "execution_count": 65,
   "id": "79fad893",
   "metadata": {
    "slideshow": {
     "slide_type": "slide"
    }
   },
   "outputs": [
    {
     "data": {
      "text/plain": [
       "{'monday': [15000, -750, -100],\n",
       " 'tuesday': [125, 125],\n",
       " 'wednesday': [-200, 300],\n",
       " 'thursday': 'on thursday, nothing happened'}"
      ]
     },
     "execution_count": 65,
     "metadata": {},
     "output_type": "execute_result"
    }
   ],
   "source": [
    "# To update a key-value pair:\n",
    "bank_movements[\"tuesday\"] = [125, 125] # here we are reassigning a new value to this key\n",
    "bank_movements"
   ]
  },
  {
   "cell_type": "code",
   "execution_count": 66,
   "id": "2e211ca6",
   "metadata": {
    "slideshow": {
     "slide_type": "slide"
    }
   },
   "outputs": [
    {
     "data": {
      "text/plain": [
       "{'monday': [15000, -750, -100, 30],\n",
       " 'tuesday': [125, 125],\n",
       " 'wednesday': [-200, 300],\n",
       " 'thursday': 'on thursday, nothing happened'}"
      ]
     },
     "execution_count": 66,
     "metadata": {},
     "output_type": "execute_result"
    }
   ],
   "source": [
    "# To update a key-value pair:\n",
    "bank_movements[\"monday\"] += [30] # here we are updating the list stored as value\n",
    "bank_movements"
   ]
  },
  {
   "cell_type": "code",
   "execution_count": 67,
   "id": "10377f17",
   "metadata": {
    "slideshow": {
     "slide_type": "slide"
    }
   },
   "outputs": [
    {
     "data": {
      "text/plain": [
       "{'monday': [15000, -750, -100, 30],\n",
       " 'tuesday': [125, 125],\n",
       " 'wednesday': [-200],\n",
       " 'thursday': 'on thursday, nothing happened'}"
      ]
     },
     "execution_count": 67,
     "metadata": {},
     "output_type": "execute_result"
    }
   ],
   "source": [
    "# To update a key-value pair:\n",
    "bank_movements[\"wednesday\"].remove(300)\n",
    "bank_movements"
   ]
  },
  {
   "cell_type": "code",
   "execution_count": 68,
   "id": "9db2d40a",
   "metadata": {
    "slideshow": {
     "slide_type": "slide"
    }
   },
   "outputs": [
    {
     "data": {
      "text/plain": [
       "{'monday': [15000, -750, -100, 30], 'tuesday': [125, 125], 'wednesday': [-200]}"
      ]
     },
     "execution_count": 68,
     "metadata": {},
     "output_type": "execute_result"
    }
   ],
   "source": [
    "# To DELETE an entry from the dictionary:\n",
    "del bank_movements[\"thursday\"]\n",
    "bank_movements"
   ]
  },
  {
   "cell_type": "code",
   "execution_count": 69,
   "id": "69c40255",
   "metadata": {
    "slideshow": {
     "slide_type": "slide"
    }
   },
   "outputs": [
    {
     "data": {
      "text/plain": [
       "True"
      ]
     },
     "execution_count": 69,
     "metadata": {},
     "output_type": "execute_result"
    }
   ],
   "source": [
    "# To test if a key is in the dictionary:\n",
    "\"monday\" in bank_movements\n",
    "# this is short for:\n",
    "# \"monday\" in bank_movements.keys()\n",
    "# print(bank_movements)"
   ]
  },
  {
   "cell_type": "code",
   "execution_count": 70,
   "id": "a15e2d8b",
   "metadata": {
    "slideshow": {
     "slide_type": "slide"
    }
   },
   "outputs": [
    {
     "data": {
      "text/plain": [
       "True"
      ]
     },
     "execution_count": 70,
     "metadata": {},
     "output_type": "execute_result"
    }
   ],
   "source": [
    "# To test if a value is in the dictionary:\n",
    "[-200] in bank_movements.values()"
   ]
  },
  {
   "cell_type": "code",
   "execution_count": 71,
   "id": "66db5a71",
   "metadata": {
    "slideshow": {
     "slide_type": "slide"
    }
   },
   "outputs": [
    {
     "data": {
      "text/plain": [
       "dict"
      ]
     },
     "execution_count": 71,
     "metadata": {},
     "output_type": "execute_result"
    }
   ],
   "source": [
    "# Defining an empty dictionary, option 1:\n",
    "d = {} \n",
    "type(d)"
   ]
  },
  {
   "cell_type": "code",
   "execution_count": 72,
   "id": "35cacbd3",
   "metadata": {
    "slideshow": {
     "slide_type": "slide"
    }
   },
   "outputs": [
    {
     "data": {
      "text/plain": [
       "dict"
      ]
     },
     "execution_count": 72,
     "metadata": {},
     "output_type": "execute_result"
    }
   ],
   "source": [
    "# Defining an empty dictionary, option 2:\n",
    "d = dict()\n",
    "type(d)"
   ]
  },
  {
   "cell_type": "code",
   "execution_count": 73,
   "id": "12f86aff",
   "metadata": {
    "slideshow": {
     "slide_type": "slide"
    }
   },
   "outputs": [
    {
     "data": {
      "text/plain": [
       "{'ethiopia': 'addis ababa',\n",
       " 'indonesia': 'jakarta',\n",
       " 'peru': 'lima',\n",
       " 'czech republic': 'prague'}"
      ]
     },
     "execution_count": 73,
     "metadata": {},
     "output_type": "execute_result"
    }
   ],
   "source": [
    "# Defining a pre-filled dictionary, option 1: spelling it out\n",
    "my_dict = {\n",
    "    \"ethiopia\": \"addis ababa\",\n",
    "    \"indonesia\": \"jakarta\",\n",
    "    \"peru\": \"lima\",\n",
    "    \"czech republic\": \"prague\"\n",
    "} \n",
    "my_dict"
   ]
  },
  {
   "cell_type": "code",
   "execution_count": 74,
   "id": "9fb505ac",
   "metadata": {
    "slideshow": {
     "slide_type": "slide"
    }
   },
   "outputs": [
    {
     "data": {
      "text/plain": [
       "{'ethiopia': 'addis ababa',\n",
       " 'indonesia': 'jakarta',\n",
       " 'peru': 'lima',\n",
       " 'czech_republic': 'prague'}"
      ]
     },
     "execution_count": 74,
     "metadata": {},
     "output_type": "execute_result"
    }
   ],
   "source": [
    "# Defining a pre-filled dictionary, option 2:\n",
    "# We can also use the dict() function to create a dictionary:\n",
    "# dict(name1=value1, name2=value2, ...)\n",
    "\n",
    "my_dict = dict(\n",
    "    ethiopia = \"addis ababa\", # key is \"ethiopia\", the corresponding value is \"addis ababa\"\n",
    "    indonesia = \"jakarta\",\n",
    "    peru = \"lima\",\n",
    "    czech_republic = \"prague\" \n",
    ") \n",
    "my_dict"
   ]
  },
  {
   "cell_type": "markdown",
   "id": "34f2823e",
   "metadata": {
    "slideshow": {
     "slide_type": "slide"
    }
   },
   "source": [
    "# Try it out yourself\n",
    "\n",
    "Create a dictionary `menu` with days of the week as keys, and your dinner menu for that day as value. Then:\n",
    "* print out all keys of the `menu`\n",
    "* print out all values of `menu`\n",
    "* print out what you will eat on Friday\n",
    "* change your dinner on Saturday to `\"dining out!\"` \n",
    "* delete the key-value pair for Sunday from the dictionary"
   ]
  },
  {
   "cell_type": "code",
   "execution_count": 76,
   "id": "139d49fc",
   "metadata": {
    "slideshow": {
     "slide_type": "slide"
    }
   },
   "outputs": [],
   "source": [
    "menu = {\n",
    "    \"monday\": \"jollof\",\n",
    "    \"tuesday\": \"vegan kebab\",\n",
    "    \"wednesday\": \"lentil soup\",\n",
    "    \"thursday\": \"spaghetti\",\n",
    "    \"friday\": \"stew\",\n",
    "    \"saturday\": \"fruit salad\",\n",
    "    \"sunday\": \"sandwich\"\n",
    "}"
   ]
  },
  {
   "cell_type": "code",
   "execution_count": 77,
   "id": "1cd32821",
   "metadata": {},
   "outputs": [
    {
     "data": {
      "text/plain": [
       "dict_keys(['monday', 'tuesday', 'wednesday', 'thursday', 'friday', 'saturday', 'sunday'])"
      ]
     },
     "execution_count": 77,
     "metadata": {},
     "output_type": "execute_result"
    }
   ],
   "source": [
    "menu.keys()"
   ]
  },
  {
   "cell_type": "code",
   "execution_count": null,
   "id": "ce7cffa1",
   "metadata": {},
   "outputs": [],
   "source": [
    "menu.values()"
   ]
  },
  {
   "cell_type": "code",
   "execution_count": 78,
   "id": "a12dadee",
   "metadata": {},
   "outputs": [
    {
     "name": "stdout",
     "output_type": "stream",
     "text": [
      "stew\n"
     ]
    }
   ],
   "source": [
    "print(menu[\"friday\"])"
   ]
  },
  {
   "cell_type": "code",
   "execution_count": 79,
   "id": "6759bbd4",
   "metadata": {},
   "outputs": [
    {
     "data": {
      "text/plain": [
       "{'monday': 'jollof',\n",
       " 'tuesday': 'vegan kebab',\n",
       " 'wednesday': 'lentil soup',\n",
       " 'thursday': 'spaghetti',\n",
       " 'friday': 'stew',\n",
       " 'saturday': 'dining out!',\n",
       " 'sunday': 'sandwich'}"
      ]
     },
     "execution_count": 79,
     "metadata": {},
     "output_type": "execute_result"
    }
   ],
   "source": [
    "menu[\"saturday\"] = \"dining out!\" # this changes the value of the key saturday\n",
    "menu"
   ]
  },
  {
   "cell_type": "code",
   "execution_count": null,
   "id": "769eb9a6",
   "metadata": {},
   "outputs": [],
   "source": [
    "del menu[\"sunday\"] # this deletes the key-value pair for the key sunday\n",
    "menu"
   ]
  },
  {
   "cell_type": "markdown",
   "id": "c0cb360a",
   "metadata": {
    "slideshow": {
     "slide_type": "slide"
    }
   },
   "source": [
    "# Dictionaries in Python\n",
    "\n",
    "* dictionaries are **collections of key-value pairs** with **unique keys**\n",
    "* store pairs of data in a **structured** way, by entries of the form `key:value` \n",
    "* finding a key/value in a dictionary is **much more efficient** than finding an item in a list\n",
    "* denoted by curly brackets `{}` or `dict()`\n",
    "    * {key1:value1, key2:value2, ...}\n",
    "    * dict(name1=value1, name2=value2, ...)\n",
    "* rules for dictionary **keys**:\n",
    "    * *should* be of type `int`, `str` or ` tuple` (more details later)\n",
    "    * have to be unique (the same way a word can't appear twice in a dictionary)\n",
    "* rules for dictionary **values** \n",
    "    * can be of any type \n",
    "    * do not need to be unique (the same way two words (synonyms) can have the same meaning)"
   ]
  },
  {
   "cell_type": "markdown",
   "id": "95726907",
   "metadata": {
    "slideshow": {
     "slide_type": "slide"
    }
   },
   "source": [
    "# Dictionaries in Python\n",
    "\n",
    "* use a key to \"look up\" its value: `mydict[mykey]` returns the value that corresponds to `mykey`\n",
    "* to add or update a key:value pair: `mydict[mykey]=myvalue`\n",
    "* to delete a key:value pair: `del(mydict[mykey])`\n",
    "* to check whether a key is in the dictionary: `mykey in mydict` (short for: `mykey in mydict.keys()`)\n",
    "* to check whether a value is in the dictionary: `myvalue in mydict.values()`"
   ]
  },
  {
   "cell_type": "markdown",
   "id": "fc38d6fa",
   "metadata": {
    "slideshow": {
     "slide_type": "slide"
    }
   },
   "source": [
    "# Reminder: how to create...\n",
    "\n",
    "<style type=\"text/css\">\n",
    ".tg  {border-collapse:collapse;border-spacing:0;}\n",
    ".tg td{border-color:black;border-style:solid;border-width:1px;font-family:Arial, sans-serif;font-size:14px;\n",
    "  overflow:hidden;padding:10px 5px;word-break:normal;}\n",
    ".tg th{border-color:black;border-style:solid;border-width:1px;font-family:Arial, sans-serif;font-size:14px;\n",
    "  font-weight:normal;overflow:hidden;padding:10px 5px;word-break:normal;}\n",
    ".tg .tg-0lax{text-align:left;vertical-align:top}\n",
    "</style>\n",
    "<table class=\"tg\">\n",
    "<thead>\n",
    "  <tr>\n",
    "    <th class=\"tg-0lax\">AN EMPTY ....</th>\n",
    "    <th class=\"tg-0lax\">with brackets</th>\n",
    "    <th class=\"tg-0lax\">with function()</th>\n",
    "  </tr>\n",
    "</thead>\n",
    "<tbody>\n",
    "  <tr>\n",
    "    <td class=\"tg-0lax\">list</td>\n",
    "    <td class=\"tg-0lax\">[]</td>\n",
    "    <td class=\"tg-0lax\">list()</td>\n",
    "  </tr>\n",
    "  <tr>\n",
    "    <td class=\"tg-0lax\">tuple</td>\n",
    "    <td class=\"tg-0lax\">()</td>\n",
    "    <td class=\"tg-0lax\">tuple()</td>\n",
    "  </tr>\n",
    "  <tr>\n",
    "    <td class=\"tg-0lax\">set</td>\n",
    "    <td class=\"tg-0lax\"></td>\n",
    "    <td class=\"tg-0lax\">set()</td>\n",
    "  </tr>\n",
    "  <tr>\n",
    "    <td class=\"tg-0lax\">dict</td>\n",
    "    <td class=\"tg-0lax\">{}</td>\n",
    "    <td class=\"tg-0lax\">dict()</td>\n",
    "  </tr>\n",
    "</tbody>\n",
    "</table>"
   ]
  },
  {
   "cell_type": "markdown",
   "id": "efe968a7",
   "metadata": {
    "slideshow": {
     "slide_type": "slide"
    }
   },
   "source": [
    "# Reminder: how to create...\n",
    "\n",
    "<style type=\"text/css\">\n",
    ".tg  {border-collapse:collapse;border-spacing:0;}\n",
    ".tg td{border-color:black;border-style:solid;border-width:1px;font-family:Arial, sans-serif;font-size:14px;\n",
    "  overflow:hidden;padding:10px 5px;word-break:normal;}\n",
    ".tg th{border-color:black;border-style:solid;border-width:1px;font-family:Arial, sans-serif;font-size:14px;\n",
    "  font-weight:normal;overflow:hidden;padding:10px 5px;word-break:normal;}\n",
    ".tg .tg-0lax{text-align:left;vertical-align:top}\n",
    "</style>\n",
    "<table class=\"tg\">\n",
    "<thead>\n",
    "  <tr>\n",
    "    <th class=\"tg-0lax\">WITH ITEMS</th>\n",
    "    <th class=\"tg-0lax\">with brackets</th>\n",
    "    <th class=\"tg-0lax\">with function()</th>\n",
    "  </tr>\n",
    "</thead>\n",
    "<tbody>\n",
    "  <tr>\n",
    "    <td class=\"tg-0lax\">list</td>\n",
    "    <td class=\"tg-0lax\">[1, 2, 3]</td>\n",
    "    <td class=\"tg-0lax\">list((1,2,3))</td>\n",
    "  </tr>\n",
    "  <tr>\n",
    "    <td class=\"tg-0lax\">tuple</td>\n",
    "    <td class=\"tg-0lax\">(1, 2, 3)</td>\n",
    "    <td class=\"tg-0lax\">tuple([1,2,3])</td>\n",
    "  </tr>\n",
    "  <tr>\n",
    "    <td class=\"tg-0lax\">set</td>\n",
    "    <td class=\"tg-0lax\">{1, 2, 3}</td>\n",
    "    <td class=\"tg-0lax\">set([1,2,3])</td>\n",
    "  </tr>\n",
    "  <tr>\n",
    "    <td class=\"tg-0lax\">dict</td>\n",
    "    <td class=\"tg-0lax\">{key1: value1, <br>key2: value2, <br>key3: value3}</td>\n",
    "    <td class=\"tg-0lax\">dict(key1 = value1, <br>key2 = value2, <br>key3 = value3)</td>\n",
    "  </tr>\n",
    "</tbody>\n",
    "</table>\n",
    "\n",
    "**Note** that `list(), tuple(), set()` take only ONE argument!"
   ]
  },
  {
   "cell_type": "code",
   "execution_count": null,
   "id": "282412a9",
   "metadata": {
    "slideshow": {
     "slide_type": "slide"
    }
   },
   "outputs": [],
   "source": [
    "# list(), tuple(), set(), dict() take only ONE argument!\n",
    "# e.g. to create a tuple with the items 1, 2, 3:\n",
    "\n",
    "# mytuple = tuple(1,2,3) # WRONG\n",
    "# mytuple = tuple( [1,2,3] ) # RIGHT\n",
    "mytuple = (1,2,3) # ALSO RIGHT\n",
    "mytuple"
   ]
  },
  {
   "cell_type": "markdown",
   "id": "016dec73",
   "metadata": {
    "slideshow": {
     "slide_type": "slide"
    }
   },
   "source": [
    "**What happens in the code?**\n",
    "\n",
    "[PLEASE REPLY IN THIS MICROSOFT FORM!](https://forms.cloud.microsoft/e/51X2209smi)\n",
    "\n",
    "```python\n",
    "drinks = [\"soda\", \"beer\"]\n",
    "foods = [\"pizza\", \"salad\"]\n",
    "\n",
    "restaurant_order = {\n",
    "    \"soda\": 5,\n",
    "    \"beer\": 1,\n",
    "    \"pizza\": 4,\n",
    "    \"salad\": 3,\n",
    "    \"dessert\": 5\n",
    "}\n",
    "\n",
    "drinks_ordered = 0\n",
    "foods_ordered = 0\n",
    "\n",
    "for key, value in restaurant_order.items():\n",
    "    if key in drinks:\n",
    "        drinks_ordered += value\n",
    "    elif key in foods:\n",
    "        foods_ordered += value\n",
    "    else:\n",
    "        pass\n",
    "\n",
    "print(drinks_ordered)\n",
    "```"
   ]
  },
  {
   "cell_type": "markdown",
   "id": "752bdcfb",
   "metadata": {
    "slideshow": {
     "slide_type": "slide"
    }
   },
   "source": [
    "***\n",
    "\n",
    "# Asking Python to reassure us\n",
    "\n",
    "```python\n",
    "assert\n",
    "```"
   ]
  },
  {
   "cell_type": "code",
   "execution_count": 80,
   "id": "7820a2b9",
   "metadata": {
    "slideshow": {
     "slide_type": "slide"
    }
   },
   "outputs": [],
   "source": [
    "assert 2 + 2 == 4"
   ]
  },
  {
   "cell_type": "code",
   "execution_count": 88,
   "id": "0e49dab9",
   "metadata": {
    "slideshow": {
     "slide_type": "slide"
    }
   },
   "outputs": [],
   "source": [
    "assert 2 + 2 == 4"
   ]
  },
  {
   "cell_type": "code",
   "execution_count": 87,
   "id": "6d8cd01a",
   "metadata": {
    "slideshow": {
     "slide_type": "slide"
    }
   },
   "outputs": [],
   "source": [
    "assert 2 + 2 == 4, \"You made a calculation mistake\""
   ]
  },
  {
   "cell_type": "code",
   "execution_count": 86,
   "id": "e098ac9e",
   "metadata": {
    "slideshow": {
     "slide_type": "slide"
    }
   },
   "outputs": [],
   "source": [
    "def add_one(x):\n",
    "    return x + 1\n",
    "\n",
    "assert add_one(5) == 6, \"add_one function is broken!\""
   ]
  },
  {
   "cell_type": "code",
   "execution_count": 84,
   "id": "c72eb2f2",
   "metadata": {
    "slideshow": {
     "slide_type": "slide"
    }
   },
   "outputs": [],
   "source": [
    "assert add_one(5) == 6, \"add_one function is broken!\""
   ]
  },
  {
   "cell_type": "markdown",
   "id": "7637b9b0",
   "metadata": {
    "slideshow": {
     "slide_type": "slide"
    }
   },
   "source": [
    "# Asking Python to reassure us\n",
    "\n",
    "```python\n",
    "assert expected_condition\n",
    "```\n",
    "\n",
    "```python\n",
    "assert expected_condition, \"message shown otherwise\"\n",
    "```"
   ]
  }
 ],
 "metadata": {
  "celltoolbar": "Slideshow",
  "kernelspec": {
   "display_name": "Python 3",
   "language": "python",
   "name": "python3"
  },
  "language_info": {
   "codemirror_mode": {
    "name": "ipython",
    "version": 3
   },
   "file_extension": ".py",
   "mimetype": "text/x-python",
   "name": "python",
   "nbconvert_exporter": "python",
   "pygments_lexer": "ipython3",
   "version": "3.13.7"
  }
 },
 "nbformat": 4,
 "nbformat_minor": 5
}

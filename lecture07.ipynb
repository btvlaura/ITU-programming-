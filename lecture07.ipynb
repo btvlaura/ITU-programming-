{
 "cells": [
  {
   "cell_type": "code",
   "execution_count": 16,
   "id": "1579c58f",
   "metadata": {
    "slideshow": {
     "slide_type": "slide"
    }
   },
   "outputs": [],
   "source": [
    "import csv\n",
    "import json\n",
    "import pandas as pd"
   ]
  },
  {
   "cell_type": "markdown",
   "id": "fbf5898e",
   "metadata": {
    "slideshow": {
     "slide_type": "slide"
    }
   },
   "source": [
    "if \n",
    "\n",
    "```python\n",
    "import pandas as pd \n",
    "```\n",
    "\n",
    "doesn't work:\n",
    "\n",
    "http://jupyter.org/try-jupyter/lab\n",
    "\n",
    "upload notebook there; troubleshoot in exercises with TAs"
   ]
  },
  {
   "cell_type": "markdown",
   "id": "bc8f3c89",
   "metadata": {
    "slideshow": {
     "slide_type": "slide"
    }
   },
   "source": [
    "# Python Crash Course IDSP 2025 - Lecture 07\n",
    "\n",
    "Contents:\n",
    "* list comprehension\n",
    "* try/except for error message checking\n",
    "* `pandas`!"
   ]
  },
  {
   "cell_type": "markdown",
   "id": "2c1f5d21",
   "metadata": {
    "slideshow": {
     "slide_type": "slide"
    }
   },
   "source": [
    "# List comprehension\n",
    "\n",
    "A powerful, \"Pythonic\" way to create lists."
   ]
  },
  {
   "cell_type": "code",
   "execution_count": 17,
   "id": "41d019a5",
   "metadata": {
    "slideshow": {
     "slide_type": "slide"
    }
   },
   "outputs": [
    {
     "data": {
      "text/plain": [
       "[1, 2, 3, 4, 5, 6, 7, 8, 9, 10]"
      ]
     },
     "execution_count": 17,
     "metadata": {},
     "output_type": "execute_result"
    }
   ],
   "source": [
    "# how to create a list of all numbers from 1 to 10?\n",
    "my_list = []\n",
    "for i in range(1,11):\n",
    "    my_list.append(i)\n",
    "my_list\n",
    "# this is perfectly valid, but we could also just do..."
   ]
  },
  {
   "cell_type": "code",
   "execution_count": 18,
   "id": "5c791f8a",
   "metadata": {
    "slideshow": {
     "slide_type": "slide"
    }
   },
   "outputs": [
    {
     "data": {
      "text/plain": [
       "[1, 2, 3, 4, 5, 6, 7, 8, 9, 10]"
      ]
     },
     "execution_count": 18,
     "metadata": {},
     "output_type": "execute_result"
    }
   ],
   "source": [
    "# LIST COMPREHENSION:\n",
    "[i for i in range(1,11)]"
   ]
  },
  {
   "cell_type": "code",
   "execution_count": 19,
   "id": "296b40f7",
   "metadata": {
    "slideshow": {
     "slide_type": "slide"
    }
   },
   "outputs": [
    {
     "data": {
      "text/plain": [
       "[1, 4, 9, 16, 25, 36, 49, 64, 81, 100]"
      ]
     },
     "execution_count": 19,
     "metadata": {},
     "output_type": "execute_result"
    }
   ],
   "source": [
    "# how to create a list of all SQUARES \n",
    "# of the numbers from 1 to 10?\n",
    "my_list = []\n",
    "for i in range(1,11):\n",
    "    my_list.append(i**2)\n",
    "my_list\n",
    "# this is perfectly valid, but..."
   ]
  },
  {
   "cell_type": "code",
   "execution_count": 20,
   "id": "35978269",
   "metadata": {
    "slideshow": {
     "slide_type": "slide"
    }
   },
   "outputs": [
    {
     "data": {
      "text/plain": [
       "[1, 4, 9, 16, 25, 36, 49, 64, 81, 100]"
      ]
     },
     "execution_count": 20,
     "metadata": {},
     "output_type": "execute_result"
    }
   ],
   "source": [
    "# we could also use list comprehension:\n",
    "[i**2 for i in range(1,11)]"
   ]
  },
  {
   "cell_type": "code",
   "execution_count": 21,
   "id": "cd1b475a",
   "metadata": {
    "slideshow": {
     "slide_type": "slide"
    }
   },
   "outputs": [
    {
     "data": {
      "text/plain": [
       "[1, 4, 9, 16, 25, 36, 49, 64, 81, 100]"
      ]
     },
     "execution_count": 21,
     "metadata": {},
     "output_type": "execute_result"
    }
   ],
   "source": [
    "# [expression for member in iterable], here with:\n",
    "[i**2 for i in range(1,11)]\n",
    "# expression ... i**2\n",
    "# member ... i\n",
    "# iterable ... range(1,11)"
   ]
  },
  {
   "cell_type": "code",
   "execution_count": 22,
   "id": "dbdaf417",
   "metadata": {
    "slideshow": {
     "slide_type": "slide"
    }
   },
   "outputs": [
    {
     "data": {
      "text/plain": [
       "[0, 1, 2, 3, 4, 5, 6, 7, 8, 9, 10, 11, 12, 13, 14, 15, 16, 17, 18, 19]"
      ]
     },
     "execution_count": 22,
     "metadata": {},
     "output_type": "execute_result"
    }
   ],
   "source": [
    "# list of all numbers from 0 to 20\n",
    "[i for i in range(20)]"
   ]
  },
  {
   "cell_type": "code",
   "execution_count": 23,
   "id": "1c702fea",
   "metadata": {
    "slideshow": {
     "slide_type": "slide"
    }
   },
   "outputs": [
    {
     "data": {
      "text/plain": [
       "[0, 2, 4, 6, 8, 10, 12, 14, 16, 18]"
      ]
     },
     "execution_count": 23,
     "metadata": {},
     "output_type": "execute_result"
    }
   ],
   "source": [
    "# list of all EVEN numbers from 0 to 20\n",
    "[i for i in range(20) if i % 2 == 0]\n",
    "# we can also add a condition!"
   ]
  },
  {
   "cell_type": "code",
   "execution_count": 24,
   "id": "3f702fb8",
   "metadata": {
    "slideshow": {
     "slide_type": "slide"
    }
   },
   "outputs": [
    {
     "data": {
      "text/plain": [
       "[0, 2, 4, 6, 8, 10, 12, 14, 16, 18]"
      ]
     },
     "execution_count": 24,
     "metadata": {},
     "output_type": "execute_result"
    }
   ],
   "source": [
    "# list of all EVEN numbers from 0 to 20\n",
    "[i for i in range(20) if i % 2 == 0]\n",
    "# [expression for member in iterable if condition]\n",
    "# expression... i\n",
    "# member ... i\n",
    "# iterable ... range(20)\n",
    "# condition .... i%2 == 0 (\"i is even\")"
   ]
  },
  {
   "cell_type": "code",
   "execution_count": 32,
   "id": "577110a9",
   "metadata": {
    "slideshow": {
     "slide_type": "slide"
    }
   },
   "outputs": [
    {
     "data": {
      "text/plain": [
       "['m', 'b', 'v', 'l', 'n', 'c']"
      ]
     },
     "execution_count": 32,
     "metadata": {},
     "output_type": "execute_result"
    }
   ],
   "source": [
    "# ... and as usual, it works for all other iterables, e.g. strings\n",
    "# create a list of all letters in a word that are NOT vowels\n",
    "word = \"ambivalence\"\n",
    "[letter for letter in word if letter not in [\"a\", \"e\", \"i\", \"o\", \"u\"]]"
   ]
  },
  {
   "cell_type": "markdown",
   "id": "de206683",
   "metadata": {
    "slideshow": {
     "slide_type": "slide"
    }
   },
   "source": [
    "# List comprehension\n",
    "\n",
    "A powerful, \"Pythonic\" way to create lists (and to replace for-loops).\n",
    "\n",
    "```python\n",
    "[expression for member in iterable]\n",
    "[expression for member in iterable if condition]\n",
    "``````"
   ]
  },
  {
   "cell_type": "markdown",
   "id": "80723ec0",
   "metadata": {
    "slideshow": {
     "slide_type": "slide"
    }
   },
   "source": [
    "# Try it out yourself!\n",
    "\n",
    "Use list comprehension to...\n",
    "* create a list of all numbers from 50 to 65\n",
    "* create a list of all numbers from 50 to 65 that are divisible by 3\n",
    "* create a list of **SQUARES** of all numbers from 50 to 65\n",
    "* create a list of **EVEN squares** of all numbers from 50 to 65"
   ]
  },
  {
   "cell_type": "code",
   "execution_count": 26,
   "id": "1e5b6973",
   "metadata": {
    "slideshow": {
     "slide_type": "slide"
    }
   },
   "outputs": [
    {
     "data": {
      "text/plain": [
       "[50, 51, 52, 53, 54, 55, 56, 57, 58, 59, 60, 61, 62, 63, 64, 65]"
      ]
     },
     "execution_count": 26,
     "metadata": {},
     "output_type": "execute_result"
    }
   ],
   "source": [
    "# list of all numbers from 50 to 65\n",
    "\n",
    "[i for i in range(50,66)]"
   ]
  },
  {
   "cell_type": "code",
   "execution_count": 27,
   "id": "52de33d1",
   "metadata": {
    "slideshow": {
     "slide_type": "slide"
    }
   },
   "outputs": [
    {
     "data": {
      "text/plain": [
       "[51, 54, 57, 60, 63]"
      ]
     },
     "execution_count": 27,
     "metadata": {},
     "output_type": "execute_result"
    }
   ],
   "source": [
    "# list of all numbers from 50 to 65 that are divisible by 3\n",
    "\n",
    "[i for i in range(50,66) if i%3 ==0 ]"
   ]
  },
  {
   "cell_type": "code",
   "execution_count": 28,
   "id": "0e3ab226",
   "metadata": {
    "slideshow": {
     "slide_type": "slide"
    }
   },
   "outputs": [],
   "source": [
    "# list of all squares of numbers from 50 to 65 "
   ]
  },
  {
   "cell_type": "code",
   "execution_count": 29,
   "id": "0a5541e6",
   "metadata": {
    "slideshow": {
     "slide_type": "slide"
    }
   },
   "outputs": [
    {
     "data": {
      "text/plain": [
       "[2500, 2704, 2916, 3136, 3364, 3600, 3844, 4096]"
      ]
     },
     "execution_count": 29,
     "metadata": {},
     "output_type": "execute_result"
    }
   ],
   "source": [
    "# list of EVEN squares of numbers from 50 to 65\n",
    "\n",
    "[i**2 for i in range(50,66) if i**2 % 2 == 0]"
   ]
  },
  {
   "cell_type": "markdown",
   "id": "b22182e4",
   "metadata": {
    "slideshow": {
     "slide_type": "slide"
    }
   },
   "source": [
    "## Catching errors!\n",
    "\n",
    "\n",
    "```python\n",
    "try:\n",
    "    # plan A\n",
    "except:\n",
    "    # plan B - in case plan A raises an error\n",
    "```"
   ]
  },
  {
   "cell_type": "code",
   "execution_count": 30,
   "id": "23bb2c04",
   "metadata": {
    "slideshow": {
     "slide_type": "slide"
    }
   },
   "outputs": [
    {
     "name": "stdout",
     "output_type": "stream",
     "text": [
      "division not possible!\n"
     ]
    }
   ],
   "source": [
    "# try/except statements\n",
    "a = 10\n",
    "b = 0\n",
    "try:\n",
    "    print(a/b)\n",
    "except:\n",
    "    print(\"division not possible!\")"
   ]
  },
  {
   "cell_type": "markdown",
   "id": "9a55c484",
   "metadata": {
    "slideshow": {
     "slide_type": "slide"
    }
   },
   "source": [
    "# The pandas package\n",
    "\n",
    "* motivation for pandas\n",
    "* lingo: library/package, DataFrame, Series, Axis, record, dtype\n",
    "* creating a DataFrame\n",
    "* reading in a file into a DataFrame\n",
    "* exploring DataFrame contents\n",
    "* accessing DataFrame contents\n",
    "* sorting DataFrame records\n",
    "* adding columns\n",
    "* combining 2 DataFrames\n",
    "* subsetting DataFrames (filtering by condition)"
   ]
  },
  {
   "cell_type": "markdown",
   "id": "4dce1915",
   "metadata": {
    "slideshow": {
     "slide_type": "slide"
    }
   },
   "source": [
    "# `pandas` for tabular data. Why?"
   ]
  },
  {
   "cell_type": "markdown",
   "id": "05cab0ba",
   "metadata": {
    "slideshow": {
     "slide_type": "slide"
    }
   },
   "source": [
    "## Common (?) file formats for tabular data\n",
    "* `.txt` plain text file, not formatted\n",
    "* `.csv` text in comma-separated values, not formatted\n",
    "* `.xls`, `.xlsx` Microsoft Excel worksheets\n",
    "* `.json` \"JavaScript Object Specification\""
   ]
  },
  {
   "cell_type": "markdown",
   "id": "27039edd",
   "metadata": {
    "slideshow": {
     "slide_type": "slide"
    }
   },
   "source": [
    "## `csv`: \"comma\" separated values\n",
    "\n",
    "`.csv` is often used even when the separator is not a comma, but a tab, a whitespace, a semicolon, ...\n",
    "\n",
    "<p style=\"text-align:left;\">\n",
    "    <img src=\"images/csv.png\" alt=\"csv file\" width=1000px>\n",
    "</p>"
   ]
  },
  {
   "cell_type": "markdown",
   "id": "0b4ce873",
   "metadata": {
    "slideshow": {
     "slide_type": "slide"
    }
   },
   "source": [
    "## `json` JavaScript Object Specification\n",
    "\n",
    "* format understood by many programming languages (not only JavaScript!)\n",
    "* can store different (tree-like) data structures, not only tables\n",
    "* often used for server-web application data transfer\n",
    "* data types allowed in json: numbers, strings, booleans, \"arrays\" (similar to lists in Python), \"objects\" (name-value pair collections, similar to dictionaries in Python)\n",
    "\n",
    "<p style=\"text-align:left;\">\n",
    "    <img src=\"images/json.png\" alt=\"json file\" width=1000px>\n",
    "</p>\n"
   ]
  },
  {
   "cell_type": "markdown",
   "id": "cd1c9800",
   "metadata": {
    "slideshow": {
     "slide_type": "slide"
    }
   },
   "source": [
    "# Jupyter notebook is actually  a json file, too!\n",
    "\n",
    "<p style=\"text-align:left;\">\n",
    "    <img src=\"images/ipynb.png\" alt=\"ipynb file opened with text editor\" width=1000px>\n",
    "</p>\n"
   ]
  },
  {
   "cell_type": "markdown",
   "id": "d9163556",
   "metadata": {
    "slideshow": {
     "slide_type": "slide"
    }
   },
   "source": [
    "# Our table of the day: Titanic passengers\n",
    "\n",
    "[(Link to raw data)](https://raw.githubusercontent.com/pandas-dev/pandas/main/doc/data/titanic.csv)\n",
    "\n",
    "same data, stored in different file formats, in `data` folder"
   ]
  },
  {
   "cell_type": "code",
   "execution_count": 15,
   "id": "427ed7f1",
   "metadata": {
    "slideshow": {
     "slide_type": "slide"
    }
   },
   "outputs": [
    {
     "ename": "FileNotFoundError",
     "evalue": "[Errno 2] No such file or directory: 'data/titanic.csv'",
     "output_type": "error",
     "traceback": [
      "\u001b[0;31m---------------------------------------------------------------------------\u001b[0m",
      "\u001b[0;31mFileNotFoundError\u001b[0m                         Traceback (most recent call last)",
      "Cell \u001b[0;32mIn[15], line 2\u001b[0m\n\u001b[1;32m      1\u001b[0m \u001b[38;5;66;03m# reading in tabular data in csv format - the painful way\u001b[39;00m\n\u001b[0;32m----> 2\u001b[0m \u001b[38;5;28;01mwith\u001b[39;00m \u001b[38;5;28mopen\u001b[39m(\u001b[38;5;124m\"\u001b[39m\u001b[38;5;124mdata/titanic.csv\u001b[39m\u001b[38;5;124m\"\u001b[39m, \u001b[38;5;124m\"\u001b[39m\u001b[38;5;124mr\u001b[39m\u001b[38;5;124m\"\u001b[39m) \u001b[38;5;28;01mas\u001b[39;00m opened_file:\n\u001b[1;32m      3\u001b[0m     my_reader \u001b[38;5;241m=\u001b[39m csv\u001b[38;5;241m.\u001b[39mreader(opened_file)\n\u001b[1;32m      4\u001b[0m     rows \u001b[38;5;241m=\u001b[39m [row \u001b[38;5;28;01mfor\u001b[39;00m row \u001b[38;5;129;01min\u001b[39;00m my_reader]\n",
      "File \u001b[0;32m/opt/anaconda3/lib/python3.13/site-packages/IPython/core/interactiveshell.py:324\u001b[0m, in \u001b[0;36m_modified_open\u001b[0;34m(file, *args, **kwargs)\u001b[0m\n\u001b[1;32m    317\u001b[0m \u001b[38;5;28;01mif\u001b[39;00m file \u001b[38;5;129;01min\u001b[39;00m {\u001b[38;5;241m0\u001b[39m, \u001b[38;5;241m1\u001b[39m, \u001b[38;5;241m2\u001b[39m}:\n\u001b[1;32m    318\u001b[0m     \u001b[38;5;28;01mraise\u001b[39;00m \u001b[38;5;167;01mValueError\u001b[39;00m(\n\u001b[1;32m    319\u001b[0m         \u001b[38;5;124mf\u001b[39m\u001b[38;5;124m\"\u001b[39m\u001b[38;5;124mIPython won\u001b[39m\u001b[38;5;124m'\u001b[39m\u001b[38;5;124mt let you open fd=\u001b[39m\u001b[38;5;132;01m{\u001b[39;00mfile\u001b[38;5;132;01m}\u001b[39;00m\u001b[38;5;124m by default \u001b[39m\u001b[38;5;124m\"\u001b[39m\n\u001b[1;32m    320\u001b[0m         \u001b[38;5;124m\"\u001b[39m\u001b[38;5;124mas it is likely to crash IPython. If you know what you are doing, \u001b[39m\u001b[38;5;124m\"\u001b[39m\n\u001b[1;32m    321\u001b[0m         \u001b[38;5;124m\"\u001b[39m\u001b[38;5;124myou can use builtins\u001b[39m\u001b[38;5;124m'\u001b[39m\u001b[38;5;124m open.\u001b[39m\u001b[38;5;124m\"\u001b[39m\n\u001b[1;32m    322\u001b[0m     )\n\u001b[0;32m--> 324\u001b[0m \u001b[38;5;28;01mreturn\u001b[39;00m io_open(file, \u001b[38;5;241m*\u001b[39margs, \u001b[38;5;241m*\u001b[39m\u001b[38;5;241m*\u001b[39mkwargs)\n",
      "\u001b[0;31mFileNotFoundError\u001b[0m: [Errno 2] No such file or directory: 'data/titanic.csv'"
     ]
    }
   ],
   "source": [
    "# reading in tabular data in csv format - the painful way\n",
    "with open(\"data/titanic.csv\", \"r\") as opened_file:\n",
    "    my_reader = csv.reader(opened_file)\n",
    "    rows = [row for row in my_reader]\n",
    "rows"
   ]
  },
  {
   "cell_type": "code",
   "execution_count": null,
   "id": "6e15ccc7",
   "metadata": {
    "slideshow": {
     "slide_type": "slide"
    }
   },
   "outputs": [],
   "source": [
    "# reading in tabular data in json format - the painful way\n",
    "with open(\"data/titanic.json\", \"r\") as opened_file:\n",
    "    my_json = json.load(opened_file)\n",
    "my_json"
   ]
  },
  {
   "cell_type": "markdown",
   "id": "f13c349f",
   "metadata": {
    "slideshow": {
     "slide_type": "slide"
    }
   },
   "source": [
    "# Enter: `pandas`\n",
    "\n",
    "for tabular data"
   ]
  },
  {
   "cell_type": "code",
   "execution_count": null,
   "id": "36779fe2",
   "metadata": {
    "slideshow": {
     "slide_type": "slide"
    }
   },
   "outputs": [],
   "source": [
    "pd.read_csv(\"data/titanic.csv\")"
   ]
  },
  {
   "cell_type": "markdown",
   "id": "aff9ab14",
   "metadata": {
    "slideshow": {
     "slide_type": "slide"
    }
   },
   "source": [
    "# `pandas` lingo\n",
    "\n",
    "* `DataFrame`\n",
    "* `Series`\n",
    "* `Axis`\n",
    "* `record`\n",
    "* `dtype`"
   ]
  },
  {
   "cell_type": "code",
   "execution_count": null,
   "id": "2d3c92a6",
   "metadata": {
    "slideshow": {
     "slide_type": "slide"
    }
   },
   "outputs": [],
   "source": [
    "df = pd.read_csv(\"data/titanic.csv\")\n",
    "df"
   ]
  },
  {
   "cell_type": "code",
   "execution_count": null,
   "id": "378d470b",
   "metadata": {
    "slideshow": {
     "slide_type": "slide"
    }
   },
   "outputs": [],
   "source": [
    "# DataFrame is a data type defined in pandas:\n",
    "type(df)"
   ]
  },
  {
   "cell_type": "code",
   "execution_count": null,
   "id": "b32b5c35",
   "metadata": {
    "slideshow": {
     "slide_type": "slide"
    }
   },
   "outputs": [],
   "source": [
    "# each column of the DataFrame is a pandas Series \n",
    "# (one-dimensional, labeled array)\n",
    "df.Name\n",
    "# type(df.Name)"
   ]
  },
  {
   "cell_type": "markdown",
   "id": "5b76f8a3",
   "metadata": {
    "slideshow": {
     "slide_type": "slide"
    }
   },
   "source": [
    "### Axis : row or column\n",
    "* Axis = 0: row\n",
    "* Axis = 1: column\n",
    "\n",
    "### Record : a single row (\"one observation\")\n",
    "\n",
    "### dtype: data type defined for entire DataFrame or Series"
   ]
  },
  {
   "cell_type": "markdown",
   "id": "52d49404",
   "metadata": {
    "slideshow": {
     "slide_type": "slide"
    }
   },
   "source": [
    "# Creating a `pandas` DataFrame\n",
    "\n",
    "* from scratch\n",
    "* by importing a file\n"
   ]
  },
  {
   "cell_type": "code",
   "execution_count": null,
   "id": "e1d45764",
   "metadata": {
    "slideshow": {
     "slide_type": "slide"
    }
   },
   "outputs": [],
   "source": [
    "# from scratch - empty\n",
    "empty_df = pd.DataFrame()\n",
    "empty_df\n",
    "# type(empty_df)"
   ]
  },
  {
   "cell_type": "code",
   "execution_count": null,
   "id": "6fe6a535",
   "metadata": {
    "slideshow": {
     "slide_type": "slide"
    }
   },
   "outputs": [],
   "source": [
    "# from scratch - with data\n",
    "pd.DataFrame(\n",
    "    {\n",
    "        \"greek_letters\": [\"alpha\", \"beta\", \"gamma\"],\n",
    "        \"latin_letters\": [\"a\", \"b\", \"g\"],\n",
    "        \"some_random_numbers\": [10,8,27]\n",
    "    }\n",
    ")"
   ]
  },
  {
   "cell_type": "code",
   "execution_count": 31,
   "id": "e1cfa6a4",
   "metadata": {
    "slideshow": {
     "slide_type": "slide"
    }
   },
   "outputs": [
    {
     "name": "stdout",
     "output_type": "stream",
     "text": [
      "\u001b[0;31mInit signature:\u001b[0m\n",
      "\u001b[0mpd\u001b[0m\u001b[0;34m.\u001b[0m\u001b[0mDataFrame\u001b[0m\u001b[0;34m(\u001b[0m\u001b[0;34m\u001b[0m\n",
      "\u001b[0;34m\u001b[0m    \u001b[0mdata\u001b[0m\u001b[0;34m=\u001b[0m\u001b[0;32mNone\u001b[0m\u001b[0;34m,\u001b[0m\u001b[0;34m\u001b[0m\n",
      "\u001b[0;34m\u001b[0m    \u001b[0mindex\u001b[0m\u001b[0;34m:\u001b[0m \u001b[0;34m'Axes | None'\u001b[0m \u001b[0;34m=\u001b[0m \u001b[0;32mNone\u001b[0m\u001b[0;34m,\u001b[0m\u001b[0;34m\u001b[0m\n",
      "\u001b[0;34m\u001b[0m    \u001b[0mcolumns\u001b[0m\u001b[0;34m:\u001b[0m \u001b[0;34m'Axes | None'\u001b[0m \u001b[0;34m=\u001b[0m \u001b[0;32mNone\u001b[0m\u001b[0;34m,\u001b[0m\u001b[0;34m\u001b[0m\n",
      "\u001b[0;34m\u001b[0m    \u001b[0mdtype\u001b[0m\u001b[0;34m:\u001b[0m \u001b[0;34m'Dtype | None'\u001b[0m \u001b[0;34m=\u001b[0m \u001b[0;32mNone\u001b[0m\u001b[0;34m,\u001b[0m\u001b[0;34m\u001b[0m\n",
      "\u001b[0;34m\u001b[0m    \u001b[0mcopy\u001b[0m\u001b[0;34m:\u001b[0m \u001b[0;34m'bool | None'\u001b[0m \u001b[0;34m=\u001b[0m \u001b[0;32mNone\u001b[0m\u001b[0;34m,\u001b[0m\u001b[0;34m\u001b[0m\n",
      "\u001b[0;34m\u001b[0m\u001b[0;34m)\u001b[0m \u001b[0;34m->\u001b[0m \u001b[0;34m'None'\u001b[0m\u001b[0;34m\u001b[0m\u001b[0;34m\u001b[0m\u001b[0m\n",
      "\u001b[0;31mDocstring:\u001b[0m     \n",
      "Two-dimensional, size-mutable, potentially heterogeneous tabular data.\n",
      "\n",
      "Data structure also contains labeled axes (rows and columns).\n",
      "Arithmetic operations align on both row and column labels. Can be\n",
      "thought of as a dict-like container for Series objects. The primary\n",
      "pandas data structure.\n",
      "\n",
      "Parameters\n",
      "----------\n",
      "data : ndarray (structured or homogeneous), Iterable, dict, or DataFrame\n",
      "    Dict can contain Series, arrays, constants, dataclass or list-like objects. If\n",
      "    data is a dict, column order follows insertion-order. If a dict contains Series\n",
      "    which have an index defined, it is aligned by its index. This alignment also\n",
      "    occurs if data is a Series or a DataFrame itself. Alignment is done on\n",
      "    Series/DataFrame inputs.\n",
      "\n",
      "    If data is a list of dicts, column order follows insertion-order.\n",
      "\n",
      "index : Index or array-like\n",
      "    Index to use for resulting frame. Will default to RangeIndex if\n",
      "    no indexing information part of input data and no index provided.\n",
      "columns : Index or array-like\n",
      "    Column labels to use for resulting frame when data does not have them,\n",
      "    defaulting to RangeIndex(0, 1, 2, ..., n). If data contains column labels,\n",
      "    will perform column selection instead.\n",
      "dtype : dtype, default None\n",
      "    Data type to force. Only a single dtype is allowed. If None, infer.\n",
      "copy : bool or None, default None\n",
      "    Copy data from inputs.\n",
      "    For dict data, the default of None behaves like ``copy=True``.  For DataFrame\n",
      "    or 2d ndarray input, the default of None behaves like ``copy=False``.\n",
      "    If data is a dict containing one or more Series (possibly of different dtypes),\n",
      "    ``copy=False`` will ensure that these inputs are not copied.\n",
      "\n",
      "    .. versionchanged:: 1.3.0\n",
      "\n",
      "See Also\n",
      "--------\n",
      "DataFrame.from_records : Constructor from tuples, also record arrays.\n",
      "DataFrame.from_dict : From dicts of Series, arrays, or dicts.\n",
      "read_csv : Read a comma-separated values (csv) file into DataFrame.\n",
      "read_table : Read general delimited file into DataFrame.\n",
      "read_clipboard : Read text from clipboard into DataFrame.\n",
      "\n",
      "Notes\n",
      "-----\n",
      "Please reference the :ref:`User Guide <basics.dataframe>` for more information.\n",
      "\n",
      "Examples\n",
      "--------\n",
      "Constructing DataFrame from a dictionary.\n",
      "\n",
      ">>> d = {'col1': [1, 2], 'col2': [3, 4]}\n",
      ">>> df = pd.DataFrame(data=d)\n",
      ">>> df\n",
      "   col1  col2\n",
      "0     1     3\n",
      "1     2     4\n",
      "\n",
      "Notice that the inferred dtype is int64.\n",
      "\n",
      ">>> df.dtypes\n",
      "col1    int64\n",
      "col2    int64\n",
      "dtype: object\n",
      "\n",
      "To enforce a single dtype:\n",
      "\n",
      ">>> df = pd.DataFrame(data=d, dtype=np.int8)\n",
      ">>> df.dtypes\n",
      "col1    int8\n",
      "col2    int8\n",
      "dtype: object\n",
      "\n",
      "Constructing DataFrame from a dictionary including Series:\n",
      "\n",
      ">>> d = {'col1': [0, 1, 2, 3], 'col2': pd.Series([2, 3], index=[2, 3])}\n",
      ">>> pd.DataFrame(data=d, index=[0, 1, 2, 3])\n",
      "   col1  col2\n",
      "0     0   NaN\n",
      "1     1   NaN\n",
      "2     2   2.0\n",
      "3     3   3.0\n",
      "\n",
      "Constructing DataFrame from numpy ndarray:\n",
      "\n",
      ">>> df2 = pd.DataFrame(np.array([[1, 2, 3], [4, 5, 6], [7, 8, 9]]),\n",
      "...                    columns=['a', 'b', 'c'])\n",
      ">>> df2\n",
      "   a  b  c\n",
      "0  1  2  3\n",
      "1  4  5  6\n",
      "2  7  8  9\n",
      "\n",
      "Constructing DataFrame from a numpy ndarray that has labeled columns:\n",
      "\n",
      ">>> data = np.array([(1, 2, 3), (4, 5, 6), (7, 8, 9)],\n",
      "...                 dtype=[(\"a\", \"i4\"), (\"b\", \"i4\"), (\"c\", \"i4\")])\n",
      ">>> df3 = pd.DataFrame(data, columns=['c', 'a'])\n",
      "...\n",
      ">>> df3\n",
      "   c  a\n",
      "0  3  1\n",
      "1  6  4\n",
      "2  9  7\n",
      "\n",
      "Constructing DataFrame from dataclass:\n",
      "\n",
      ">>> from dataclasses import make_dataclass\n",
      ">>> Point = make_dataclass(\"Point\", [(\"x\", int), (\"y\", int)])\n",
      ">>> pd.DataFrame([Point(0, 0), Point(0, 3), Point(2, 3)])\n",
      "   x  y\n",
      "0  0  0\n",
      "1  0  3\n",
      "2  2  3\n",
      "\n",
      "Constructing DataFrame from Series/DataFrame:\n",
      "\n",
      ">>> ser = pd.Series([1, 2, 3], index=[\"a\", \"b\", \"c\"])\n",
      ">>> df = pd.DataFrame(data=ser, index=[\"a\", \"c\"])\n",
      ">>> df\n",
      "   0\n",
      "a  1\n",
      "c  3\n",
      "\n",
      ">>> df1 = pd.DataFrame([1, 2, 3], index=[\"a\", \"b\", \"c\"], columns=[\"x\"])\n",
      ">>> df2 = pd.DataFrame(data=df1, index=[\"a\", \"c\"])\n",
      ">>> df2\n",
      "   x\n",
      "a  1\n",
      "c  3\n",
      "\u001b[0;31mFile:\u001b[0m           /opt/anaconda3/lib/python3.13/site-packages/pandas/core/frame.py\n",
      "\u001b[0;31mType:\u001b[0m           type\n",
      "\u001b[0;31mSubclasses:\u001b[0m     SubclassedDataFrame"
     ]
    }
   ],
   "source": [
    "?pd.DataFrame"
   ]
  },
  {
   "cell_type": "code",
   "execution_count": null,
   "id": "553a65b4",
   "metadata": {
    "slideshow": {
     "slide_type": "slide"
    }
   },
   "outputs": [],
   "source": [
    "# by using .read_csv()\n",
    "df = pd.read_csv(\"data/titanic.csv\")\n",
    "df"
   ]
  },
  {
   "cell_type": "code",
   "execution_count": null,
   "id": "91c8e858",
   "metadata": {
    "slideshow": {
     "slide_type": "slide"
    }
   },
   "outputs": [],
   "source": [
    "# read_csv(filepath) reads in a csv from a file and returns a pandas DataFrame:\n",
    "pd.read_csv(\"data/titanic.csv\")"
   ]
  },
  {
   "cell_type": "code",
   "execution_count": null,
   "id": "9d047078",
   "metadata": {
    "slideshow": {
     "slide_type": "slide"
    }
   },
   "outputs": [],
   "source": [
    "# .read_csv() assumes that sep=\",\"... but i can indicate a different separator:\n",
    "pd.read_csv(\"data/titanic_semicolon.csv\")"
   ]
  },
  {
   "cell_type": "code",
   "execution_count": null,
   "id": "0536a868",
   "metadata": {
    "slideshow": {
     "slide_type": "slide"
    }
   },
   "outputs": [],
   "source": [
    "# .read_csv() assumes that sep=\",\"... \n",
    "# but i can indicate a different separator:\n",
    "pd.read_csv(\"data/titanic_semicolon.csv\", sep = \";\")"
   ]
  },
  {
   "cell_type": "code",
   "execution_count": null,
   "id": "353f03b1",
   "metadata": {
    "slideshow": {
     "slide_type": "slide"
    }
   },
   "outputs": [],
   "source": [
    "# let's save the pandas DataFrame into a variable, df:\n",
    "df = pd.read_csv(\"data/titanic.csv\")"
   ]
  },
  {
   "cell_type": "markdown",
   "id": "0b1858d8",
   "metadata": {
    "slideshow": {
     "slide_type": "slide"
    }
   },
   "source": [
    "# Exploring DataFrame contents"
   ]
  },
  {
   "cell_type": "code",
   "execution_count": null,
   "id": "06421c3b",
   "metadata": {
    "slideshow": {
     "slide_type": "slide"
    }
   },
   "outputs": [],
   "source": [
    "# now we can display the first (by default 5) rows:\n",
    "df.head(3)\n",
    "# if you provide an integer argument n, will display the first n rows"
   ]
  },
  {
   "cell_type": "code",
   "execution_count": null,
   "id": "e4b14572",
   "metadata": {
    "slideshow": {
     "slide_type": "slide"
    }
   },
   "outputs": [],
   "source": [
    "# to display the last (by default 5) rows:\n",
    "df.tail(10) # if you provide an integer argument n, will display the last n rows\n"
   ]
  },
  {
   "cell_type": "code",
   "execution_count": null,
   "id": "eff8266a",
   "metadata": {
    "slideshow": {
     "slide_type": "slide"
    }
   },
   "outputs": [],
   "source": [
    "# length of the dataframe = number of ROWS\n",
    "len(df)"
   ]
  },
  {
   "cell_type": "code",
   "execution_count": null,
   "id": "f34bc4c4",
   "metadata": {
    "slideshow": {
     "slide_type": "slide"
    }
   },
   "outputs": [],
   "source": [
    "# the type of the variable is \"pandas dataframe\":\n",
    "type(df)"
   ]
  },
  {
   "cell_type": "code",
   "execution_count": null,
   "id": "a45da6cf",
   "metadata": {
    "slideshow": {
     "slide_type": "slide"
    }
   },
   "outputs": [],
   "source": [
    "# this object (the pandas DataFrame) has ATTRIBUTES:\n",
    "# characteristics accessible by .attributename\n",
    "df.dtypes # .dtypes contains the data types of all columns"
   ]
  },
  {
   "cell_type": "code",
   "execution_count": null,
   "id": "0b5b512a",
   "metadata": {
    "slideshow": {
     "slide_type": "slide"
    }
   },
   "outputs": [],
   "source": [
    "# another attribute is .index (containing the ROW LABELS)\n",
    "df.index"
   ]
  },
  {
   "cell_type": "code",
   "execution_count": null,
   "id": "9d88dfaf",
   "metadata": {
    "slideshow": {
     "slide_type": "slide"
    }
   },
   "outputs": [],
   "source": [
    "# another attribute is .columns (containing the COLUMN LABELS)\n",
    "df.columns"
   ]
  },
  {
   "cell_type": "code",
   "execution_count": null,
   "id": "84930dfb",
   "metadata": {
    "slideshow": {
     "slide_type": "slide"
    }
   },
   "outputs": [],
   "source": [
    "# .shape contains the shape (nrows, ncols) of the dataframe\n",
    "df.shape"
   ]
  },
  {
   "cell_type": "code",
   "execution_count": null,
   "id": "232f4523",
   "metadata": {
    "slideshow": {
     "slide_type": "slide"
    }
   },
   "outputs": [],
   "source": [
    "# .describe() provides some summary statistics\n",
    "df.describe()"
   ]
  },
  {
   "cell_type": "markdown",
   "id": "43657491",
   "metadata": {
    "slideshow": {
     "slide_type": "slide"
    }
   },
   "source": [
    "# Accessing DataFrame contents"
   ]
  },
  {
   "cell_type": "markdown",
   "id": "fa154bef",
   "metadata": {
    "slideshow": {
     "slide_type": "slide"
    }
   },
   "source": [
    "# Accessing specific columns in the data frame\n",
    "\n",
    "...a little bit like indexing:\n",
    "\n",
    "## `df[]`\n",
    "\n",
    "#### `df[columnlabel]` with single column label\n",
    "#### `df[[col1, col2, col3]]`  with list of column labels\n"
   ]
  },
  {
   "cell_type": "code",
   "execution_count": null,
   "id": "2551e941",
   "metadata": {
    "slideshow": {
     "slide_type": "slide"
    }
   },
   "outputs": [],
   "source": [
    "# access the columns separately with square brackets \n",
    "# and their column name (\"label\"):\n",
    "df[\"Survived\"] # returns ONLY the column \"Survived\""
   ]
  },
  {
   "cell_type": "code",
   "execution_count": null,
   "id": "d93abe71",
   "metadata": {
    "slideshow": {
     "slide_type": "slide"
    }
   },
   "outputs": [],
   "source": [
    "# access the columns separately with square brackets \n",
    "# and their column name (\"label\"):\n",
    "df[\"Age\"] # returns ONLY the column \"Age\""
   ]
  },
  {
   "cell_type": "code",
   "execution_count": null,
   "id": "3f1431ba",
   "metadata": {
    "slideshow": {
     "slide_type": "slide"
    }
   },
   "outputs": [],
   "source": [
    "# access specific columns by giving a list of column names as index: \n",
    "df[[\"Age\", \"Name\", \"Survived\"]]"
   ]
  },
  {
   "cell_type": "markdown",
   "id": "e974c49c",
   "metadata": {
    "slideshow": {
     "slide_type": "slide"
    }
   },
   "source": [
    "# Accessing specific rows in the data frame\n",
    "\n",
    "## `df.loc[]` \n",
    "\n",
    "#### `df.loc[rowlabel]` with single row label (index)\n",
    "#### `df.loc[[row1,row2,row3]]` with list of row labels"
   ]
  },
  {
   "cell_type": "code",
   "execution_count": null,
   "id": "917153fb",
   "metadata": {
    "slideshow": {
     "slide_type": "slide"
    }
   },
   "outputs": [],
   "source": [
    "# remember, our row labels (in this case) are simply integer numbers:\n",
    "df.head()"
   ]
  },
  {
   "cell_type": "code",
   "execution_count": null,
   "id": "ff416610",
   "metadata": {
    "slideshow": {
     "slide_type": "slide"
    }
   },
   "outputs": [],
   "source": [
    "# accessing rows by index: df.loc[] with index (row label) as argument\n",
    "df.loc[0] # returns only first row"
   ]
  },
  {
   "cell_type": "code",
   "execution_count": null,
   "id": "5b6addce",
   "metadata": {
    "slideshow": {
     "slide_type": "slide"
    }
   },
   "outputs": [],
   "source": [
    "# accessing rows by index: df.loc[] with list of indeces (row labels) as argument\n",
    "df.loc[[0,1,2]] # returns first 3 rows"
   ]
  },
  {
   "cell_type": "markdown",
   "id": "9698df9e",
   "metadata": {
    "slideshow": {
     "slide_type": "slide"
    }
   },
   "source": [
    "## Accessing specific rows AND columns in the data frame\n",
    "\n",
    "#### `df.loc[rowlabels, columnlabels]` \n"
   ]
  },
  {
   "cell_type": "code",
   "execution_count": null,
   "id": "e8551970",
   "metadata": {
    "slideshow": {
     "slide_type": "slide"
    }
   },
   "outputs": [],
   "source": [
    "# row labels: first three rows; column label: \"Name\"\n",
    "df.loc[[0,1,2], [\"Name\"]]"
   ]
  },
  {
   "cell_type": "code",
   "execution_count": null,
   "id": "bd8fc649",
   "metadata": {
    "slideshow": {
     "slide_type": "slide"
    }
   },
   "outputs": [],
   "source": [
    "# row labels: first three rows; column labels: \"Name\" & \"Age\"\n",
    "df.loc[[0,1,2], [\"Name\", \"Age\"]]"
   ]
  },
  {
   "cell_type": "code",
   "execution_count": null,
   "id": "853caf2d",
   "metadata": {
    "slideshow": {
     "slide_type": "slide"
    }
   },
   "outputs": [],
   "source": [
    "# row labels: first row; column labels: [\"Name\", \"Sex\"]\n",
    "df.loc[0, [\"Name\", \"Sex\"]]"
   ]
  },
  {
   "cell_type": "code",
   "execution_count": null,
   "id": "673a36a2",
   "metadata": {
    "slideshow": {
     "slide_type": "slide"
    }
   },
   "outputs": [],
   "source": [
    "# accessing one single value\n",
    "df.loc[0, \"Name\"]"
   ]
  },
  {
   "cell_type": "markdown",
   "id": "46124d85",
   "metadata": {
    "slideshow": {
     "slide_type": "slide"
    }
   },
   "source": [
    "# Try it out yourself\n",
    "\n",
    "Each of the tasks below is 1 line of code!\n",
    "\n",
    "* Access only the column \"Fare\" `[]`\n",
    "* Access only the columns \"Fare\" and \"Age\" `[[]]`\n",
    "* Access only the rows with row labels 3, 4, and 5 `.loc[]`\n",
    "* Access only the rows 3, 4, 5, and only the columns \"Survived\" and \"Name\"\n",
    "* Access the name of the last passenger in the dataframe"
   ]
  },
  {
   "cell_type": "code",
   "execution_count": null,
   "id": "ce9b9424",
   "metadata": {
    "slideshow": {
     "slide_type": "slide"
    }
   },
   "outputs": [],
   "source": [
    "# YOUR CODE HERE"
   ]
  },
  {
   "cell_type": "code",
   "execution_count": null,
   "id": "51dc4819",
   "metadata": {
    "slideshow": {
     "slide_type": "slide"
    }
   },
   "outputs": [],
   "source": []
  },
  {
   "cell_type": "code",
   "execution_count": null,
   "id": "42649a16",
   "metadata": {
    "slideshow": {
     "slide_type": "slide"
    }
   },
   "outputs": [],
   "source": []
  },
  {
   "cell_type": "code",
   "execution_count": null,
   "id": "a14951d4",
   "metadata": {
    "slideshow": {
     "slide_type": "slide"
    }
   },
   "outputs": [],
   "source": []
  },
  {
   "cell_type": "markdown",
   "id": "6900c48b",
   "metadata": {
    "slideshow": {
     "slide_type": "slide"
    }
   },
   "source": [
    "# Sorting DataFrame records\n",
    "\n",
    "### `df.sort_values(by=<columnname>)`"
   ]
  },
  {
   "cell_type": "code",
   "execution_count": null,
   "id": "0508a6f9",
   "metadata": {
    "slideshow": {
     "slide_type": "slide"
    }
   },
   "outputs": [],
   "source": [
    "df.sort_values(by=\"Age\") # this method returns a sorted view,\n",
    "# but does NOT change the underlying DataFrame!"
   ]
  },
  {
   "cell_type": "code",
   "execution_count": null,
   "id": "ef5d3e8e",
   "metadata": {
    "slideshow": {
     "slide_type": "slide"
    }
   },
   "outputs": [],
   "source": [
    "df.sort_values(by=\"Age\", ascending=True)\n",
    "# \"ascending\" parameter is True by default"
   ]
  },
  {
   "cell_type": "code",
   "execution_count": null,
   "id": "73a74ba8",
   "metadata": {
    "slideshow": {
     "slide_type": "slide"
    }
   },
   "outputs": [],
   "source": [
    "# overwriting with sorted version, by ascending \"Fare\"\n",
    "df = df.sort_values(by=\"Fare\")\n",
    "df"
   ]
  },
  {
   "cell_type": "code",
   "execution_count": null,
   "id": "35cf6b09",
   "metadata": {
    "slideshow": {
     "slide_type": "slide"
    }
   },
   "outputs": [],
   "source": [
    "# resetting the index\n",
    "df = df.reset_index(drop=True)\n",
    "df.head()"
   ]
  },
  {
   "cell_type": "markdown",
   "id": "2632d1fe",
   "metadata": {
    "slideshow": {
     "slide_type": "slide"
    }
   },
   "source": [
    "# Adding columns to a DataFrame"
   ]
  },
  {
   "cell_type": "code",
   "execution_count": null,
   "id": "81c771e0",
   "metadata": {
    "slideshow": {
     "slide_type": "slide"
    }
   },
   "outputs": [],
   "source": [
    "# adding a new column\n",
    "df[\"had_a_bad_trip\"] = True # adds a new column, with the same value in ALL rows\n",
    "df.head(3)"
   ]
  },
  {
   "cell_type": "code",
   "execution_count": null,
   "id": "a22e5147",
   "metadata": {
    "slideshow": {
     "slide_type": "slide"
    }
   },
   "outputs": [],
   "source": [
    "df[\"linkedin\"] = None\n",
    "df.head(3)"
   ]
  },
  {
   "cell_type": "code",
   "execution_count": null,
   "id": "5dbbae34",
   "metadata": {
    "slideshow": {
     "slide_type": "slide"
    }
   },
   "outputs": [],
   "source": [
    "# adding a new column based on another column\n",
    "df[\"Fare_DKK\"] = df[\"Fare\"] * 900 # multiply the value in each row of \"Fare\" by 900\n",
    "df[\"Fare_EUR\"] = df[\"Fare\"] * 120 # multiply the value in each row of \"Fare\" by 120\n",
    "df.head()"
   ]
  },
  {
   "cell_type": "markdown",
   "id": "e3f7d9e2",
   "metadata": {
    "slideshow": {
     "slide_type": "slide"
    }
   },
   "source": [
    "# Deleting rows and columns with `.drop()`"
   ]
  },
  {
   "cell_type": "code",
   "execution_count": null,
   "id": "d8c138ea",
   "metadata": {
    "slideshow": {
     "slide_type": "slide"
    }
   },
   "outputs": [],
   "source": [
    "# remove a row: axis = 0\n",
    "# df.drop(labels=3, axis=0)\n",
    "# df.head()\n",
    "# this removes the row with label 3"
   ]
  },
  {
   "cell_type": "code",
   "execution_count": null,
   "id": "4f8ed5e9",
   "metadata": {
    "slideshow": {
     "slide_type": "slide"
    }
   },
   "outputs": [],
   "source": [
    "# remove a column: axis = 1\n",
    "df.drop(labels=\"Age\", axis = 1)\n",
    "# this removes the column \"Age\""
   ]
  },
  {
   "cell_type": "code",
   "execution_count": null,
   "id": "a63ab26d",
   "metadata": {
    "slideshow": {
     "slide_type": "slide"
    }
   },
   "outputs": [],
   "source": [
    "# how to CHANGE the dataframe instead of changing the VIEW?\n",
    "df = df.drop(labels=\"Age\", axis = 1)\n",
    "# either overwrite the variable"
   ]
  },
  {
   "cell_type": "code",
   "execution_count": null,
   "id": "fa158842",
   "metadata": {
    "slideshow": {
     "slide_type": "slide"
    }
   },
   "outputs": [],
   "source": [
    "# how to CHANGE the dataframe instead of changing the VIEW?\n",
    "df.drop(labels=\"Name\", axis = 1, inplace=True)\n",
    "df.head()\n",
    "# OR set inplace=True"
   ]
  },
  {
   "cell_type": "code",
   "execution_count": null,
   "id": "251c42b7",
   "metadata": {
    "slideshow": {
     "slide_type": "slide"
    }
   },
   "outputs": [],
   "source": [
    "# now both \"Name\" and \"Age\" columns are removed:\n",
    "df.head(3)"
   ]
  },
  {
   "cell_type": "code",
   "execution_count": null,
   "id": "762e060a",
   "metadata": {
    "slideshow": {
     "slide_type": "slide"
    }
   },
   "outputs": [],
   "source": [
    "# let's read in the data one more time, after we messed with it:\n",
    "df = pd.read_csv(\"data/titanic.csv\")"
   ]
  },
  {
   "cell_type": "markdown",
   "id": "509c7cc0",
   "metadata": {
    "slideshow": {
     "slide_type": "slide"
    }
   },
   "source": [
    "# Subsetting DataFrames\n",
    "\n",
    "* Boolean indexing (filtering by condition)\n",
    "* bitwise operators!"
   ]
  },
  {
   "cell_type": "markdown",
   "id": "ebd5eb62",
   "metadata": {
    "slideshow": {
     "slide_type": "slide"
    }
   },
   "source": [
    "# Boolean indexing (filtering by condition)\n",
    "\n",
    "##### `df[columnlabel]` can be combined with comparison `> < == !=`  operators\n",
    "##### `conditions` can be combined with \"bitwise and\"  `&`, \"bitwise or\" `|`  operators\n",
    "##### `df[condition]` returns only those rows where condition is True\n",
    "##### `df[(condition1) & (condition2)]` returns only those rows where both conditions are True\n",
    "##### `df[(condition1) | (condition2)]` returns only those rows at least one of the conditions is True"
   ]
  },
  {
   "cell_type": "code",
   "execution_count": null,
   "id": "a3bf8b20",
   "metadata": {
    "slideshow": {
     "slide_type": "slide"
    }
   },
   "outputs": [],
   "source": [
    "# let's see what happens if we use a comparison operator with a single column:\n",
    "# returns for each row either True or False\n",
    "df[\"Age\"] > 18 # was this person over 18 on that ship?"
   ]
  },
  {
   "cell_type": "code",
   "execution_count": null,
   "id": "30e0ffe1",
   "metadata": {
    "slideshow": {
     "slide_type": "slide"
    }
   },
   "outputs": [],
   "source": [
    "# we can use that condition to index only rows where condition is True:\n",
    "my_condition = df[\"Age\"] > 18 # who was over 18 on that ship?\n",
    "df[my_condition]"
   ]
  },
  {
   "cell_type": "code",
   "execution_count": null,
   "id": "3a7b0d4e",
   "metadata": {
    "slideshow": {
     "slide_type": "slide"
    }
   },
   "outputs": [],
   "source": [
    "# a shorter (but perhaps more confusing at first) way to write this: \n",
    "# df[condition] (where condition contains a df column)\n",
    "df[ df[\"Age\"]>18 ]"
   ]
  },
  {
   "cell_type": "code",
   "execution_count": null,
   "id": "6f9da545",
   "metadata": {
    "slideshow": {
     "slide_type": "slide"
    }
   },
   "outputs": [],
   "source": [
    "# filtering by several conditions:\n",
    "# put each condition inside () round brackets\n",
    "# combine them with & (meaning \"and\") or | (meaining \"or\")\n",
    "# everyone that was over 18 AND survived \n",
    "df[ (df[\"Age\"]>18) & (df[\"Survived\"]==1) ]"
   ]
  },
  {
   "cell_type": "code",
   "execution_count": null,
   "id": "b8168019",
   "metadata": {
    "slideshow": {
     "slide_type": "slide"
    }
   },
   "outputs": [],
   "source": [
    "# everyone that is male and under 25\n",
    "df[ (df[\"Sex\"]==\"male\") & (df[\"Age\"]<25) ]"
   ]
  },
  {
   "cell_type": "code",
   "execution_count": null,
   "id": "5d73a2d2",
   "metadata": {
    "slideshow": {
     "slide_type": "slide"
    }
   },
   "outputs": [],
   "source": [
    "# everyone that is either female, or over 18, or both \n",
    "df[ (df[\"Sex\"]==\"female\") | (df[\"Age\"]>18) ]"
   ]
  },
  {
   "cell_type": "markdown",
   "id": "f9dabf02",
   "metadata": {
    "slideshow": {
     "slide_type": "slide"
    }
   },
   "source": [
    "# Combining several DataFrames\n",
    "\n",
    "### `pd.concat([<list-of-dataframes>])`"
   ]
  },
  {
   "cell_type": "code",
   "execution_count": null,
   "id": "d4323264",
   "metadata": {
    "slideshow": {
     "slide_type": "slide"
    }
   },
   "outputs": [],
   "source": [
    "# along the row axis (0)\n",
    "adults = df[df.Age >= 18].copy()\n",
    "kids = df[df.Age < 18].copy()\n",
    "# pd.concat([adults,kids], axis=0)"
   ]
  },
  {
   "cell_type": "code",
   "execution_count": null,
   "id": "3e0dac4e",
   "metadata": {
    "slideshow": {
     "slide_type": "slide"
    }
   },
   "outputs": [],
   "source": [
    "# along the column axis (1)\n",
    "names = df[\"Age\"].copy()\n",
    "rest = df.drop(labels=\"Age\", axis = 1).copy()\n",
    "pd.concat([names,rest], axis=1)"
   ]
  },
  {
   "cell_type": "markdown",
   "id": "0dd922bd",
   "metadata": {
    "slideshow": {
     "slide_type": "slide"
    }
   },
   "source": [
    "# Saving DataFrames to file\n",
    "\n",
    "### df.to_csv(filename)"
   ]
  },
  {
   "cell_type": "code",
   "execution_count": null,
   "id": "d66d94f8",
   "metadata": {
    "slideshow": {
     "slide_type": "slide"
    }
   },
   "outputs": [],
   "source": [
    "df.to_csv(\"titanic-pandas.csv\")"
   ]
  },
  {
   "cell_type": "code",
   "execution_count": null,
   "id": "9fda6266",
   "metadata": {
    "slideshow": {
     "slide_type": "slide"
    }
   },
   "outputs": [],
   "source": [
    "df.to_csv(\"titanic-pandas.csv\", index=False)"
   ]
  },
  {
   "cell_type": "markdown",
   "id": "4e4c9f58",
   "metadata": {
    "slideshow": {
     "slide_type": "slide"
    }
   },
   "source": [
    "# `.apply()` method for pandas dataframe columns\n",
    "\n",
    "...and very brief intro to inline `lambda` functions!"
   ]
  },
  {
   "cell_type": "code",
   "execution_count": null,
   "id": "d05dbc30",
   "metadata": {
    "slideshow": {
     "slide_type": "slide"
    }
   },
   "outputs": [],
   "source": [
    "df.Fare"
   ]
  },
  {
   "cell_type": "code",
   "execution_count": null,
   "id": "23f341dd",
   "metadata": {
    "slideshow": {
     "slide_type": "slide"
    }
   },
   "outputs": [],
   "source": [
    "# trying to convert all Fare values into integers\n",
    "int(df.Fare)\n",
    "# this doesn't work - why?"
   ]
  },
  {
   "cell_type": "code",
   "execution_count": null,
   "id": "c9f905fd",
   "metadata": {
    "slideshow": {
     "slide_type": "slide"
    }
   },
   "outputs": [],
   "source": [
    "# apply the \"int()\" function to each row\n",
    "df.Fare.apply(int)"
   ]
  },
  {
   "cell_type": "code",
   "execution_count": null,
   "id": "ddd7d94b",
   "metadata": {
    "slideshow": {
     "slide_type": "slide"
    }
   },
   "outputs": [],
   "source": [
    "# apply the \"type()\" function to each row\n",
    "df.Fare.apply(type)"
   ]
  },
  {
   "cell_type": "code",
   "execution_count": null,
   "id": "8ec51c93",
   "metadata": {
    "slideshow": {
     "slide_type": "slide"
    }
   },
   "outputs": [],
   "source": [
    "# multiply each row's Fare value by 900\n",
    "def multiply_by_900(myvalue):\n",
    "    return myvalue * 900\n",
    "df.Fare.apply(multiply_by_900)"
   ]
  },
  {
   "cell_type": "code",
   "execution_count": null,
   "id": "85439326",
   "metadata": {
    "slideshow": {
     "slide_type": "slide"
    }
   },
   "outputs": [],
   "source": [
    "# multiply each row's Fare value by 900 - with\n",
    "# INLINE FUNCTION (LAMBDA)\n",
    "df.Fare.apply(lambda x: x*900)"
   ]
  },
  {
   "cell_type": "code",
   "execution_count": null,
   "id": "ab785aeb",
   "metadata": {
    "slideshow": {
     "slide_type": "slide"
    }
   },
   "outputs": [],
   "source": [
    "# convert the Survived 0/1 to boolean\n",
    "df.Survived.apply(lambda x: bool(x))"
   ]
  },
  {
   "cell_type": "code",
   "execution_count": null,
   "id": "64117f5d",
   "metadata": {
    "slideshow": {
     "slide_type": "slide"
    }
   },
   "outputs": [],
   "source": [
    "# split each string by \" \"\n",
    "df.Name.apply(lambda x: x.split(\" \"))"
   ]
  },
  {
   "cell_type": "markdown",
   "id": "2a89f660",
   "metadata": {
    "slideshow": {
     "slide_type": "slide"
    }
   },
   "source": [
    "# Try it out yourself!\n",
    "\n",
    "Write one line of code each `apply.()`ing `lambda` functions...\n",
    "* to `df.Fare`, so that for each record the text \"I want my {insert Fare} dollars back\"\n",
    "* to `df.Age`, so that for each record we get the age in *months*\n",
    "* to `df.Sex`, so that for each record we show only the first letter for this column (\"m\" or \"f\")"
   ]
  },
  {
   "cell_type": "code",
   "execution_count": null,
   "id": "22f35147",
   "metadata": {
    "slideshow": {
     "slide_type": "slide"
    }
   },
   "outputs": [],
   "source": [
    "# YOUR CODE HERE"
   ]
  }
 ],
 "metadata": {
  "celltoolbar": "Slideshow",
  "kernelspec": {
   "display_name": "base",
   "language": "python",
   "name": "python3"
  },
  "language_info": {
   "codemirror_mode": {
    "name": "ipython",
    "version": 3
   },
   "file_extension": ".py",
   "mimetype": "text/x-python",
   "name": "python",
   "nbconvert_exporter": "python",
   "pygments_lexer": "ipython3",
   "version": "3.13.5"
  }
 },
 "nbformat": 4,
 "nbformat_minor": 5
}

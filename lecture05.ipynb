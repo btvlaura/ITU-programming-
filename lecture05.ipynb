{
 "cells": [
  {
   "cell_type": "markdown",
   "id": "15cbfc7a",
   "metadata": {
    "slideshow": {
     "slide_type": "slide"
    }
   },
   "source": [
    "# Python Crash Course IDSP 2025 - Lecture 05\n",
    "\n",
    "Contents:\n",
    "* Lecture 1-4 Big Recap (with mindmaps)\n",
    "* Data type None\n",
    "* Updates on functions: functions with several parameters; functions with None or several return values\n",
    "* Built-in modules in Python (soft intro; example: `random` module)\n",
    "* Packages in Python (soft intro; examples: `pandas`, `matplotlib`)\n",
    "* Text processing in Python pt 1 (string formatting & string methods)"
   ]
  },
  {
   "cell_type": "markdown",
   "id": "343185e6",
   "metadata": {
    "slideshow": {
     "slide_type": "slide"
    }
   },
   "source": [
    "**What happens in the code?**\n",
    "\n",
    "[PLEASE REPLY IN THIS MICROSOFT FORM!](https://forms.cloud.microsoft/e/51X2209smi)\n",
    "\n",
    "```python\n",
    "drinks = [\"soda\", \"beer\"]\n",
    "foods = [\"pizza\", \"salad\"]\n",
    "\n",
    "restaurant_order = {\n",
    "    \"soda\": 5,\n",
    "    \"beer\": 1,\n",
    "    \"pizza\": 4,\n",
    "    \"salad\": 3,\n",
    "    \"dessert\": 5\n",
    "}\n",
    "\n",
    "drinks_ordered = 0\n",
    "foods_ordered = 0\n",
    "\n",
    "for key, value in restaurant_order.items():\n",
    "    if key in drinks:\n",
    "        drinks_ordered += value\n",
    "    elif key in foods:\n",
    "        foods_ordered += value\n",
    "    else:\n",
    "        pass\n",
    "\n",
    "print(drinks_ordered)\n",
    "```"
   ]
  },
  {
   "cell_type": "code",
   "execution_count": 2,
   "id": "7852e558",
   "metadata": {},
   "outputs": [
    {
     "name": "stdout",
     "output_type": "stream",
     "text": [
      "7\n"
     ]
    }
   ],
   "source": [
    "drinks = [\"soda\", \"beer\"]\n",
    "foods = [\"pizza\", \"salad\"]\n",
    "\n",
    "restaurant_order = {\n",
    "    \"soda\": 5,\n",
    "    \"beer\": 1,\n",
    "    \"pizza\": 4,\n",
    "    \"salad\": 3,\n",
    "    \"dessert\": 5\n",
    "}\n",
    "\n",
    "drinks_ordered = 0\n",
    "foods_ordered = 0\n",
    "\n",
    "for key, value in restaurant_order.items():\n",
    "    if key in drinks:\n",
    "        drinks_ordered += value\n",
    "    elif key in foods:\n",
    "        foods_ordered += value\n",
    "    else:\n",
    "        pass\n",
    "\n",
    "print(foods_ordered)"
   ]
  },
  {
   "cell_type": "markdown",
   "id": "5769783e",
   "metadata": {
    "slideshow": {
     "slide_type": "slide"
    }
   },
   "source": [
    "# Update on data types: `None` \n",
    "\n",
    "To define the absence of everything"
   ]
  },
  {
   "cell_type": "code",
   "execution_count": 3,
   "id": "34538640",
   "metadata": {
    "slideshow": {
     "slide_type": "slide"
    }
   },
   "outputs": [
    {
     "name": "stdout",
     "output_type": "stream",
     "text": [
      "None\n",
      "<class 'NoneType'>\n"
     ]
    }
   ],
   "source": [
    "# the None object, with a capital N:\n",
    "x = None\n",
    "print(x)\n",
    "print(type(x))"
   ]
  },
  {
   "cell_type": "code",
   "execution_count": 4,
   "id": "c5307601",
   "metadata": {
    "slideshow": {
     "slide_type": "slide"
    }
   },
   "outputs": [
    {
     "name": "stdout",
     "output_type": "stream",
     "text": [
      "False\n",
      "False\n",
      "False\n"
     ]
    }
   ],
   "source": [
    "# ONLY NONE CAN BE NONE! \n",
    "# None is not the same as empty\n",
    "x = None\n",
    "empty_string = \"\"\n",
    "empty_list = []\n",
    "empty_tuple = ()\n",
    "print(x == empty_string)\n",
    "print(x == empty_list)\n",
    "print(x == empty_tuple)"
   ]
  },
  {
   "cell_type": "code",
   "execution_count": 5,
   "id": "610fc8a2",
   "metadata": {
    "slideshow": {
     "slide_type": "slide"
    }
   },
   "outputs": [
    {
     "name": "stdout",
     "output_type": "stream",
     "text": [
      "False\n",
      "False\n",
      "True\n"
     ]
    }
   ],
   "source": [
    "# Only None is None!\n",
    "print(None == True)\n",
    "print(None == False)\n",
    "print(None == None)"
   ]
  },
  {
   "cell_type": "markdown",
   "id": "6aa1c69b",
   "metadata": {
    "slideshow": {
     "slide_type": "slide"
    }
   },
   "source": [
    "***\n",
    "\n",
    "## Update on functions\n",
    "* functions can return `None` (also: if no return statement!)\n",
    "* functions can return multiple values\n",
    "* functions can take several parameters"
   ]
  },
  {
   "cell_type": "markdown",
   "id": "573bd953",
   "metadata": {
    "slideshow": {
     "slide_type": "slide"
    }
   },
   "source": [
    "## Update on functions\n",
    "\n",
    "### parameter: \n",
    "temporary variable declared in the function definition\n",
    "\n",
    "### argument: \n",
    "value passed into the function call\n",
    "\n",
    "```python\n",
    "def add_one(x): # x is the (only) parameter of \"add_one\"\n",
    "    return x + 1\n",
    "\n",
    "add_one(5) # 5 is the argument passed into the function call\n",
    "```"
   ]
  },
  {
   "cell_type": "markdown",
   "id": "8e5d7ead",
   "metadata": {
    "slideshow": {
     "slide_type": "slide"
    }
   },
   "source": [
    "## Update on functions\n",
    "\n",
    "* parameters can be required or optional\n",
    "* optional parameters have a default value\n",
    "* we can mix required and optional parameters in a function call\n",
    "* we can assign arguments explicitly (by parameter name)"
   ]
  },
  {
   "cell_type": "code",
   "execution_count": null,
   "id": "f29015d6",
   "metadata": {
    "slideshow": {
     "slide_type": "slide"
    }
   },
   "outputs": [],
   "source": [
    "# if there is no return statement,\n",
    "# the function returns None:\n",
    "def function_without_return():\n",
    "    1 + 2\n",
    "\n",
    "function_without_return()"
   ]
  },
  {
   "cell_type": "code",
   "execution_count": null,
   "id": "5d011c6a",
   "metadata": {
    "slideshow": {
     "slide_type": "slide"
    }
   },
   "outputs": [],
   "source": [
    "# if there is no return statement,\n",
    "# the function returns None:\n",
    "def function_without_return():\n",
    "    1 + 1\n",
    "\n",
    "print(function_without_return())"
   ]
  },
  {
   "cell_type": "code",
   "execution_count": null,
   "id": "a58a5ee8",
   "metadata": {
    "slideshow": {
     "slide_type": "slide"
    }
   },
   "outputs": [],
   "source": [
    "# if there is no return statement,\n",
    "# the function returns None:\n",
    "def function_without_return():\n",
    "    1 + 1\n",
    "\n",
    "result = function_without_return()\n",
    "print(result)"
   ]
  },
  {
   "cell_type": "code",
   "execution_count": null,
   "id": "5af66da2",
   "metadata": {
    "slideshow": {
     "slide_type": "slide"
    }
   },
   "outputs": [],
   "source": [
    "# some functions that we already learned \n",
    "# (and some methods!) return None!\n",
    "result = print(\"hello world!\")\n",
    "print(result)"
   ]
  },
  {
   "cell_type": "code",
   "execution_count": null,
   "id": "21ee3230",
   "metadata": {
    "slideshow": {
     "slide_type": "slide"
    }
   },
   "outputs": [],
   "source": [
    "# some functions that we already learned \n",
    "# (and some methods!) return None!\n",
    "mylist = [1, 2, 3]\n",
    "result = mylist.append(4)\n",
    "print(result) # the .append() method has no return value\n",
    "# print(mylist) # but the appending worked!"
   ]
  },
  {
   "cell_type": "code",
   "execution_count": null,
   "id": "a7b8783a",
   "metadata": {
    "slideshow": {
     "slide_type": "slide"
    }
   },
   "outputs": [],
   "source": [
    "mylist = [1, 2, 3]\n",
    "mylist = mylist.append(4) # THIS IS WRONG!!\n",
    "# we overwrote \"mylist\" with the return value \n",
    "# of the .append() method, which is None\n",
    "# print(mylist) "
   ]
  },
  {
   "cell_type": "code",
   "execution_count": null,
   "id": "0f9045b7",
   "metadata": {
    "slideshow": {
     "slide_type": "slide"
    }
   },
   "outputs": [],
   "source": [
    "# functions can return multiple values\n",
    "# just write them all after your \"return\" keyword, separated by commas:\n",
    "def square_and_cube(x):\n",
    "    return x ** 2, x ** 3 \n",
    "\n",
    "result = square_and_cube(2)\n",
    "print(result) # the result is a TUPLE!\n",
    "print(type(result))"
   ]
  },
  {
   "cell_type": "code",
   "execution_count": null,
   "id": "8f43d153",
   "metadata": {
    "slideshow": {
     "slide_type": "slide"
    }
   },
   "outputs": [],
   "source": [
    "# functions can return multiple values\n",
    "# just write them all after your \"return\" keyword, separated by commas:\n",
    "def square_and_cube(x):\n",
    "    return x ** 2, x ** 3 \n",
    "\n",
    "# we can save each item within the returned tuple into a separate variable:\n",
    "a, b = square_and_cube(2)  \n",
    "print(a)\n",
    "print(b)"
   ]
  },
  {
   "cell_type": "code",
   "execution_count": null,
   "id": "42538c8f",
   "metadata": {
    "slideshow": {
     "slide_type": "slide"
    }
   },
   "outputs": [],
   "source": [
    "# functions can return multiple values\n",
    "# just write them all after your \"return\" keyword, separated by commas:\n",
    "def square_and_cube(x):\n",
    "    return x ** 2, x ** 3 \n",
    "\n",
    "# if we don't need one of the returned variables, use undersscore:\n",
    "_, b = square_and_cube(2)  # let's say i don't care about square, i just want cube\n",
    "print(b)"
   ]
  },
  {
   "cell_type": "code",
   "execution_count": null,
   "id": "9bba1216",
   "metadata": {
    "slideshow": {
     "slide_type": "slide"
    }
   },
   "outputs": [],
   "source": [
    "# HOW NOT TO DO IT:\n",
    "def square_and_cube(x):\n",
    "    return x ** 2, \n",
    "    return x ** 3 \n",
    "# this is WRONG!! function is exited as soon as return statement is executed\n",
    "# THE 2ND RETURN STATEMENT NEVER GETS EXECUTED \n",
    "\n",
    "# the function call still works... but this is not what we wanted\n",
    "square_and_cube(2)\n",
    "\n"
   ]
  },
  {
   "cell_type": "markdown",
   "id": "80d9963e",
   "metadata": {
    "slideshow": {
     "slide_type": "slide"
    }
   },
   "source": [
    "# Vocab: \n",
    "\n",
    "* DEFINITION vs. CALL\n",
    "* PARAMETERS vs. ARGUMENTS"
   ]
  },
  {
   "cell_type": "code",
   "execution_count": null,
   "id": "94a0d1e1",
   "metadata": {
    "slideshow": {
     "slide_type": "slide"
    }
   },
   "outputs": [],
   "source": [
    "# function DEFINITION\n",
    "def add_5(x): \n",
    "    x = x + 5\n",
    "    return x\n",
    "\n",
    "# function CALL\n",
    "add_5(4) "
   ]
  },
  {
   "cell_type": "code",
   "execution_count": null,
   "id": "bc615029",
   "metadata": {
    "slideshow": {
     "slide_type": "slide"
    }
   },
   "outputs": [],
   "source": [
    "# function definition\n",
    "def add_5(x): # x ...is the PARAMETER (arbitrarily named)\n",
    "    x = x + 5\n",
    "    return x\n",
    "\n",
    "# function call\n",
    "add_5(4) # 4 ... is the ARGUMENT (value passed to function)"
   ]
  },
  {
   "cell_type": "code",
   "execution_count": null,
   "id": "16ef7c19",
   "metadata": {
    "slideshow": {
     "slide_type": "slide"
    }
   },
   "outputs": [],
   "source": [
    "# a function can have several PARAMETERS\n",
    "def add_three_numbers(x, y, z):\n",
    "    my_sum = x + y + z\n",
    "    return my_sum\n",
    "# parameters in function def: x, y, z\n",
    "\n",
    "# function call\n",
    "add_three_numbers(1, 2, 3)\n",
    "# arguments in function call: 1, 2, 3"
   ]
  },
  {
   "cell_type": "markdown",
   "id": "abb642ce",
   "metadata": {
    "slideshow": {
     "slide_type": "slide"
    }
   },
   "source": [
    "# Q: How does Python know which argument corresponds to which parameter?"
   ]
  },
  {
   "cell_type": "code",
   "execution_count": null,
   "id": "4c1a18df",
   "metadata": {
    "slideshow": {
     "slide_type": "slide"
    }
   },
   "outputs": [],
   "source": [
    "# a function can have several parameters\n",
    "def add_numbers(x, y, z):\n",
    "    my_sum = x + y + z\n",
    "    return my_sum\n",
    "# parameters in function def: x, y, z\n",
    "\n",
    "# in this function call\n",
    "add_numbers(1, 2, 3)\n",
    "# python knows BY POSITION: \n",
    "# first argument (1) is x \n",
    "# second argument (2) is y\n",
    "# third argument (3) is z"
   ]
  },
  {
   "cell_type": "code",
   "execution_count": null,
   "id": "1640bac4",
   "metadata": {
    "slideshow": {
     "slide_type": "slide"
    }
   },
   "outputs": [],
   "source": [
    "# a function can have several parameters\n",
    "def add_numbers(x, y, z):\n",
    "    my_sum = x + y + z\n",
    "    return my_sum\n",
    "\n",
    "# function call\n",
    "# we can explicitly \"assign the arguments by parameter name\"\n",
    "add_numbers(x = 1, y = 2, z = 3)"
   ]
  },
  {
   "cell_type": "code",
   "execution_count": 13,
   "id": "091e1d0c",
   "metadata": {
    "slideshow": {
     "slide_type": "slide"
    }
   },
   "outputs": [
    {
     "name": "stdout",
     "output_type": "stream",
     "text": [
      "25\n",
      "32\n"
     ]
    }
   ],
   "source": [
    "# why is it useful to assign arguments by NAME?\n",
    "# because ORDER MATTERS!\n",
    "def compute_power(x, y):\n",
    "    return x**y\n",
    "\n",
    "print(compute_power(5,2)) # positional arguments >> computes 5 * 5\n",
    "print(compute_power(2,5)) # positional argument >> computes 2 * 2 * 2 * 2 * 2"
   ]
  },
  {
   "cell_type": "code",
   "execution_count": 7,
   "id": "f53ac531",
   "metadata": {
    "slideshow": {
     "slide_type": "slide"
    }
   },
   "outputs": [
    {
     "data": {
      "text/plain": [
       "25"
      ]
     },
     "execution_count": 7,
     "metadata": {},
     "output_type": "execute_result"
    }
   ],
   "source": [
    "# why is it useful to assign arguments by NAME?\n",
    "# because ORDER MATTERS!\n",
    "def compute_power(x, y):\n",
    "    return x**y\n",
    "\n",
    "# to be sure that we use the parameters in the way we intended,\n",
    "# assign by name! if we want to compute 5 to the power of 2,\n",
    "compute_power(x = 5, y = 2) # named arguments >> computes 5 ** 2\n",
    "compute_power(y = 2, x = 5) # named arguments >> ALSO computes 5 ** 2"
   ]
  },
  {
   "cell_type": "code",
   "execution_count": 8,
   "id": "0e264118",
   "metadata": {
    "slideshow": {
     "slide_type": "slide"
    }
   },
   "outputs": [
    {
     "data": {
      "text/plain": [
       "9"
      ]
     },
     "execution_count": 8,
     "metadata": {},
     "output_type": "execute_result"
    }
   ],
   "source": [
    "# we can have \"default values\" for \"optional parameters\":\n",
    "def compute_power(x, y = 2):\n",
    "    return x ** y\n",
    "\n",
    "# what happens if we don't provide an argument for the second parameter?\n",
    "compute_power(3)\n",
    "\n",
    "# what happens if we DO provide an argument for the second parameter?\n",
    "# compute_power(3, 4)"
   ]
  },
  {
   "cell_type": "code",
   "execution_count": null,
   "id": "23e190fb",
   "metadata": {
    "slideshow": {
     "slide_type": "slide"
    }
   },
   "outputs": [],
   "source": [
    "# we can have \"default values\" for \"optional parameters\":\n",
    "def compute_power(x, y = 2):\n",
    "    # x is required (must be provided)\n",
    "    # y is optional (if not provided, gets the default value)\n",
    "    return x ** y\n",
    "\n",
    "# compute_power(3) # if we DO NOT specify y, it will return x ** 2\n",
    "# compute_power(3,3) # if we DO specify y, it will return x ** y\n",
    "# compute_power(y=3) # if we DO NOT specify x, it will complain"
   ]
  },
  {
   "cell_type": "code",
   "execution_count": null,
   "id": "92883d9e",
   "metadata": {
    "slideshow": {
     "slide_type": "slide"
    }
   },
   "outputs": [],
   "source": [
    "# RULE FOR FUNCTION DEFINITIONS:\n",
    "# required parameters must ALWAYS COME FIRST\n",
    "# and default parameters come LAST.\n",
    "# this will throw an error message:\n",
    "def compute_power(x = 10, y): # THIS IS WRONG\n",
    "    return x ** y"
   ]
  },
  {
   "cell_type": "code",
   "execution_count": null,
   "id": "c88f2c93",
   "metadata": {
    "slideshow": {
     "slide_type": "slide"
    }
   },
   "outputs": [],
   "source": [
    "# SIMILAR RULE FOR FUNCTION CALLS:\n",
    "def compute_power(x, y = 2): \n",
    "    return x ** y\n",
    "\n",
    "### POSSIBLE OPTIONS\n",
    "# compute_power(3, 3) # this works (all arguments are positional)\n",
    "# compute_power(x = 3, y = 3) # this works (all arguments are named)\n",
    "# compute_power(y = 3, x = 3) # this works (all arguments are named, so position doesn't matter)\n",
    "# compute_power(3, y = 3) # this works! (first positional, then named) \n",
    "\n",
    "### IMPOSSIBLE OPTIONS\n",
    "# compute_power(x = 3, 3) # THIS DOESN'T WORK! (first named, then positional is a NO)\n",
    "# compute_power(y = 3, 3) # THIS DOESN'T WORK! (first named, then positional is a NO)\n"
   ]
  },
  {
   "cell_type": "markdown",
   "id": "e39fb720",
   "metadata": {
    "slideshow": {
     "slide_type": "slide"
    }
   },
   "source": [
    "# Try it out yourself!\n",
    "\n",
    "1. Define a function `compute_fraction` that takes 3 input parameters `a, b, c` and computes $\\frac{a+b}{c}$. Try it out for different values of `a, b, c`. Run the cell with the `assert` statements to see if you defined the function correctly.\n",
    "\n",
    "2. Define a function `compute_sum_or_fraction` that takes 3 input parameters and computes $\\frac{a+b}{c}$; where a and b are **required parameters** and **c is an optional parameter with the default value `1`**. Try it out for different values `a, b, c`; try it out with providing only the parameters `a, b`. Run the cell with the `assert` statements to see if you defined the function correctly."
   ]
  },
  {
   "cell_type": "markdown",
   "id": "e64de0d2",
   "metadata": {
    "slideshow": {
     "slide_type": "slide"
    }
   },
   "source": [
    "**`compute_fraction`**"
   ]
  },
  {
   "cell_type": "code",
   "execution_count": 9,
   "id": "feb67f68",
   "metadata": {
    "slideshow": {
     "slide_type": "slide"
    }
   },
   "outputs": [],
   "source": [
    "# define your function\n",
    "def compute_fraction(a,b,c):\n",
    "    # YOUR CODE HERE\n",
    "    return (a+b)/c\n",
    "\n",
    "    raise NotImplementedError()\n"
   ]
  },
  {
   "cell_type": "code",
   "execution_count": null,
   "id": "d2462bd1",
   "metadata": {
    "slideshow": {
     "slide_type": "slide"
    }
   },
   "outputs": [],
   "source": [
    "# test it out for different values of a, b, c"
   ]
  },
  {
   "cell_type": "code",
   "execution_count": 10,
   "id": "d72e358d",
   "metadata": {
    "slideshow": {
     "slide_type": "slide"
    }
   },
   "outputs": [],
   "source": [
    "# test your function\n",
    "assert compute_fraction(1,2,3)==1\n",
    "assert compute_fraction(2,2,2)==2\n",
    "assert compute_fraction(10,60,7)==10"
   ]
  },
  {
   "cell_type": "markdown",
   "id": "1aff3b87",
   "metadata": {
    "slideshow": {
     "slide_type": "slide"
    }
   },
   "source": [
    "**`compute_sum_or_fraction`**"
   ]
  },
  {
   "cell_type": "code",
   "execution_count": 11,
   "id": "5d2eab40",
   "metadata": {
    "slideshow": {
     "slide_type": "slide"
    }
   },
   "outputs": [],
   "source": [
    "# define your function\n",
    "def compute_sum_or_fraction(a,b,c = 1):\n",
    "    # YOUR CODE HERE\n",
    "    return (a+b)/c\n",
    "    raise NotImplementedError()"
   ]
  },
  {
   "cell_type": "code",
   "execution_count": 15,
   "id": "e389a39e",
   "metadata": {
    "slideshow": {
     "slide_type": "slide"
    }
   },
   "outputs": [
    {
     "name": "stdout",
     "output_type": "stream",
     "text": [
      "4.0\n"
     ]
    }
   ],
   "source": [
    "# try out your functions for different values a,b,c \n",
    "# and for different values a,b\n",
    "print(compute_sum_or_fraction(2,2))"
   ]
  },
  {
   "cell_type": "code",
   "execution_count": 16,
   "id": "4b7c9676",
   "metadata": {
    "slideshow": {
     "slide_type": "slide"
    }
   },
   "outputs": [],
   "source": [
    "# test your function\n",
    "assert compute_sum_or_fraction(1,2,3)==1\n",
    "assert compute_sum_or_fraction(60,10,7)==10\n",
    "\n",
    "assert compute_sum_or_fraction(1,2)==3\n",
    "assert compute_sum_or_fraction(10,5)==15\n"
   ]
  },
  {
   "cell_type": "markdown",
   "id": "afe0a52a",
   "metadata": {
    "slideshow": {
     "slide_type": "slide"
    }
   },
   "source": [
    "## Update on functions\n",
    "\n",
    "### parameter: \n",
    "temporary variable declared in the function definition\n",
    "\n",
    "### argument: \n",
    "value passed into the function call\n",
    "\n",
    "* parameters can be required or optional\n",
    "* optional parameters have a default value\n",
    "* we can mix required and optional parameters in a function call\n",
    "* we can assign arguments explicitly (by parameter name)"
   ]
  },
  {
   "cell_type": "markdown",
   "id": "8eb3dbbe",
   "metadata": {
    "slideshow": {
     "slide_type": "slide"
    }
   },
   "source": [
    "**Introducing built-in modules**\n",
    "\n",
    "# Some easy tasks in Python?\n",
    "* Find the square root of 8.\n",
    "* Randomly choose a number from 1 to 6. (\"dice throw\")\n",
    "* Print the contents of your working directory (folder).\n",
    "\n",
    "**\"I'm sure there is a function to do this!\"**\n",
    "\n",
    "https://docs.python.org/3/library/functions.html"
   ]
  },
  {
   "cell_type": "markdown",
   "id": "53d07972",
   "metadata": {
    "slideshow": {
     "slide_type": "slide"
    }
   },
   "source": [
    "# Some easy tasks in Python?\n",
    "* Find the square root of 8.\n",
    "* Print the contents of your working directory (folder).\n",
    "* Randomly choose a number from 1 to 6. (\"dice throw\")\n",
    "\n",
    "**\"I'm sure there is a** ~~function~~ **function in a module to do this!\"**\n",
    "\n",
    "\n",
    "There are many built-in modules in Python for different purposes: https://docs.python.org/3/py-modindex.html\n",
    "\n",
    "A module is a file containing Python definitions and statements; you can also make your own modules: https://docs.python.org/3/tutorial/modules.html\n"
   ]
  },
  {
   "cell_type": "markdown",
   "id": "e34bc46e",
   "metadata": {
    "slideshow": {
     "slide_type": "slide"
    }
   },
   "source": [
    "# Some easy tasks in Python?\n",
    "* Find the square root of 8. $\\rightarrow$ `math` module\n",
    "* Randomly choose a number from 1 to 6. (\"dice throw\") $\\rightarrow$ `random` module\n",
    "* Print the contents of your working directory (folder). $\\rightarrow$ `os` (operating system) module\n",
    "\n",
    "**\"I'm sure there is a** ~~function~~ **function in a module to do this!\"**\n",
    "\n",
    "A module is a file containing Python definitions and statements. https://docs.python.org/3/tutorial/modules.html\n",
    "\n",
    "There are many built-in modules in Python for different purposes: https://docs.python.org/3/py-modindex.html\n"
   ]
  },
  {
   "cell_type": "code",
   "execution_count": 5,
   "id": "9cfb792b",
   "metadata": {
    "slideshow": {
     "slide_type": "slide"
    }
   },
   "outputs": [
    {
     "data": {
      "text/plain": [
       "6.0"
      ]
     },
     "execution_count": 5,
     "metadata": {},
     "output_type": "execute_result"
    }
   ],
   "source": [
    "# for computing the square root, there is the function sqrt()\n",
    "# in the math module. but we cannot use it yet:\n",
    "math.sqrt(36)"
   ]
  },
  {
   "cell_type": "code",
   "execution_count": 3,
   "id": "56278b51",
   "metadata": {
    "slideshow": {
     "slide_type": "slide"
    }
   },
   "outputs": [
    {
     "data": {
      "text/plain": [
       "6.0"
      ]
     },
     "execution_count": 3,
     "metadata": {},
     "output_type": "execute_result"
    }
   ],
   "source": [
    "# for computing the square root, there is the function sqrt()\n",
    "# in the math module. but we cannot use it yet:\n",
    "math.sqrt(36)"
   ]
  },
  {
   "cell_type": "code",
   "execution_count": 2,
   "id": "45a661ef",
   "metadata": {
    "slideshow": {
     "slide_type": "slide"
    }
   },
   "outputs": [
    {
     "data": {
      "text/plain": [
       "<module 'math' from '/opt/anaconda3/lib/python3.13/lib-dynload/math.cpython-313-darwin.so'>"
      ]
     },
     "execution_count": 2,
     "metadata": {},
     "output_type": "execute_result"
    }
   ],
   "source": [
    "# the built-in modules \"come\" with Python, but we need to import them first:\n",
    "import math \n",
    "math"
   ]
  },
  {
   "cell_type": "code",
   "execution_count": 8,
   "id": "dde9d1f6",
   "metadata": {
    "slideshow": {
     "slide_type": "slide"
    }
   },
   "outputs": [
    {
     "data": {
      "text/plain": [
       "module"
      ]
     },
     "execution_count": 8,
     "metadata": {},
     "output_type": "execute_result"
    }
   ],
   "source": [
    "# the built-in modules \"come\" with Python, but we need to import them first:\n",
    "import math \n",
    "type(math)"
   ]
  },
  {
   "cell_type": "code",
   "execution_count": 9,
   "id": "d0d2c2c4",
   "metadata": {
    "slideshow": {
     "slide_type": "slide"
    }
   },
   "outputs": [
    {
     "data": {
      "text/plain": [
       "3.0"
      ]
     },
     "execution_count": 9,
     "metadata": {},
     "output_type": "execute_result"
    }
   ],
   "source": [
    "# now we can use all functions within math, for example math.sqrt:\n",
    "math.sqrt(9)\n",
    "# the syntax is: module_name.function_name"
   ]
  },
  {
   "cell_type": "markdown",
   "id": "e076d36f",
   "metadata": {
    "slideshow": {
     "slide_type": "slide"
    }
   },
   "source": [
    "# Q: how do I know which functions even exist?\n",
    "\n",
    "* Scroll through the documentation of the module: https://docs.python.org/3/library/math.html\n",
    "* Google + [StackOverflow](https://stackoverflow.com) it\n",
    "* If you are using an IDE (e.g. PyCharm, VS Studio Code): you will get suggestions as you start typing the module name"
   ]
  },
  {
   "cell_type": "code",
   "execution_count": 11,
   "id": "4cd7263a",
   "metadata": {
    "slideshow": {
     "slide_type": "slide"
    }
   },
   "outputs": [
    {
     "data": {
      "text/plain": [
       "5.0"
      ]
     },
     "execution_count": 11,
     "metadata": {},
     "output_type": "execute_result"
    }
   ],
   "source": [
    "# if we only need 1 function from the entire module, we can also just import that function:\n",
    "from math import sqrt\n",
    "# now we can use the function sqrt \"directly\" in our code:\n",
    "sqrt(25)"
   ]
  },
  {
   "cell_type": "code",
   "execution_count": 12,
   "id": "d2386146",
   "metadata": {
    "slideshow": {
     "slide_type": "slide"
    }
   },
   "outputs": [
    {
     "data": {
      "text/plain": [
       "4.0"
      ]
     },
     "execution_count": 12,
     "metadata": {},
     "output_type": "execute_result"
    }
   ],
   "source": [
    "# if we are lazy typers, we can come up with an \"alias\" for a module:\n",
    "import math as mm\n",
    "# now, to call a function from that module, we just need to type the alias (not the entire module name):\n",
    "mm.sqrt(16)"
   ]
  },
  {
   "cell_type": "markdown",
   "id": "d5020c4f",
   "metadata": {
    "slideshow": {
     "slide_type": "slide"
    }
   },
   "source": [
    "# Python syntax to import modules\n",
    "\n",
    "```python\n",
    "# to import an ENTIRE module\n",
    "import math\n",
    "# to use a function from that module\n",
    "math.sqrt() # modulename.functionname\n",
    "\n",
    "# to import only some FUNCTIONS from a module\n",
    "from math import sqrt\n",
    "# now we can use the function \"directly\"\n",
    "sqrt()\n",
    "\n",
    "# to import a module with a \"nickname\"\n",
    "import math as mm\n",
    "# now we use \"mm\" to refer to that module's functions\n",
    "mm.sqrt() # modulenickname.functionname\n",
    "```\n"
   ]
  },
  {
   "cell_type": "markdown",
   "id": "86a3940e",
   "metadata": {
    "slideshow": {
     "slide_type": "slide"
    }
   },
   "source": [
    "# Try it out yourself!\n",
    "\n",
    "(our \"easy tasks\" from before)\n",
    "* Find the square root of 8, with the `math` module and its `sqrt` function\n",
    "* Randomly choose a number from 1 to 6. (\"simulate a dice throw\"), with the `random` module and its `choice` function\n",
    "* Print the contents of your working directory (folder), with the `os` (operating system) module and its `listdir` function\n",
    "\n",
    "If needed, you can check out the documentation of each module: look it up in the [Python Module Index](https://docs.python.org/3/py-modindex.html); or run `?modulename.functionname` to get the docstring."
   ]
  },
  {
   "cell_type": "code",
   "execution_count": 21,
   "id": "a8a8ce6f",
   "metadata": {
    "slideshow": {
     "slide_type": "slide"
    }
   },
   "outputs": [
    {
     "data": {
      "text/plain": [
       "2.8284271247461903"
      ]
     },
     "execution_count": 21,
     "metadata": {},
     "output_type": "execute_result"
    }
   ],
   "source": [
    "# find the square root of 8, using math and sqrt\n",
    "sqrt(8)"
   ]
  },
  {
   "cell_type": "code",
   "execution_count": 13,
   "id": "d5592880",
   "metadata": {
    "slideshow": {
     "slide_type": "slide"
    }
   },
   "outputs": [
    {
     "data": {
      "text/plain": [
       "3"
      ]
     },
     "execution_count": 13,
     "metadata": {},
     "output_type": "execute_result"
    }
   ],
   "source": [
    "# randomly choose a number from 1 to 6, using random and choice\n",
    "import random \n",
    "random.choice(range(1,7))"
   ]
  },
  {
   "cell_type": "code",
   "execution_count": 27,
   "id": "0800dd10",
   "metadata": {
    "slideshow": {
     "slide_type": "slide"
    }
   },
   "outputs": [],
   "source": [
    "# print the contents of the folder that your notebook is saved in, with os and listdir"
   ]
  },
  {
   "cell_type": "markdown",
   "id": "e1da891b",
   "metadata": {
    "slideshow": {
     "slide_type": "slide"
    }
   },
   "source": [
    "**Introducing Python packages**\n",
    "\n",
    "# Some slightly more complicated tasks in Python\n",
    "\n",
    "* Process tabular data (like an excel sheet).\n",
    "* Approximate a set of data points with a Gaussian curve.\n",
    "* Speed up the computation time for millions of data points.\n",
    "* Work with geospatial data (for example a map of land use patterns)\n",
    "* Make a line plot from a data set.\n",
    "* Make a very fancy line plot from a data set. \n",
    "* Find the shortest path from A to B on a network."
   ]
  },
  {
   "cell_type": "markdown",
   "id": "451d558e",
   "metadata": {
    "slideshow": {
     "slide_type": "slide"
    }
   },
   "source": [
    "# Some slightly more complicated tasks in Python\n",
    "\n",
    "**I'm sure there's a** ~~function~~ ~~module~~ **`package` for this!**\n",
    "\n",
    "* Process tabular data (like an excel sheet). [**`pandas`**](https://pandas.pydata.org)\n",
    "* Approximate a set of data points with a Gaussian curve. [**`scipy`**](https://scipy.org)\n",
    "* Speed up the computation time for millions of data points . [**`numpy`**](https://numpy.org)\n",
    "* Work with geospatial data (for example a map of land use patterns) [**`geopandas`**](https://geopandas.org/en/stable/)\n",
    "* Make a line plot from a data set. [**`matplotlib`**](https://matplotlib.org)\n",
    "* Make a very fancy line plot from a data set. [**`seaborn`**](https://seaborn.pydata.org)\n",
    "* Find the shortest path from A to B on a network. [**`networkx`**](https://networkx.org)\n",
    "\n",
    "### These are NOT built-in, and need to be installed separately."
   ]
  },
  {
   "cell_type": "markdown",
   "id": "0afb9d05",
   "metadata": {
    "slideshow": {
     "slide_type": "slide"
    }
   },
   "source": [
    "# Packages in Python - soft intro\n",
    "\n",
    "A package is (put very simply) a collection of modules and functions, for a specific & specialized purpose.\n",
    "\n",
    "It doesn't come with Python - you need to **install** it separately on your computer before using it.\n",
    "\n",
    "(Incomplete) list of Python packages: https://pypi.org\n",
    "\n",
    "To install packages, you can either do it completely manually (\"build from source\") or use a **package manager**, for example **`conda`**. \n",
    "\n",
    "We will work with only two Python packages: **`pandas`** and **`matplotlib`**."
   ]
  },
  {
   "cell_type": "markdown",
   "id": "cebaacdb",
   "metadata": {
    "slideshow": {
     "slide_type": "slide"
    }
   },
   "source": [
    "## OMG: The Anaconda distribution contains both Python, AND many additional packages.\n",
    "\n",
    "Thanks to Anaconda, both `pandas` and `matplotlib` should aready be installed  (and you should be able to import them), so you don't need to install anything additional."
   ]
  },
  {
   "cell_type": "code",
   "execution_count": 14,
   "id": "0fed9606",
   "metadata": {
    "slideshow": {
     "slide_type": "slide"
    }
   },
   "outputs": [],
   "source": [
    "import pandas as pd # import the pandas module\n",
    "import matplotlib.pyplot as plt # import matplotlib pyplot"
   ]
  },
  {
   "cell_type": "code",
   "execution_count": 15,
   "id": "a42185ab",
   "metadata": {
    "slideshow": {
     "slide_type": "slide"
    }
   },
   "outputs": [
    {
     "data": {
      "text/html": [
       "<div>\n",
       "<style scoped>\n",
       "    .dataframe tbody tr th:only-of-type {\n",
       "        vertical-align: middle;\n",
       "    }\n",
       "\n",
       "    .dataframe tbody tr th {\n",
       "        vertical-align: top;\n",
       "    }\n",
       "\n",
       "    .dataframe thead th {\n",
       "        text-align: right;\n",
       "    }\n",
       "</style>\n",
       "<table border=\"1\" class=\"dataframe\">\n",
       "  <thead>\n",
       "    <tr style=\"text-align: right;\">\n",
       "      <th></th>\n",
       "      <th>weekdays</th>\n",
       "      <th>visitors</th>\n",
       "    </tr>\n",
       "  </thead>\n",
       "  <tbody>\n",
       "    <tr>\n",
       "      <th>0</th>\n",
       "      <td>mon</td>\n",
       "      <td>30</td>\n",
       "    </tr>\n",
       "    <tr>\n",
       "      <th>1</th>\n",
       "      <td>tue</td>\n",
       "      <td>78</td>\n",
       "    </tr>\n",
       "    <tr>\n",
       "      <th>2</th>\n",
       "      <td>wed</td>\n",
       "      <td>19</td>\n",
       "    </tr>\n",
       "    <tr>\n",
       "      <th>3</th>\n",
       "      <td>thu</td>\n",
       "      <td>57</td>\n",
       "    </tr>\n",
       "    <tr>\n",
       "      <th>4</th>\n",
       "      <td>fri</td>\n",
       "      <td>29</td>\n",
       "    </tr>\n",
       "  </tbody>\n",
       "</table>\n",
       "</div>"
      ],
      "text/plain": [
       "  weekdays  visitors\n",
       "0      mon        30\n",
       "1      tue        78\n",
       "2      wed        19\n",
       "3      thu        57\n",
       "4      fri        29"
      ]
     },
     "execution_count": 15,
     "metadata": {},
     "output_type": "execute_result"
    }
   ],
   "source": [
    "# THIS IS JUST A CODE EXAMPLE - WE WILL LOOK INTO PANDAS\n",
    "# IN DETAIL IN A LATER LECTURE!\n",
    "\n",
    "# create a pandas DataFrame object\n",
    "df = pd.DataFrame(\n",
    "    {\n",
    "        \"weekdays\": [\"mon\", \"tue\", \"wed\", \"thu\", \"fri\", \"sat\", \"sun\"],\n",
    "        \"visitors\": [30, 78, 19, 57, 29, 10, 0]\n",
    "    }\n",
    ")\n",
    "df.head() # print out the first 5 lines"
   ]
  },
  {
   "cell_type": "code",
   "execution_count": 3,
   "id": "687b7fb7",
   "metadata": {
    "slideshow": {
     "slide_type": "slide"
    }
   },
   "outputs": [
    {
     "data": {
      "image/png": "[encoded data removed]",
      "text/plain": [
       "<Figure size 640x480 with 1 Axes>"
      ]
     },
     "metadata": {},
     "output_type": "display_data"
    }
   ],
   "source": [
    "fig, ax = plt.subplots(1,1) # create a figure object and an axis object\n",
    "\n",
    "# draw a barplot on the axis object\n",
    "ax.bar(\n",
    "    x = df.weekdays, # x-position\n",
    "    height = df.visitors, # y-height\n",
    "    color = \"pink\" # change the color of the bar\n",
    ")\n",
    "# ax.set_xlabel(\"Weekday\") # label the x axis\n",
    "# ax.set_ylabel(\"Ticket count\") # label the y axis\n",
    "# plt.title(\"Tickets sold\") # add a plot title\n",
    "plt.show() # show the plot below"
   ]
  },
  {
   "cell_type": "markdown",
   "id": "69bd17e5",
   "metadata": {
    "slideshow": {
     "slide_type": "slide"
    }
   },
   "source": [
    "# Text processing in Python\n",
    "\n",
    "1. Formatting strings\n",
    "2. String methods + sidenote on string comparisons\n",
    "3. Regular expressions (`re`) module - **next time**\n",
    "4. Reading and writing files - **next time**"
   ]
  },
  {
   "cell_type": "markdown",
   "id": "5d45d160",
   "metadata": {
    "slideshow": {
     "slide_type": "slide"
    }
   },
   "source": [
    "# Text processing in Python\n",
    "\n",
    "## Pt 1: Formatting strings"
   ]
  },
  {
   "cell_type": "code",
   "execution_count": 4,
   "id": "1ca4575b",
   "metadata": {
    "slideshow": {
     "slide_type": "slide"
    }
   },
   "outputs": [
    {
     "data": {
      "text/plain": [
       "'My name is Anastasia. Nice to meet you!'"
      ]
     },
     "execution_count": 4,
     "metadata": {},
     "output_type": "execute_result"
    }
   ],
   "source": [
    "name = \"Anastasia\"\n",
    "greeting = \"My name is \" + name + \". Nice to meet you!\"\n",
    "greeting\n",
    "# There MUST be a better way of doing this"
   ]
  },
  {
   "cell_type": "code",
   "execution_count": 6,
   "id": "bfd954a5",
   "metadata": {
    "slideshow": {
     "slide_type": "slide"
    }
   },
   "outputs": [
    {
     "data": {
      "text/plain": [
       "'My name is Anastassia. Nice to meet you!'"
      ]
     },
     "execution_count": 6,
     "metadata": {},
     "output_type": "execute_result"
    }
   ],
   "source": [
    "name = \"Anastassia\"\n",
    "greeting = f\"My name is {name}. Nice to meet you!\"\n",
    "greeting"
   ]
  },
  {
   "cell_type": "code",
   "execution_count": 7,
   "id": "e3bbc8f6",
   "metadata": {
    "slideshow": {
     "slide_type": "slide"
    }
   },
   "outputs": [
    {
     "name": "stdout",
     "output_type": "stream",
     "text": [
      "No, mum, I don't want to!\n",
      "No, my friend, I don't want to!\n",
      "No, my teacher, I don't want to!\n",
      "No, little cat, I don't want to!\n"
     ]
    }
   ],
   "source": [
    "# this comes in handy if i need to repeat the same thing several times.\n",
    "# Let's say I want to say no to everyone.\n",
    "for being in [\"mum\", \"my friend\", \"my teacher\", \"little cat\"]:\n",
    "    print(f\"No, {being}, I don't want to!\")"
   ]
  },
  {
   "cell_type": "markdown",
   "id": "c3b0a170",
   "metadata": {
    "slideshow": {
     "slide_type": "slide"
    }
   },
   "source": [
    "# String formatting - the easiest (?) way\n",
    "\n",
    "```python\n",
    "# to insert the value of a variable into a text,\n",
    "# use f\"\" instead of \"\" to create the string,\n",
    "# and add curly brackets around the variable name:\n",
    "f\"text {variable} text\"\n",
    "```"
   ]
  },
  {
   "cell_type": "markdown",
   "id": "12adf6c0",
   "metadata": {
    "slideshow": {
     "slide_type": "slide"
    }
   },
   "source": [
    "## Try it out yourself!\n",
    "Assign your name, your birthday, and your email address to three separate variables. Then use string formatting and the the `print()` statement to get an output like:\n",
    "\n",
    "```\n",
    "Name: Anastassia\n",
    "Birthday: 22.11.\n",
    "Email address: anvy@itu.dk\n",
    "```\n",
    "\n",
    "Your code should look something like this:\n",
    "```python\n",
    "myname = \"Anastassia\"\n",
    "print(f\"Name: {myname}...\")\n",
    "# etc\n",
    "```\n"
   ]
  },
  {
   "cell_type": "code",
   "execution_count": 5,
   "id": "971a78db",
   "metadata": {
    "slideshow": {
     "slide_type": "slide"
    }
   },
   "outputs": [
    {
     "name": "stdout",
     "output_type": "stream",
     "text": [
      "Name: Laura\n"
     ]
    }
   ],
   "source": [
    "# YOUR CODE HERE\n",
    "my_name = \"Laura\"\n",
    "\n",
    "print(f\"Name: {my_name}\")"
   ]
  },
  {
   "cell_type": "markdown",
   "id": "fdf5d369",
   "metadata": {
    "slideshow": {
     "slide_type": "slide"
    }
   },
   "source": [
    "# Text processing in Python\n",
    "\n",
    "## Pt 2: String methods\n",
    "\n",
    "* `.count()`\n",
    "* `.index()`\n",
    "* `.upper()` `.lower()` `.capitalize()` `.title()` \n",
    "* `.replace()`\n",
    "* `.split()`\n",
    "* `.format()`\n",
    "\n",
    "... and many more: https://docs.python.org/3/library/stdtypes.html#string-methods \n"
   ]
  },
  {
   "cell_type": "code",
   "execution_count": 8,
   "id": "1494053c",
   "metadata": {
    "slideshow": {
     "slide_type": "slide"
    }
   },
   "outputs": [],
   "source": [
    "# let's define a string that contains a proverb:\n",
    "proverb = 'actions speak LOUDER than words.'"
   ]
  },
  {
   "cell_type": "code",
   "execution_count": 9,
   "id": "af7ac131",
   "metadata": {
    "slideshow": {
     "slide_type": "slide"
    }
   },
   "outputs": [
    {
     "data": {
      "text/plain": [
       "3"
      ]
     },
     "execution_count": 9,
     "metadata": {},
     "output_type": "execute_result"
    }
   ],
   "source": [
    "# .count() counts the number of times a character (or sequence of characters) appears\n",
    "proverb.count(\"a\")\n",
    "#proverb.count(\"actions\")"
   ]
  },
  {
   "cell_type": "code",
   "execution_count": 10,
   "id": "a0dcf98d",
   "metadata": {
    "slideshow": {
     "slide_type": "slide"
    }
   },
   "outputs": [
    {
     "data": {
      "text/plain": [
       "26"
      ]
     },
     "execution_count": 10,
     "metadata": {},
     "output_type": "execute_result"
    }
   ],
   "source": [
    "# .index() tells you the index of the FIRST occurence of a character (or a sequence of characters)\n",
    "proverb.index(\"w\")\n",
    "# proverb.index(\"actions\")"
   ]
  },
  {
   "cell_type": "code",
   "execution_count": 11,
   "id": "3223b584",
   "metadata": {
    "slideshow": {
     "slide_type": "slide"
    }
   },
   "outputs": [
    {
     "data": {
      "text/plain": [
       "'ACTIONS SPEAK LOUDER THAN WORDS.'"
      ]
     },
     "execution_count": 11,
     "metadata": {},
     "output_type": "execute_result"
    }
   ],
   "source": [
    "# .upper() converts all characters into UPPER case\n",
    "proverb.upper() # this does NOT change the variable, but instead RETURNS the changed string!"
   ]
  },
  {
   "cell_type": "code",
   "execution_count": null,
   "id": "6f17b5d4",
   "metadata": {
    "slideshow": {
     "slide_type": "slide"
    }
   },
   "outputs": [],
   "source": [
    "# proverb_upper = proverb.upper()\n",
    "# print(proverb)\n",
    "# print(proverb_upper)"
   ]
  },
  {
   "cell_type": "code",
   "execution_count": 12,
   "id": "24caff3d",
   "metadata": {
    "slideshow": {
     "slide_type": "slide"
    }
   },
   "outputs": [
    {
     "data": {
      "text/plain": [
       "'actions speak louder than words.'"
      ]
     },
     "execution_count": 12,
     "metadata": {},
     "output_type": "execute_result"
    }
   ],
   "source": [
    "# .lower() convers all characters into lower case\n",
    "proverb.lower() # this does NOT change the object"
   ]
  },
  {
   "cell_type": "code",
   "execution_count": 13,
   "id": "90c1126c",
   "metadata": {
    "slideshow": {
     "slide_type": "slide"
    }
   },
   "outputs": [
    {
     "data": {
      "text/plain": [
       "'Actions speak louder than words.'"
      ]
     },
     "execution_count": 13,
     "metadata": {},
     "output_type": "execute_result"
    }
   ],
   "source": [
    "# .capitalize() capitalizes ONLY the first character & changes all others into lower case\n",
    "proverb.capitalize() # this does NOT change the object"
   ]
  },
  {
   "cell_type": "code",
   "execution_count": 14,
   "id": "b022bf07",
   "metadata": {
    "slideshow": {
     "slide_type": "slide"
    }
   },
   "outputs": [
    {
     "data": {
      "text/plain": [
       "'Actions Speak Louder Than Words.'"
      ]
     },
     "execution_count": 14,
     "metadata": {},
     "output_type": "execute_result"
    }
   ],
   "source": [
    "# .title() capitalizes ALL words (what is separated by white space)\n",
    "proverb.title() # this does NOT change the object"
   ]
  },
  {
   "cell_type": "code",
   "execution_count": 15,
   "id": "8a3536e5",
   "metadata": {
    "slideshow": {
     "slide_type": "slide"
    }
   },
   "outputs": [
    {
     "data": {
      "text/plain": [
       "'actions speak LOUDER than music.'"
      ]
     },
     "execution_count": 15,
     "metadata": {},
     "output_type": "execute_result"
    }
   ],
   "source": [
    "# .replace() replaces one sequence by another\n",
    "proverb.replace(\"words\", \"music\") # this does NOT change the object"
   ]
  },
  {
   "cell_type": "code",
   "execution_count": 16,
   "id": "8ead0ad6",
   "metadata": {
    "slideshow": {
     "slide_type": "slide"
    }
   },
   "outputs": [
    {
     "data": {
      "text/plain": [
       "'actionsspeakLOUDERthanwords.'"
      ]
     },
     "execution_count": 16,
     "metadata": {},
     "output_type": "execute_result"
    }
   ],
   "source": [
    "# another example for replace: remove smth by replacing it \"with nothing\":\n",
    "proverb.replace(\" \", \"\") # all whitespaces (\" \") will be replaced by \"an empty string\""
   ]
  },
  {
   "cell_type": "code",
   "execution_count": 17,
   "id": "6885a903",
   "metadata": {
    "slideshow": {
     "slide_type": "slide"
    }
   },
   "outputs": [
    {
     "data": {
      "text/plain": [
       "'Actions speak louder than words'"
      ]
     },
     "execution_count": 17,
     "metadata": {},
     "output_type": "execute_result"
    }
   ],
   "source": [
    "# another example for \"replace\": i'm missing a white space:\n",
    "proverb_without_whitespace = \"ActionsSpeak louder than words\"\n",
    "proverb_without_whitespace.replace(\"S\", \" s\") # replace the capital S by whitespace and small s"
   ]
  },
  {
   "cell_type": "code",
   "execution_count": null,
   "id": "fb1bc61f",
   "metadata": {
    "slideshow": {
     "slide_type": "slide"
    }
   },
   "outputs": [],
   "source": [
    "# .split(character) will split the string at each appearance of the character\n",
    "proverb.split(\" \") # the character itself (here a white space) is not included anymore!"
   ]
  },
  {
   "cell_type": "code",
   "execution_count": 18,
   "id": "83acc2fc",
   "metadata": {
    "slideshow": {
     "slide_type": "slide"
    }
   },
   "outputs": [
    {
     "data": {
      "text/plain": [
       "'apes speak louder than wolves'"
      ]
     },
     "execution_count": 18,
     "metadata": {},
     "output_type": "execute_result"
    }
   ],
   "source": [
    "# .format() is a different way of inserting variable values into literal text\n",
    "# \"... speak louder than ...\" \n",
    "# let's say we want to insert \"apes\" and \"wolves\" in the string\n",
    "\n",
    "# BY ORDER:\n",
    "\"{} speak louder than {}\".format(\"apes\", \"wolves\") # by order (with empty curly braces)\n",
    "\n",
    "# by POSITION:\n",
    "\"{1} speak louder than {0}\".format(\"wolves\", \"apes\")\n",
    "\n",
    "# by NAME:\n",
    "\"{x} speak louder than {y}\".format(x = \"apes\", y = \"wolves\") # by variable name\n"
   ]
  },
  {
   "cell_type": "code",
   "execution_count": null,
   "id": "d14618b7",
   "metadata": {
    "slideshow": {
     "slide_type": "slide"
    }
   },
   "outputs": [],
   "source": [
    "# compare all 3 options above (variables defined in .format() ) \n",
    "# to the option we learned before (variables need to be predefined):\n",
    "x = \"apes\"\n",
    "y = \"wolves\"\n",
    "f\"{x} speak louder than {y}\""
   ]
  },
  {
   "cell_type": "markdown",
   "id": "c722692f",
   "metadata": {
    "slideshow": {
     "slide_type": "slide"
    }
   },
   "source": [
    "### Side note on string comparisons"
   ]
  },
  {
   "cell_type": "code",
   "execution_count": null,
   "id": "c651d4a4",
   "metadata": {
    "slideshow": {
     "slide_type": "slide"
    }
   },
   "outputs": [],
   "source": [
    "# statement with a comparison operator; evaluates to True OR False\n",
    "7 > 3"
   ]
  },
  {
   "cell_type": "code",
   "execution_count": null,
   "id": "963c9927",
   "metadata": {
    "slideshow": {
     "slide_type": "slide"
    }
   },
   "outputs": [],
   "source": [
    "# Can Python tell me whether ABBA is greater than the Beatles?\n",
    "\"ABBA\" > \"The Beatles\""
   ]
  },
  {
   "cell_type": "code",
   "execution_count": null,
   "id": "13a82e36",
   "metadata": {
    "slideshow": {
     "slide_type": "slide"
    }
   },
   "outputs": [],
   "source": [
    "# comparing two strings == comparing their unicode order (case sensitive!)\n",
    "\"z\" > \"abc\"\n",
    "# \"word\" == \"word\"\n",
    "# \"Виктор Цой\" > \"Θεσσαλονίκη\"\n",
    "# max([\"monday\", \"marshmallow\", \"42\", \"pirate\", \"Astrid\"]) "
   ]
  },
  {
   "cell_type": "markdown",
   "id": "a72072e3",
   "metadata": {
    "slideshow": {
     "slide_type": "slide"
    }
   },
   "source": [
    "If you're curious about string comparisons: See the [Introduction to unicode in Python](https://docs.python.org/3/howto/unicode.html#introduction-to-unicode).\n",
    "\n",
    "If you're not too curious:\n",
    "\n",
    "### Main takeaway: BEWARE when interpreting string comparison as alphabetical comparison (it is UNICODE comparison)"
   ]
  },
  {
   "cell_type": "markdown",
   "id": "13a5a9fb",
   "metadata": {
    "slideshow": {
     "slide_type": "slide"
    }
   },
   "source": [
    "# Try it out yourself!\n",
    "\n",
    "```python\n",
    "encoded_message = \"#11tzyz#1zyz4tzyzth1zyzic1zyzcr14#zyz@h!!pzyz4tzyzthr11zyzp#zyz@h4rp.\\nzyzc!!#1zyz4l!!91.zyz#4k1zyz@ur1zyzy!!u'r1zyz9!!tzyzf!!ll!!w1d.\\nzyzc!!d1w!!rdzyzi@zyz@tr4ci4t1ll4.\"\n",
    "```\n",
    "\n",
    "You got an encoded message. Decode it by replacing, in the given order:\n",
    "* all `4` with `a`,\n",
    "* all `9` with `n`,\n",
    "* all `1` with `e`,\n",
    "* all `#` with `m`,\n",
    "* all `@` with `s`,\n",
    "* all `!!` with `o`,\n",
    "* all `zyz` with ` ` (whitespace)"
   ]
  },
  {
   "cell_type": "code",
   "execution_count": null,
   "id": "9cfe0a65",
   "metadata": {
    "slideshow": {
     "slide_type": "slide"
    }
   },
   "outputs": [],
   "source": [
    "mess = \"#11tzyz#1zyz4tzyzth1zyzic1zyzcr14#zyz@h!!pzyz4tzyzthr11zyzp#zyz@h4rp.\\nzyzc!!#1zyz4l!!91.zyz#4k1zyz@ur1zyzy!!u'r1zyz9!!tzyzf!!ll!!w1d.\\nzyzc!!d1w!!rdzyzi@zyz@tr4ci4t1ll4.\""
   ]
  },
  {
   "cell_type": "code",
   "execution_count": 1,
   "id": "82c0c989",
   "metadata": {
    "slideshow": {
     "slide_type": "slide"
    }
   },
   "outputs": [],
   "source": [
    "# YOUR DECRYPTING CODE HERE"
   ]
  },
  {
   "cell_type": "code",
   "execution_count": null,
   "id": "6cebf2a4",
   "metadata": {},
   "outputs": [],
   "source": []
  }
 ],
 "metadata": {
  "celltoolbar": "Slideshow",
  "kernelspec": {
   "display_name": "base",
   "language": "python",
   "name": "python3"
  },
  "language_info": {
   "codemirror_mode": {
    "name": "ipython",
    "version": 3
   },
   "file_extension": ".py",
   "mimetype": "text/x-python",
   "name": "python",
   "nbconvert_exporter": "python",
   "pygments_lexer": "ipython3",
   "version": "3.13.5"
  }
 },
 "nbformat": 4,
 "nbformat_minor": 5
}

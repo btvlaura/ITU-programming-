{
 "cells": [
  {
   "cell_type": "markdown",
   "id": "4f41ff8a",
   "metadata": {
    "slideshow": {
     "slide_type": "slide"
    }
   },
   "source": [
    "# Python Crash Course IDSP 2025 - Lecture 06\n",
    "\n",
    "Contents:\n",
    "* Recap of Lecture 05 & string method `.replace()` to decode a message\n",
    "* Python from the command line\n",
    "* running .py files from the CLI\n",
    "* user input from the CLI\n",
    "* Relative & absolute file paths\n",
    "\n",
    "**if we get to it:**\n",
    "* `regex` - regular expressions in Python\n",
    "* reading & writing files in Python"
   ]
  },
  {
   "cell_type": "markdown",
   "id": "772a26ca",
   "metadata": {
    "slideshow": {
     "slide_type": "slide"
    }
   },
   "source": [
    "# Text processing in Python - recap from lecture 05"
   ]
  },
  {
   "cell_type": "markdown",
   "id": "2974264d",
   "metadata": {
    "slideshow": {
     "slide_type": "slide"
    }
   },
   "source": [
    "# String formatting - the easiest (?) way\n",
    "\n",
    "```python\n",
    "# to insert the value of a variable into a text,\n",
    "# use f\"\" instead of \"\" to create the string,\n",
    "# and add curly brackets around the variable name:\n",
    "f\"text {variable} text\"\n",
    "```"
   ]
  },
  {
   "cell_type": "markdown",
   "id": "1b034ebd",
   "metadata": {
    "slideshow": {
     "slide_type": "slide"
    }
   },
   "source": [
    "## Pt 2: String methods\n",
    "\n",
    "* `.count()`\n",
    "* `.index()`\n",
    "* `.upper()` `.lower()` `.capitalize()` `.title()` \n",
    "* `.replace()`\n",
    "* `.split()`\n",
    "* `.format()`\n",
    "\n",
    "... and many more: https://docs.python.org/3/library/stdtypes.html#string-methods "
   ]
  },
  {
   "cell_type": "code",
   "execution_count": null,
   "id": "1ea5a884",
   "metadata": {
    "slideshow": {
     "slide_type": "slide"
    }
   },
   "outputs": [],
   "source": [
    "# let's define a string that contains a proverb:\n",
    "proverb = 'actions speak LOUDER than words.'"
   ]
  },
  {
   "cell_type": "code",
   "execution_count": null,
   "id": "c78aadb8",
   "metadata": {
    "slideshow": {
     "slide_type": "slide"
    }
   },
   "outputs": [],
   "source": [
    "proverb.replace(\"a\", \"A\")"
   ]
  },
  {
   "cell_type": "code",
   "execution_count": null,
   "id": "c06514b2",
   "metadata": {
    "slideshow": {
     "slide_type": "slide"
    }
   },
   "outputs": [],
   "source": [
    "# What happens in the code?\n",
    "proverb = proverb.replace(\"a\", \"A\")\n",
    "proverb"
   ]
  },
  {
   "cell_type": "markdown",
   "id": "edab9642",
   "metadata": {
    "slideshow": {
     "slide_type": "slide"
    }
   },
   "source": [
    "# Try it out yourself!\n",
    "\n",
    "```python\n",
    "encoded_message = \"#11tzyz#1zyz4tzyzth1zyzic1zyzcr14#zyz@h!!pzyz4tzyzthr11zyzp#zyz@h4rp.\\nzyzc!!#1zyz4l!!91.zyz#4k1zyz@ur1zyzy!!u'r1zyz9!!tzyzf!!ll!!w1d.\\nzyzc!!d1w!!rdzyzi@zyz@tr4ci4t1ll4.\"\n",
    "```\n",
    "\n",
    "You got an encoded message. Decode it by replacing, in the given order:\n",
    "* all `4` with `a`,\n",
    "* all `9` with `n`,\n",
    "* all `1` with `e`,\n",
    "* all `#` with `m`,\n",
    "* all `@` with `s`,\n",
    "* all `!!` with `o`,\n",
    "* all `zyz` with ` ` (whitespace)"
   ]
  },
  {
   "cell_type": "code",
   "execution_count": 3,
   "id": "0f948bee",
   "metadata": {
    "slideshow": {
     "slide_type": "slide"
    }
   },
   "outputs": [],
   "source": [
    "mess = \"#11tzyz#1zyz4tzyzth1zyzic1zyzcr14#zyz@h!!pzyz4tzyzthr11zyzp#zyz@h4rp.\\nzyzc!!#1zyz4l!!91.zyz#4k1zyz@ur1zyzy!!u'r1zyz9!!tzyzf!!ll!!w1d.\\nzyzc!!d1w!!rdzyzi@zyz@tr4ci4t1ll4.\"\n",
    "\n",
    "mess = mess.replace(\"4\",\"a\")\n",
    "\n"
   ]
  },
  {
   "cell_type": "code",
   "execution_count": 4,
   "id": "ff51c637",
   "metadata": {},
   "outputs": [],
   "source": [
    "mess = mess.replace(\"9\",\"n\")"
   ]
  },
  {
   "cell_type": "code",
   "execution_count": 5,
   "id": "c19c1d0b",
   "metadata": {},
   "outputs": [],
   "source": [
    "mess = mess.replace(\"1\",\"e\")"
   ]
  },
  {
   "cell_type": "code",
   "execution_count": 6,
   "id": "1fa68a40",
   "metadata": {},
   "outputs": [],
   "source": [
    "mess = mess.replace(\"#\",\"m\")"
   ]
  },
  {
   "cell_type": "code",
   "execution_count": 7,
   "id": "bda8dc69",
   "metadata": {},
   "outputs": [],
   "source": [
    "mess = mess.replace(\"@\",\"s\")"
   ]
  },
  {
   "cell_type": "code",
   "execution_count": 11,
   "id": "89e304d8",
   "metadata": {},
   "outputs": [],
   "source": [
    "mess = mess.replace(\"!!\",\"o\")"
   ]
  },
  {
   "cell_type": "code",
   "execution_count": 13,
   "id": "4b7ceee7",
   "metadata": {},
   "outputs": [
    {
     "name": "stdout",
     "output_type": "stream",
     "text": [
      "meet me at the ice cream shop at three pm sharp.\n",
      " come alone. make sure you're not followed.\n",
      " codeword is straciatella.\n"
     ]
    }
   ],
   "source": [
    "mess = mess.replace(\"zyz\",\" \")\n",
    "print(mess)"
   ]
  },
  {
   "cell_type": "code",
   "execution_count": null,
   "id": "60f68b18",
   "metadata": {
    "slideshow": {
     "slide_type": "slide"
    }
   },
   "outputs": [],
   "source": [
    "# YOUR DECRYPTING CODE HERE"
   ]
  },
  {
   "cell_type": "markdown",
   "id": "7524a138",
   "metadata": {
    "slideshow": {
     "slide_type": "slide"
    }
   },
   "source": [
    "***\n",
    "\n",
    "# Shell: the place where your computer gets to have conversations\n",
    "\n",
    "both with you, the user; and with other programmes\n",
    "\n",
    "### GUI shell: graphical user interface\n",
    "### CLI shell: command line interface"
   ]
  },
  {
   "cell_type": "markdown",
   "id": "2f0a762d",
   "metadata": {
    "slideshow": {
     "slide_type": "slide"
    }
   },
   "source": [
    "# A simple task on my computer?\n",
    "\n",
    "1. Go (\"navigate\") to the folder in which this notebook is saved;\n",
    "2. Check the name of *all* files in that folder;\n",
    "3. Then go (\"navigate\") to the *enclosing* folder\n",
    "\n",
    "## let's try 2 strategies: GUI vs. CLI\n",
    "\n",
    "(shown live in class)"
   ]
  },
  {
   "cell_type": "markdown",
   "id": "3e8c09db",
   "metadata": {
    "slideshow": {
     "slide_type": "slide"
    }
   },
   "source": [
    "# The command line interface (CLI)\n",
    "\n",
    "Command line interface - a chatroom with your computer!\n",
    "* you \"talk\" by typing in lines of text (commands)\n",
    "* your computer responds by printing out lines of text\n",
    "* you can do approx. the same as in the GUI\n",
    "* but in the CLI you can also **automate** workflows! (\"shell scripting\")\n",
    "\n",
    "You will learn later in this course how to have deep and meaningful conversations with your computer (managing files, running programmes, etc.) For now, we will stick to \"just\" Python smalltalk."
   ]
  },
  {
   "cell_type": "markdown",
   "id": "ce983f9a",
   "metadata": {
    "slideshow": {
     "slide_type": "slide"
    }
   },
   "source": [
    "# The command line interface (CLI)\n",
    "\n",
    "Today, you will learn only 3 commands:\n",
    "1. how to print out the **name** of the current working directory\n",
    "2. how to print out the **contents** of the current working directory\n",
    "3. how to **move** \"up\" or \"down\" in the folder structure"
   ]
  },
  {
   "cell_type": "markdown",
   "id": "606a5ee5",
   "metadata": {
    "slideshow": {
     "slide_type": "slide"
    }
   },
   "source": [
    "<style type=\"text/css\">\n",
    ".tg  {border-collapse:collapse;border-spacing:0;}\n",
    ".tg td{border-color:black;border-style:solid;border-width:1px;font-family:Arial, sans-serif;font-size:14px;\n",
    "  overflow:hidden;padding:10px 5px;word-break:normal;}\n",
    ".tg th{border-color:black;border-style:solid;border-width:1px;font-family:Arial, sans-serif;font-size:14px;\n",
    "  font-weight:normal;overflow:hidden;padding:10px 5px;word-break:normal;}\n",
    ".tg .tg-x5q1{font-size:16px;text-align:left;vertical-align:top}\n",
    ".tg .tg-bdfu{font-family:\"Courier New\", Courier, monospace !important;font-size:26px;text-align:center;vertical-align:top}\n",
    ".tg .tg-0lax{text-align:left;vertical-align:top}\n",
    ".tg .tg-9rkz{font-size:24px;font-weight:bold;text-align:center;vertical-align:top}\n",
    ".tg .tg-hyyc{font-family:\"Courier New\", Courier, monospace !important;font-size:28px;text-align:center;vertical-align:top}\n",
    "</style>\n",
    "<table class=\"tg\">\n",
    "<thead>\n",
    "  <tr>\n",
    "    <th class=\"tg-0lax\"></th>\n",
    "    <th class=\"tg-9rkz\">Windows (Anaconda prompt)</th>\n",
    "    <th class=\"tg-9rkz\">macOS (terminal)</th>\n",
    "  </tr>\n",
    "</thead>\n",
    "<tbody>\n",
    "  <tr>\n",
    "    <td class=\"tg-x5q1\">print out the current working directory</td>\n",
    "    <td class=\"tg-hyyc\">chdir</td>\n",
    "    <td class=\"tg-bdfu\">pwd</td>\n",
    "  </tr>\n",
    "  <tr>\n",
    "    <td class=\"tg-x5q1\">list contents of current working directory</td>\n",
    "    <td class=\"tg-hyyc\">dir</td>\n",
    "    <td class=\"tg-hyyc\">ls</td>\n",
    "  </tr>\n",
    "  <tr>\n",
    "    <td class=\"tg-x5q1\">move into &lt;subfolder&gt;</td>\n",
    "    <td class=\"tg-hyyc\" colspan=\"2\">cd &lt;subfoldername&gt;</td>\n",
    "  </tr>\n",
    "  <tr>\n",
    "    <td class=\"tg-x5q1\">move \"up\" one folder</td>\n",
    "    <td class=\"tg-hyyc\" colspan=\"2\">cd ..</td>\n",
    "  </tr>\n",
    "  <tr>\n",
    "    <td class=\"tg-x5q1\">move \"up\" two folders</td>\n",
    "    <td class=\"tg-hyyc\" colspan=\"2\">cd ../..</td>\n",
    "  </tr>\n",
    "  <tr>\n",
    "    <td class=\"tg-x5q1\">move \"up\" three folders</td>\n",
    "    <td class=\"tg-hyyc\" colspan=\"2\">cd ../../..</td>\n",
    "  </tr>\n",
    "</tbody>\n",
    "</table>"
   ]
  },
  {
   "cell_type": "markdown",
   "id": "f947704c",
   "metadata": {
    "slideshow": {
     "slide_type": "slide"
    }
   },
   "source": [
    "# windows: `chdir, dir, cd`\n",
    "# macOS: `pwd, ls, cd`"
   ]
  },
  {
   "cell_type": "markdown",
   "id": "3a299f4f",
   "metadata": {
    "slideshow": {
     "slide_type": "slide"
    }
   },
   "source": [
    "# Try it out yourself!\n",
    "\n",
    "1. Open your CLI:\n",
    "* if on Windows, open the **Anaconda Prompt** (NOT the Windows Terminal; NOT the PowerShell)\n",
    "* if on MacOS/linux, open the **Terminal**\n",
    "2. Print out the path of the current working directory (using `chdir` or `pwd`)\n",
    "2. Navigate to the folder in which this notebook is saved on your machine (using `cd` + subfolder names)\n",
    "3. Print out the contents of the folder (using `dir` or `ls`)"
   ]
  },
  {
   "cell_type": "markdown",
   "id": "fd90a28b",
   "metadata": {
    "slideshow": {
     "slide_type": "slide"
    }
   },
   "source": [
    "# You can also use your CLI to \"invoke\" the Python interpreter\n",
    "\n",
    "Just go to your CLI and type `python`, then press `enter`. The `>>>` indicate that we are in a Python environment now, and you can execute single staments (lines of code). To exit, type `exit()` and press `enter`.\n",
    "\n",
    "<p style=\"text-align:left;\">\n",
    "    <img src=\"images/pythonint.png\" alt=\"Invoking the Python interpreter\" width=1000px>\n",
    "</p>"
   ]
  },
  {
   "cell_type": "markdown",
   "id": "8a21f3b4",
   "metadata": {
    "slideshow": {
     "slide_type": "slide"
    }
   },
   "source": [
    "# Creating python scripts\n",
    "\n",
    "Until now we have worked with jupyter notebooks (`.ipynb`): python code with lots of stuff around it. \n",
    "\n",
    "### Let's try to work with ONLY python code (`.py`). \n",
    "\n",
    "We can use ANY text editor to create `.py` files. We recommended the Sublime Text editor because it's pretty, but you can use whichever you prefer. Set the file name extension `.py` manually when saving the file. \n"
   ]
  },
  {
   "cell_type": "code",
   "execution_count": null,
   "id": "00267dee",
   "metadata": {
    "slideshow": {
     "slide_type": "slide"
    }
   },
   "outputs": [],
   "source": [
    "# just a simple code snippet we will use as example\n",
    "x = 5\n",
    "y = 3\n",
    "mysum = x + y\n",
    "print(f\"The sum of {x} and {y} is {mysum}\")"
   ]
  },
  {
   "cell_type": "markdown",
   "id": "3e5d0115",
   "metadata": {
    "slideshow": {
     "slide_type": "slide"
    }
   },
   "source": [
    "We copy-pasted this simple code snippet into a separate `myscript.py` file, **in the same location as this notebook**.\n",
    "\n",
    "To run the `myscript.py` file from our CLI, we need to:\n",
    "1. Open up our CLI\n",
    "2. Navigate to the folder of `myscript.py`\n",
    "3. Type `python myscript.py` and press `enter`\n",
    "\n",
    "(shown live in class: in code editor; and how to run from CLI)"
   ]
  },
  {
   "cell_type": "markdown",
   "id": "b19fbd1a",
   "metadata": {
    "slideshow": {
     "slide_type": "slide"
    }
   },
   "source": [
    "### Sidenote on jupyter notebook\n",
    "\n",
    "So-called \"magic\" commands:\n",
    "* cell magic `%%`\n",
    "* inline magic `%`\n",
    "\n",
    "Relevant for us right now: only `%run`\n",
    "\n",
    "More details here: https://www.geeksforgeeks.org/python/jupyter-notebook-cell-magic-functions/"
   ]
  },
  {
   "cell_type": "code",
   "execution_count": 1,
   "id": "e5c5be88",
   "metadata": {
    "slideshow": {
     "slide_type": "slide"
    }
   },
   "outputs": [
    {
     "name": "stdout",
     "output_type": "stream",
     "text": [
      "The sum of 5 and 3 is 8\n"
     ]
    }
   ],
   "source": [
    "# we can also run the myscript.py file using the \"line magic command\" %run :\n",
    "%run \"myscript.py\""
   ]
  },
  {
   "cell_type": "markdown",
   "id": "f86039cc",
   "metadata": {
    "slideshow": {
     "slide_type": "slide"
    }
   },
   "source": [
    "# How to run a `.py` file (also called \"script\"):\n",
    "\n",
    "* from the CLI on your machine: `python <filename>.py`\n",
    "* within the Jupyter notebook: `%run <filename>.py`"
   ]
  },
  {
   "cell_type": "markdown",
   "id": "146f5314",
   "metadata": {
    "slideshow": {
     "slide_type": "slide"
    }
   },
   "source": [
    "# Try it out yourself!\n",
    "\n",
    "Create a file called `myfirstprogram.py`, in the same folder as this notebook. Copy-paste the code from `myscript.py` and change the code so that it **subtracts** `x-y` and prints out the **difference** (not the sum). \n",
    "Run `myfirstprogram.py`:\n",
    "\n",
    "1. In this notebook (`%run myfirstprogram.py`) \n",
    "2. In your CLI (`python myfirstprogram.py`)"
   ]
  },
  {
   "cell_type": "code",
   "execution_count": null,
   "id": "35016158",
   "metadata": {
    "slideshow": {
     "slide_type": "slide"
    }
   },
   "outputs": [],
   "source": [
    "# 1. run your file with %run myfirstprogram.py"
   ]
  },
  {
   "cell_type": "code",
   "execution_count": null,
   "id": "1952e785",
   "metadata": {
    "slideshow": {
     "slide_type": "slide"
    }
   },
   "outputs": [],
   "source": [
    "# 2. run your file IN YOUR CLI (not in this notebook)"
   ]
  },
  {
   "cell_type": "markdown",
   "id": "b4c5457f",
   "metadata": {
    "slideshow": {
     "slide_type": "slide"
    }
   },
   "source": [
    "# Interactive scripts with input()\n",
    "\n",
    "`input()` \n",
    "* asks (\"prompts\") the user for input; and \n",
    "* returns the user input as a `string`"
   ]
  },
  {
   "cell_type": "code",
   "execution_count": 2,
   "id": "a455f26e",
   "metadata": {
    "slideshow": {
     "slide_type": "slide"
    }
   },
   "outputs": [
    {
     "data": {
      "text/plain": [
       "'Hello !'"
      ]
     },
     "execution_count": 2,
     "metadata": {},
     "output_type": "execute_result"
    }
   ],
   "source": [
    "# you can try it out in jupyter notebook\n",
    "input()\n",
    "# running this cell will open up an interface where you can enter some text\n",
    "# enter some text and press the enter key\n",
    "# the text will be the output of this cell"
   ]
  },
  {
   "cell_type": "code",
   "execution_count": 3,
   "id": "bd72ac2b",
   "metadata": {
    "slideshow": {
     "slide_type": "slide"
    }
   },
   "outputs": [
    {
     "data": {
      "text/plain": [
       "'7'"
      ]
     },
     "execution_count": 3,
     "metadata": {},
     "output_type": "execute_result"
    }
   ],
   "source": [
    "# see what happens if you provide an argument to the input() function\n",
    "input(\"What is your favourite number?\")"
   ]
  },
  {
   "cell_type": "code",
   "execution_count": 4,
   "id": "0c6799c9",
   "metadata": {
    "slideshow": {
     "slide_type": "slide"
    }
   },
   "outputs": [
    {
     "data": {
      "text/plain": [
       "' 7'"
      ]
     },
     "execution_count": 4,
     "metadata": {},
     "output_type": "execute_result"
    }
   ],
   "source": [
    "# it's nicer to add a whitespace at the end of the argument:\n",
    "input(\"What is your favourite number? \")"
   ]
  },
  {
   "cell_type": "code",
   "execution_count": 5,
   "id": "ad9d8e33",
   "metadata": {
    "slideshow": {
     "slide_type": "slide"
    }
   },
   "outputs": [
    {
     "name": "stdout",
     "output_type": "stream",
     "text": [
      "7  blue \n"
     ]
    }
   ],
   "source": [
    "# see what happens if you save the return value of input to a variable\n",
    "mynumber = input(\"What is your favourite number? \")\n",
    "mycolor = input(\"What is your favourite color? \")\n",
    "print(mynumber, mycolor)"
   ]
  },
  {
   "cell_type": "markdown",
   "id": "9484b6e0",
   "metadata": {
    "slideshow": {
     "slide_type": "slide"
    }
   },
   "source": [
    "## Secret Agent name generator\n",
    "... showcasing user input.\n",
    "\n",
    "(shown live in class - see files `secretagent.py` and `secretagent-sophisticated.py`)"
   ]
  },
  {
   "cell_type": "markdown",
   "id": "6c21013c",
   "metadata": {
    "slideshow": {
     "slide_type": "slide"
    }
   },
   "source": [
    "## Paths: absolute & relative\n",
    "\n",
    "root directory: e.g. `C:/Windows` or `Macintosh HD` \n",
    "\n",
    "**note**: often the CLI will start from a **subfolder** of your root directory by default!"
   ]
  },
  {
   "cell_type": "markdown",
   "id": "922f40ba",
   "metadata": {
    "slideshow": {
     "slide_type": "slide"
    }
   },
   "source": [
    "### Example of an absolute filepath (starts from root)\n",
    "\n",
    "on Anastassia's machine, this notebook is stored in the `unit06` folder, which is a sub-sub-sub... folder of root.\n",
    "\n",
    "`/Users/anvy/Library/CloudStorage/OneDrive-ITU/postdoc/teaching/itu-idsp/learn-python-2025/unit06/lecture06/lecture06.ipynb`"
   ]
  },
  {
   "cell_type": "markdown",
   "id": "2a6840f8",
   "metadata": {
    "slideshow": {
     "slide_type": "slide"
    }
   },
   "source": [
    "### Example of a relative filepath (depends on your working directory)\n",
    "\n",
    "on Anastassia's machine, **assuming i'm in the `/Users/anvy/Library/CloudStorage/OneDrive-ITU/postdoc/teaching/itu-idsp/` folder**:\n",
    "\n",
    "`./unit06/lecture06/lecture06.ipynb`\n",
    "\n",
    "on Anastassia's machine, **assuming i'm in the `/Users/anvy/Library/CloudStorage/OneDrive-ITU/postdoc/teaching/itu-idsp/unit05/` folder**:\n",
    "\n",
    "`../unit06/lecture06/lecture06.ipynb`"
   ]
  },
  {
   "cell_type": "markdown",
   "id": "03f1e420",
   "metadata": {
    "slideshow": {
     "slide_type": "slide"
    }
   },
   "source": [
    "## Equivalent ways of running a python script in a subfolder\n",
    "\n",
    "a. Navigate to the exact location of the file:\n",
    "```\n",
    "cd <path-to-folder>\n",
    "python <name-of-file>\n",
    "```\n",
    "\n",
    "b. Staying in the root folder:\n",
    "```\n",
    "python <absolute-filepath-to-file>\n",
    "```\n",
    "\n",
    "c. Starting from a subfolder:\n",
    "```\n",
    "python <relative-filepath-to-file>\n",
    "````\n",
    "\n",
    "The trick is to **make sure that the CLI knows where to look for the file you want to run.**"
   ]
  },
  {
   "cell_type": "markdown",
   "id": "392471bc",
   "metadata": {
    "slideshow": {
     "slide_type": "slide"
    }
   },
   "source": [
    "## A lifehack for running jupyter notebook\n",
    "\n",
    "Navigate to your IDSP lecture subfolder in the CLI **before** `jupyter notebook` - then the application will start from your IDSP directory!\n",
    "\n",
    "<p style=\"text-align:left;\">\n",
    "    <img src=\"images/reljyp.png\" alt=\"running jupyter notebook from a folder\" width=1000px>\n",
    "</p>"
   ]
  },
  {
   "cell_type": "markdown",
   "id": "38659788",
   "metadata": {
    "slideshow": {
     "slide_type": "slide"
    }
   },
   "source": [
    "# Text processing in Python\n",
    "\n",
    "## Pt 3: Regular expressions (`re`) module\n",
    "\n",
    "https://docs.python.org/3/howto/regex.html\n",
    "\n",
    "Regular expresions are...\n",
    "\n",
    "* \"**tiny, highly specialized programming language** where you can specify the rules for the set of possible **strings that you want to match**\"\n",
    "* a well-known concept in computer science\n",
    "* used by many programming languages (perl, java, python...)\n",
    "* all about **finding matching string patterns**\n",
    "* useless to learn by heart (imho) - just know that they **exist**, in case you might need them\n",
    "\n",
    "```python\n",
    "# to use the re module, import it first:\n",
    "import re\n",
    "```"
   ]
  },
  {
   "cell_type": "markdown",
   "id": "b271cf20",
   "metadata": {
    "slideshow": {
     "slide_type": "slide"
    }
   },
   "source": [
    "```python\n",
    "# string: the string we're searching within\n",
    "# pattern: the pattern we're trying to find\n",
    "# it can be LITERAL (explicitly stating the pattern), or \n",
    "# expressed with REGEX - see list below\n",
    "re.search(pattern, string) # will show you whether pattern is in the string\n",
    "re.findall(pattern, string) # will return all matching patterns from the string\n",
    "\n",
    "```\n",
    "\n",
    "**How to make your own regex patterns (some EXAMPLES)**\n",
    "* `\\d` Matches any number\n",
    "* `\\D` Matches any non-number\n",
    "* `\\w` Matches any whitespace\n",
    "* `\\W` Matches any non-whitespace\n",
    "* `+` matches the preceding character 1 or more times\n",
    "* `[]` specifies a class you want to match\n",
    "* `-` within `[]` indicates a range\n",
    "* `[a-z]` matches all small letters from a to z"
   ]
  },
  {
   "cell_type": "code",
   "execution_count": 6,
   "id": "6672dfd9",
   "metadata": {
    "slideshow": {
     "slide_type": "slide"
    }
   },
   "outputs": [],
   "source": [
    "# first, we need to import the re module\n",
    "import re\n",
    "# now we can use it in this notebook"
   ]
  },
  {
   "cell_type": "code",
   "execution_count": 7,
   "id": "96a340e2",
   "metadata": {
    "slideshow": {
     "slide_type": "slide"
    }
   },
   "outputs": [
    {
     "data": {
      "text/plain": [
       "<re.Match object; span=(1, 2), match='a'>"
      ]
     },
     "execution_count": 7,
     "metadata": {},
     "output_type": "execute_result"
    }
   ],
   "source": [
    "# LITERAL\n",
    "# re.search(pattern, string) tells us whether a pattern is contained in a string \n",
    "mypattern = \"a\" # try out other values\n",
    "mystring = \"Wakanda Forever, part 2\"\n",
    "re.search(mypattern, mystring)\n",
    "# if yes: we get back a \"Match object\" (don't worry about it); \n",
    "# if no: we get back None (nothing)"
   ]
  },
  {
   "cell_type": "code",
   "execution_count": 8,
   "id": "c4eb82c7",
   "metadata": {
    "slideshow": {
     "slide_type": "slide"
    }
   },
   "outputs": [
    {
     "data": {
      "text/plain": [
       "['a', 'a', 'a', 'a']"
      ]
     },
     "execution_count": 8,
     "metadata": {},
     "output_type": "execute_result"
    }
   ],
   "source": [
    "# LITERAL\n",
    "# re.findall(pattern, string) RETURNS all pattern matches in a string \n",
    "mypattern = \"a\" # try out other values\n",
    "mystring = \"Wakanda Forever, part 2\"\n",
    "re.findall(mypattern, mystring)"
   ]
  },
  {
   "cell_type": "code",
   "execution_count": 9,
   "id": "48c3e145",
   "metadata": {
    "slideshow": {
     "slide_type": "slide"
    }
   },
   "outputs": [
    {
     "data": {
      "text/plain": [
       "['2']"
      ]
     },
     "execution_count": 9,
     "metadata": {},
     "output_type": "execute_result"
    }
   ],
   "source": [
    "# BY PATTERN (REGEX!!)\n",
    "# find only the numbers in the string: \"\\d\" pattern\n",
    "mypattern = r'\\d' # this means: a single character which is a number\n",
    "mystring = \"Wakanda Forever, part 2\"\n",
    "re.findall(mypattern, mystring) # we found the number 2 in the string"
   ]
  },
  {
   "cell_type": "code",
   "execution_count": 11,
   "id": "90ad7603",
   "metadata": {
    "slideshow": {
     "slide_type": "slide"
    }
   },
   "outputs": [
    {
     "data": {
      "text/plain": [
       "['1', '2', '5', '1', '7']"
      ]
     },
     "execution_count": 11,
     "metadata": {},
     "output_type": "execute_result"
    }
   ],
   "source": [
    "# BY PATTERN (REGEX)\n",
    "# find only the numbers in the string: \"\\d\" pattern\n",
    "mypattern = r\"\\d\" # this means: a single character which is a number\n",
    "mystring = \"12 plus 5 is 17\"\n",
    "re.findall(mypattern, mystring) # we found the numbers 1 in the string, but they actually should belong together"
   ]
  },
  {
   "cell_type": "code",
   "execution_count": 13,
   "id": "c935ff6b",
   "metadata": {
    "slideshow": {
     "slide_type": "slide"
    }
   },
   "outputs": [
    {
     "data": {
      "text/plain": [
       "['12', '5', '17']"
      ]
     },
     "execution_count": 13,
     "metadata": {},
     "output_type": "execute_result"
    }
   ],
   "source": [
    "# BY PATTERN\n",
    "# find only the numbers in the string: \"\\d\" pattern\n",
    "mypattern = r\"\\d+\" # this means: ONE OR MORE CONSECUTIVE characters which are number\n",
    "mystring = \"12 plus 5 is 17\"\n",
    "re.search(mypattern, mystring) # we found the numbers 1 in the string, but they actually should belong together\n",
    "re.findall(mypattern,mystring)"
   ]
  },
  {
   "cell_type": "code",
   "execution_count": null,
   "id": "1a8fb1da",
   "metadata": {
    "slideshow": {
     "slide_type": "slide"
    }
   },
   "outputs": [],
   "source": [
    "# find everything which is NOT a number, \n",
    "mypattern = \"\\D\" # this means: every single character that is NOT a number\n",
    "mystring = \"Wakanda Forever, part 2\"\n",
    "re.findall(mypattern, mystring)"
   ]
  },
  {
   "cell_type": "code",
   "execution_count": null,
   "id": "dabe56c8",
   "metadata": {
    "slideshow": {
     "slide_type": "slide"
    }
   },
   "outputs": [],
   "source": [
    "# find everything which is NOT a number, \n",
    "mypattern = \"\\D+\" # this means: ONE OR MORE CONSECUTIVE characters that are NOT numbers\n",
    "mystring = \"Wakanda Forever, part 2\"\n",
    "re.findall(mypattern, mystring)"
   ]
  },
  {
   "cell_type": "code",
   "execution_count": null,
   "id": "bb4e0f97",
   "metadata": {
    "slideshow": {
     "slide_type": "slide"
    }
   },
   "outputs": [],
   "source": [
    "# specify a class within a certain range\n",
    "mypattern = \"[A-Z]\" # all single uppercase letters\n",
    "mystring = \"Wakanda Forever, part 2\"\n",
    "re.findall(mypattern, mystring)"
   ]
  },
  {
   "cell_type": "markdown",
   "id": "bd4dc4d6",
   "metadata": {
    "slideshow": {
     "slide_type": "slide"
    }
   },
   "source": [
    "Regex can get quite complicated; here's an example (see this [blogpost](https://www.sitepoint.com/demystifying-regex-with-practical-examples/#matching-password))\n",
    "\n",
    "\n",
    "Imagine the rules for a password pattern are:\n",
    "* contain at least 6 and at most 12 characters;\n",
    "* have at least 1 uppercase and at least 1 lowercase letter;\n",
    "* contain at least 1 digit;\n",
    "* AND contain special characters\n",
    "\n",
    "Then the regex expression that will match if the password matches pattern is: \n",
    "\n",
    "```python\n",
    "mypattern = \"^(?=.*[a-z])(?=.*[A-Z])(?=.*\\d).{6,12}$\"\n",
    "```\n",
    "\n",
    "\n",
    "you don't need to understand this >> just know it's possible\n"
   ]
  },
  {
   "cell_type": "code",
   "execution_count": null,
   "id": "019c8368",
   "metadata": {
    "slideshow": {
     "slide_type": "slide"
    }
   },
   "outputs": [],
   "source": [
    "mypattern = \"^(?=.*[a-z])(?=.*[A-Z])(?=.*\\d).{6,12}$\"\n",
    "mypassword = \"kittycat\" # NO MATCH\n",
    "mypassword = \"KittyCat15!\" # MATCH\n",
    "re.search(mypattern, mypassword)"
   ]
  },
  {
   "cell_type": "markdown",
   "id": "d0fbcf4d",
   "metadata": {
    "slideshow": {
     "slide_type": "slide"
    }
   },
   "source": [
    "# Regular expressions (patterns) you will need for Exercise 06\n",
    "\n",
    "* `r\"\\d\"` - find a single number character\n",
    "* `r\"\\d+` - find one or more consecutive number characters\n",
    "* `r\"[A-Z]\"` - find a single capital letter"
   ]
  },
  {
   "cell_type": "markdown",
   "id": "f6fddc98",
   "metadata": {
    "slideshow": {
     "slide_type": "slide"
    }
   },
   "source": [
    "# Text processing in Python\n",
    "\n",
    "## Pt 4: Reading and writing files\n",
    "\n",
    "(will also use packages for this later, mostly pandas, but for now - let's do it DIY style)"
   ]
  },
  {
   "cell_type": "code",
   "execution_count": null,
   "id": "a44dc54d",
   "metadata": {
    "slideshow": {
     "slide_type": "slide"
    }
   },
   "outputs": [
    {
     "ename": "FileNotFoundError",
     "evalue": "[Errno 2] No such file or directory: 'Programming/myscript.py'",
     "output_type": "error",
     "traceback": [
      "\u001b[31m---------------------------------------------------------------------------\u001b[39m",
      "\u001b[31mFileNotFoundError\u001b[39m                         Traceback (most recent call last)",
      "\u001b[36mCell\u001b[39m\u001b[36m \u001b[39m\u001b[32mIn[20]\u001b[39m\u001b[32m, line 2\u001b[39m\n\u001b[32m      1\u001b[39m \u001b[38;5;66;03m# open a file\u001b[39;00m\n\u001b[32m----> \u001b[39m\u001b[32m2\u001b[39m f = \u001b[38;5;28;43mopen\u001b[39;49m\u001b[43m(\u001b[49m\u001b[33;43m\"\u001b[39;49m\u001b[33;43mProgramming/myscript.py\u001b[39;49m\u001b[33;43m\"\u001b[39;49m\u001b[43m,\u001b[49m\u001b[43m \u001b[49m\u001b[33;43m\"\u001b[39;49m\u001b[33;43mr\u001b[39;49m\u001b[33;43m\"\u001b[39;49m\u001b[43m)\u001b[49m \u001b[38;5;66;03m# r is the mode (reading)\u001b[39;00m\n\u001b[32m      3\u001b[39m f\n",
      "\u001b[36mFile \u001b[39m\u001b[32m~/Library/Python/3.13/lib/python/site-packages/IPython/core/interactiveshell.py:343\u001b[39m, in \u001b[36m_modified_open\u001b[39m\u001b[34m(file, *args, **kwargs)\u001b[39m\n\u001b[32m    336\u001b[39m \u001b[38;5;28;01mif\u001b[39;00m file \u001b[38;5;129;01min\u001b[39;00m {\u001b[32m0\u001b[39m, \u001b[32m1\u001b[39m, \u001b[32m2\u001b[39m}:\n\u001b[32m    337\u001b[39m     \u001b[38;5;28;01mraise\u001b[39;00m \u001b[38;5;167;01mValueError\u001b[39;00m(\n\u001b[32m    338\u001b[39m         \u001b[33mf\u001b[39m\u001b[33m\"\u001b[39m\u001b[33mIPython won\u001b[39m\u001b[33m'\u001b[39m\u001b[33mt let you open fd=\u001b[39m\u001b[38;5;132;01m{\u001b[39;00mfile\u001b[38;5;132;01m}\u001b[39;00m\u001b[33m by default \u001b[39m\u001b[33m\"\u001b[39m\n\u001b[32m    339\u001b[39m         \u001b[33m\"\u001b[39m\u001b[33mas it is likely to crash IPython. If you know what you are doing, \u001b[39m\u001b[33m\"\u001b[39m\n\u001b[32m    340\u001b[39m         \u001b[33m\"\u001b[39m\u001b[33myou can use builtins\u001b[39m\u001b[33m'\u001b[39m\u001b[33m open.\u001b[39m\u001b[33m\"\u001b[39m\n\u001b[32m    341\u001b[39m     )\n\u001b[32m--> \u001b[39m\u001b[32m343\u001b[39m \u001b[38;5;28;01mreturn\u001b[39;00m \u001b[43mio_open\u001b[49m\u001b[43m(\u001b[49m\u001b[43mfile\u001b[49m\u001b[43m,\u001b[49m\u001b[43m \u001b[49m\u001b[43m*\u001b[49m\u001b[43margs\u001b[49m\u001b[43m,\u001b[49m\u001b[43m \u001b[49m\u001b[43m*\u001b[49m\u001b[43m*\u001b[49m\u001b[43mkwargs\u001b[49m\u001b[43m)\u001b[49m\n",
      "\u001b[31mFileNotFoundError\u001b[39m: [Errno 2] No such file or directory: 'Programming/myscript.py'"
     ]
    }
   ],
   "source": [
    "# open a file\n",
    "f = open(\"data/poem.txt\", \"r\") # r is the mode (reading)\n",
    "f"
   ]
  },
  {
   "cell_type": "code",
   "execution_count": null,
   "id": "aa7eeaa1",
   "metadata": {
    "slideshow": {
     "slide_type": "slide"
    }
   },
   "outputs": [],
   "source": [
    "# open a file and read it\n",
    "f = open(\"data/poem.txt\", \"r\")\n",
    "f.read() # the opened file has the .read() method"
   ]
  },
  {
   "cell_type": "markdown",
   "id": "795d2327",
   "metadata": {
    "slideshow": {
     "slide_type": "slide"
    }
   },
   "source": [
    "### Interlude: so-called \"escape characters\" in Python strings:\n",
    "```python\n",
    "\"\\n\" # new line (in string)\n",
    "\"\\t\" # tab (in string)\n",
    "```"
   ]
  },
  {
   "cell_type": "code",
   "execution_count": null,
   "id": "be825e5b",
   "metadata": {
    "slideshow": {
     "slide_type": "slide"
    }
   },
   "outputs": [],
   "source": [
    "print(\"hello, \\nworld!\")"
   ]
  },
  {
   "cell_type": "code",
   "execution_count": null,
   "id": "69e69a74",
   "metadata": {
    "slideshow": {
     "slide_type": "slide"
    }
   },
   "outputs": [],
   "source": [
    "print(\"hello, \\t world!\")"
   ]
  },
  {
   "cell_type": "code",
   "execution_count": null,
   "id": "0be011d6",
   "metadata": {
    "slideshow": {
     "slide_type": "slide"
    }
   },
   "outputs": [],
   "source": [
    "# open file, read it, AND SAVE THE TEXT TO A VARIABLE\n",
    "f = open(\"data/poem.txt\", \"r\")\n",
    "my_text = f.read()\n",
    "my_text"
   ]
  },
  {
   "cell_type": "code",
   "execution_count": null,
   "id": "0db7f318",
   "metadata": {
    "slideshow": {
     "slide_type": "slide"
    }
   },
   "outputs": [],
   "source": [
    "# if we explicitly print it,\n",
    "print(my_text)\n",
    "# the \\n is interpreted as \"new line\""
   ]
  },
  {
   "cell_type": "code",
   "execution_count": null,
   "id": "033a228f",
   "metadata": {
    "slideshow": {
     "slide_type": "slide"
    }
   },
   "outputs": [],
   "source": [
    "# best practice:\n",
    "# open file, read it, save text to a variable, and then CLOSE IT!\n",
    "f = open(\"data/poem.txt\", \"r\")\n",
    "my_text = f.read() # the opened file has the .read() method\n",
    "f.close()"
   ]
  },
  {
   "cell_type": "code",
   "execution_count": null,
   "id": "a66fa3a0",
   "metadata": {
    "slideshow": {
     "slide_type": "slide"
    }
   },
   "outputs": [],
   "source": [
    "# now we have the variable my_text...\n",
    "print(my_text[0:17])\n",
    "# and trying to access f (the opened file we defined before) will not work\n",
    "# f.read() # because we already closed the file."
   ]
  },
  {
   "cell_type": "code",
   "execution_count": null,
   "id": "098f2a4d",
   "metadata": {
    "slideshow": {
     "slide_type": "slide"
    }
   },
   "outputs": [],
   "source": [
    "# more common syntax:\n",
    "# use the \"with\" keyword, then file will be automatically closed once you're \"done\"\n",
    "# (after the indentation has ended)\n",
    "with open(\"data/poem.txt\", \"r\") as opened_file:\n",
    "    my_text = opened_file.read()\n",
    "print(my_text)"
   ]
  },
  {
   "cell_type": "code",
   "execution_count": null,
   "id": "84c323be",
   "metadata": {
    "slideshow": {
     "slide_type": "slide"
    }
   },
   "outputs": [],
   "source": [
    "# the .readlines() method\n",
    "with open(\"data/poem.txt\", \"r\") as opened_file:\n",
    "    my_text = opened_file.readlines()\n",
    "my_text\n",
    "# my_text is a list of strings - \n",
    "# each element in the list is one line from the original file\n",
    "# type(my_text)\n",
    "# len(my_text)"
   ]
  },
  {
   "cell_type": "code",
   "execution_count": null,
   "id": "3e8461ab",
   "metadata": {
    "slideshow": {
     "slide_type": "slide"
    }
   },
   "outputs": [],
   "source": [
    "for line in my_text:\n",
    "    print(line)"
   ]
  },
  {
   "cell_type": "code",
   "execution_count": null,
   "id": "8d6f2a30",
   "metadata": {
    "slideshow": {
     "slide_type": "slide"
    }
   },
   "outputs": [],
   "source": [
    "# Write files: same logic. open the file in \"w\" (Writing) mode \n",
    "# and use the .write() method:\n",
    "\n",
    "file_content = \"just sitting here and writing files\"\n",
    "\n",
    "with open('myfile1.txt', 'w') as opened_file:\n",
    "    opened_file.write(file_content)\n",
    "# this is used if file_content is one single string"
   ]
  },
  {
   "cell_type": "code",
   "execution_count": null,
   "id": "8e82c272",
   "metadata": {
    "slideshow": {
     "slide_type": "slide"
    }
   },
   "outputs": [],
   "source": [
    "# OR use the .writelines() method\n",
    "# this is used if file_content is a list of strings\n",
    "file_content_list = [\"just\", \"sitting\", \"here\" , \"and\", \"writing\", \"files\"]\n",
    "\n",
    "with open('myfile2.txt', 'w') as opened_file:\n",
    "    opened_file.writelines(file_content_list)\n",
    "# be aware that the linebreak \"\\n\" is NOT automatically added!"
   ]
  },
  {
   "cell_type": "code",
   "execution_count": null,
   "id": "074368be",
   "metadata": {
    "slideshow": {
     "slide_type": "slide"
    }
   },
   "outputs": [],
   "source": [
    "# OR use the .writelines() method\n",
    "# this is used if file_content is a list of strings\n",
    "file_content_list = [\"just\", \"sitting\", \"here\" , \"and\", \"writing\", \"files\"]\n",
    "\n",
    "# adding linebreak \"\\n\"\n",
    "with open('myfile2.txt', 'w') as opened_file:\n",
    "    for word in file_content_list:\n",
    "        opened_file.writelines(word + \"\\n\")"
   ]
  },
  {
   "cell_type": "markdown",
   "id": "bd932578",
   "metadata": {
    "slideshow": {
     "slide_type": "slide"
    }
   },
   "source": [
    "# Syntax for reading in & writing files\n",
    "\n",
    "```python\n",
    "### READING\n",
    "with open(\"filepath\", \"r\") as opened_file:\n",
    "    my_text = opened_file.read() \n",
    "# .read() will give you 1 single string\n",
    "\n",
    "with open(\"filepath\", \"r\") as opened_file:\n",
    "    my_text = opened_file.readlines() \n",
    "# .readlines() will give you 1 string for each line\n",
    "\n",
    "### WRITING\n",
    "with open(\"filepath\", \"w\") as opened_file:\n",
    "    opened_file.write(my_text) # if text is 1 single string\n",
    "\n",
    "with open(\"filepath\", \"w\") as opened_file:\n",
    "    opened_file.writelines(my_text) # if text is a list of strings (each string will be on separate line)\n",
    "```\n",
    "\n",
    "Note: the default mode is `\"r\"` (reading), so you don't *need* to specify it when reading in files."
   ]
  },
  {
   "cell_type": "markdown",
   "id": "e4019c82",
   "metadata": {
    "slideshow": {
     "slide_type": "slide"
    }
   },
   "source": [
    "### Side note on string comparisons"
   ]
  },
  {
   "cell_type": "code",
   "execution_count": null,
   "id": "0b7a0816",
   "metadata": {
    "slideshow": {
     "slide_type": "slide"
    }
   },
   "outputs": [],
   "source": [
    "# statement with a comparison operator; evaluates to True OR False\n",
    "7 > 3"
   ]
  },
  {
   "cell_type": "code",
   "execution_count": null,
   "id": "65924b62",
   "metadata": {
    "slideshow": {
     "slide_type": "slide"
    }
   },
   "outputs": [],
   "source": [
    "# Can Python tell me whether ABBA is greater than the Beatles?\n",
    "\"ABBA\" > \"The Beatles\""
   ]
  },
  {
   "cell_type": "code",
   "execution_count": null,
   "id": "564a6fb0",
   "metadata": {
    "slideshow": {
     "slide_type": "slide"
    }
   },
   "outputs": [],
   "source": [
    "# comparing two strings == comparing their unicode order (case sensitive!)\n",
    "\"z\" > \"abc\"\n",
    "# \"word\" == \"word\"\n",
    "# \"Виктор Цой\" > \"Θεσσαλονίκη\"\n",
    "# max([\"monday\", \"marshmallow\", \"42\", \"pirate\", \"Astrid\"]) "
   ]
  },
  {
   "cell_type": "markdown",
   "id": "ef1518dc",
   "metadata": {
    "slideshow": {
     "slide_type": "slide"
    }
   },
   "source": [
    "If you're curious about string comparisons: See the [Introduction to unicode in Python](https://docs.python.org/3/howto/unicode.html#introduction-to-unicode).\n",
    "\n",
    "If you're not too curious:\n",
    "\n",
    "### Main takeaway: BEWARE when interpreting string comparison as alphabetical comparison (it is UNICODE comparison)"
   ]
  }
 ],
 "metadata": {
  "celltoolbar": "Slideshow",
  "kernelspec": {
   "display_name": "Python 3",
   "language": "python",
   "name": "python3"
  },
  "language_info": {
   "codemirror_mode": {
    "name": "ipython",
    "version": 3
   },
   "file_extension": ".py",
   "mimetype": "text/x-python",
   "name": "python",
   "nbconvert_exporter": "python",
   "pygments_lexer": "ipython3",
   "version": "3.13.7"
  }
 },
 "nbformat": 4,
 "nbformat_minor": 5
}
